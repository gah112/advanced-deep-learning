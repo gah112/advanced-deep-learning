{
  "nbformat": 4,
  "nbformat_minor": 0,
  "metadata": {
    "kernelspec": {
      "display_name": "Python 3",
      "language": "python",
      "name": "python3"
    },
    "language_info": {
      "codemirror_mode": {
        "name": "ipython",
        "version": 3
      },
      "file_extension": ".py",
      "mimetype": "text/x-python",
      "name": "python",
      "nbconvert_exporter": "python",
      "pygments_lexer": "ipython3",
      "version": "3.6.5"
    },
    "colab": {
      "name": "Copy of digits_classification.ipynb",
      "provenance": [],
      "include_colab_link": true
    }
  },
  "cells": [
    {
      "cell_type": "markdown",
      "metadata": {
        "id": "view-in-github",
        "colab_type": "text"
      },
      "source": [
        "<a href=\"https://colab.research.google.com/github/gah112/advanced_deep_learning/blob/master/mnist_digit_classification.ipynb\" target=\"_parent\"><img src=\"https://colab.research.google.com/assets/colab-badge.svg\" alt=\"Open In Colab\"/></a>"
      ]
    },
    {
      "cell_type": "code",
      "metadata": {
        "id": "SHB8wwhA2kBl",
        "colab_type": "code",
        "outputId": "6483d64b-6f54-40ff-a3e0-aff184fca53c",
        "colab": {
          "base_uri": "https://localhost:8080/",
          "height": 34
        }
      },
      "source": [
        "# set tf 1.x for colab\n",
        "%tensorflow_version 1.x"
      ],
      "execution_count": 0,
      "outputs": [
        {
          "output_type": "stream",
          "text": [
            "TensorFlow is already loaded. Please restart the runtime to change versions.\n"
          ],
          "name": "stdout"
        }
      ]
    },
    {
      "cell_type": "code",
      "metadata": {
        "id": "bdscn5_S2oiG",
        "colab_type": "code",
        "outputId": "f7f814fa-3838-48fd-91e5-1d5862610cad",
        "colab": {
          "base_uri": "https://localhost:8080/",
          "height": 302
        }
      },
      "source": [
        "!shred -u setup_google_colab.py\n",
        "!wget https://raw.githubusercontent.com/hse-aml/intro-to-dl/master/setup_google_colab.py -O setup_google_colab.py\n",
        "import setup_google_colab\n",
        "setup_google_colab.setup_week2()"
      ],
      "execution_count": 0,
      "outputs": [
        {
          "output_type": "stream",
          "text": [
            "--2020-03-31 00:40:11--  https://raw.githubusercontent.com/hse-aml/intro-to-dl/master/setup_google_colab.py\n",
            "Resolving raw.githubusercontent.com (raw.githubusercontent.com)... 151.101.0.133, 151.101.64.133, 151.101.128.133, ...\n",
            "Connecting to raw.githubusercontent.com (raw.githubusercontent.com)|151.101.0.133|:443... connected.\n",
            "HTTP request sent, awaiting response... 200 OK\n",
            "Length: 3636 (3.6K) [text/plain]\n",
            "Saving to: ‘setup_google_colab.py’\n",
            "\n",
            "\rsetup_google_colab.   0%[                    ]       0  --.-KB/s               \rsetup_google_colab. 100%[===================>]   3.55K  --.-KB/s    in 0s      \n",
            "\n",
            "2020-03-31 00:40:11 (44.1 MB/s) - ‘setup_google_colab.py’ saved [3636/3636]\n",
            "\n",
            "**************************************************\n",
            "inception_v3_weights_tf_dim_ordering_tf_kernels_notop.h5\n",
            "**************************************************\n",
            "cifar-10-batches-py.tar.gz\n",
            "**************************************************\n",
            "mnist.npz\n"
          ],
          "name": "stdout"
        }
      ]
    },
    {
      "cell_type": "markdown",
      "metadata": {
        "id": "YE1s9vat2kBr",
        "colab_type": "text"
      },
      "source": [
        "# MNIST digits classification with TensorFlow"
      ]
    },
    {
      "cell_type": "markdown",
      "metadata": {
        "id": "fRUYGIMw2kBs",
        "colab_type": "text"
      },
      "source": [
        "<img src=\"https://github.com/hse-aml/intro-to-dl/blob/master/week2/v2/images/mnist_sample.png?raw=1\" style=\"width:30%\">"
      ]
    },
    {
      "cell_type": "code",
      "metadata": {
        "id": "ATOUAbxW2kBt",
        "colab_type": "code",
        "outputId": "59f38202-8cd1-4dc7-8893-d19743a085a2",
        "colab": {
          "base_uri": "https://localhost:8080/",
          "height": 34
        }
      },
      "source": [
        "import numpy as np\n",
        "from sklearn.metrics import accuracy_score\n",
        "from matplotlib import pyplot as plt\n",
        "%matplotlib inline\n",
        "import tensorflow as tf\n",
        "print(\"TensorFlow Version: \", tf.__version__)\n",
        "\n",
        "import sys\n",
        "sys.path.append(\"../..\")\n",
        "import grading\n",
        "\n",
        "import matplotlib_utils\n",
        "from importlib import reload\n",
        "reload(matplotlib_utils)\n",
        "\n",
        "import grading_utils\n",
        "reload(grading_utils)\n",
        "\n",
        "import keras_utils\n",
        "from keras_utils import reset_tf_session"
      ],
      "execution_count": 0,
      "outputs": [
        {
          "output_type": "stream",
          "text": [
            "TensorFlow Version:  1.15.2\n"
          ],
          "name": "stdout"
        }
      ]
    },
    {
      "cell_type": "markdown",
      "metadata": {
        "id": "7TWltmow2kBy",
        "colab_type": "text"
      },
      "source": [
        "# Fill in your Coursera token and email\n",
        "To successfully submit your answers to our grader, please fill in your Coursera submission token and email"
      ]
    },
    {
      "cell_type": "code",
      "metadata": {
        "id": "dM7Nxrxf2kBz",
        "colab_type": "code",
        "colab": {}
      },
      "source": [
        "grader = grading.Grader(assignment_key=\"XtD7ho3TEeiHQBLWejjYAA\", \n",
        "                        all_parts=[\"9XaAS\", \"vmogZ\", \"RMv95\", \"i8bgs\", \"rE763\"])"
      ],
      "execution_count": 0,
      "outputs": []
    },
    {
      "cell_type": "code",
      "metadata": {
        "id": "31KrNC6y2kB3",
        "colab_type": "code",
        "colab": {}
      },
      "source": [
        "# token expires every 30 min\n",
        "COURSERA_TOKEN = \"\"\n",
        "COURSERA_EMAIL = \"\""
      ],
      "execution_count": 0,
      "outputs": []
    },
    {
      "cell_type": "markdown",
      "metadata": {
        "id": "zYYljg3O2kB7",
        "colab_type": "text"
      },
      "source": [
        "# Look at the data\n",
        "\n",
        "In this task we have 50000 28x28 images of digits from 0 to 9.\n",
        "We will train a classifier on this data."
      ]
    },
    {
      "cell_type": "code",
      "metadata": {
        "id": "ywykyCNJ2kB7",
        "colab_type": "code",
        "colab": {}
      },
      "source": [
        "import preprocessed_mnist\n",
        "X_train, y_train, X_val, y_val, X_test, y_test = preprocessed_mnist.load_dataset()"
      ],
      "execution_count": 0,
      "outputs": []
    },
    {
      "cell_type": "code",
      "metadata": {
        "id": "dzXWbf5v2kB-",
        "colab_type": "code",
        "outputId": "00b468ec-dd8b-45e9-cd74-f53232d1e117",
        "colab": {
          "base_uri": "https://localhost:8080/",
          "height": 681
        }
      },
      "source": [
        "# X contains rgb values divided by 255\n",
        "print(\"X_train [shape %s] sample patch:\\n\" % (str(X_train.shape)), X_train[1, 15:20, 5:10])\n",
        "print(\"Closeup of a sample patch:\")\n",
        "plt.imshow(X_train[1, 15:20, 5:10], cmap=\"Greys\")\n",
        "plt.show()\n",
        "print(\"Entire sample:\")\n",
        "plt.imshow(X_train[1], cmap=\"Greys\")\n",
        "plt.show()\n",
        "print(\"y_train [shape %s] 10 samples:\\n\" % (str(y_train.shape)), y_train[:10])"
      ],
      "execution_count": 0,
      "outputs": [
        {
          "output_type": "stream",
          "text": [
            "X_train [shape (50000, 28, 28)] sample patch:\n",
            " [[0.         0.29803922 0.96470588 0.98823529 0.43921569]\n",
            " [0.         0.33333333 0.98823529 0.90196078 0.09803922]\n",
            " [0.         0.33333333 0.98823529 0.8745098  0.        ]\n",
            " [0.         0.33333333 0.98823529 0.56862745 0.        ]\n",
            " [0.         0.3372549  0.99215686 0.88235294 0.        ]]\n",
            "Closeup of a sample patch:\n"
          ],
          "name": "stdout"
        },
        {
          "output_type": "display_data",
          "data": {
            "image/png": "[encoded data removed]",
            "text/plain": [
              "<Figure size 432x288 with 1 Axes>"
            ]
          },
          "metadata": {
            "tags": []
          }
        },
        {
          "output_type": "stream",
          "text": [
            "Entire sample:\n"
          ],
          "name": "stdout"
        },
        {
          "output_type": "display_data",
          "data": {
            "image/png": "[encoded data removed]",
            "text/plain": [
              "<Figure size 432x288 with 1 Axes>"
            ]
          },
          "metadata": {
            "tags": []
          }
        },
        {
          "output_type": "stream",
          "text": [
            "y_train [shape (50000,)] 10 samples:\n",
            " [5 0 4 1 9 2 1 3 1 4]\n"
          ],
          "name": "stdout"
        }
      ]
    },
    {
      "cell_type": "markdown",
      "metadata": {
        "id": "EvxL7pgd2kCC",
        "colab_type": "text"
      },
      "source": [
        "# Linear model\n",
        "\n",
        "Your task is to train a linear classifier $\\vec{x} \\rightarrow y$ with SGD using TensorFlow.\n",
        "\n",
        "You will need to calculate a logit (a linear transformation) $z_k$ for each class: \n",
        "$$z_k = \\vec{x} \\cdot \\vec{w_k} + b_k \\quad k = 0..9$$\n",
        "\n",
        "And transform logits $z_k$ to valid probabilities $p_k$ with softmax: \n",
        "$$p_k = \\frac{e^{z_k}}{\\sum_{i=0}^{9}{e^{z_i}}} \\quad k = 0..9$$\n",
        "\n",
        "We will use a cross-entropy loss to train our multi-class classifier:\n",
        "$$\\text{cross-entropy}(y, p) = -\\sum_{k=0}^{9}{\\log(p_k)[y = k]}$$ \n",
        "\n",
        "where \n",
        "$$\n",
        "[x]=\\begin{cases}\n",
        "       1, \\quad \\text{if $x$ is true} \\\\\n",
        "       0, \\quad \\text{otherwise}\n",
        "    \\end{cases}\n",
        "$$\n",
        "\n",
        "Cross-entropy minimization pushes $p_k$ close to 1 when $y = k$, which is what we want.\n",
        "\n",
        "Here's the plan:\n",
        "* Flatten the images (28x28 -> 784) with `X_train.reshape((X_train.shape[0], -1))` to simplify our linear model implementation\n",
        "* Use a matrix placeholder for flattened `X_train`\n",
        "* Convert `y_train` to one-hot encoded vectors that are needed for cross-entropy\n",
        "* Use a shared variable `W` for all weights (a column $\\vec{w_k}$ per class) and `b` for all biases.\n",
        "* Aim for ~0.93 validation accuracy"
      ]
    },
    {
      "cell_type": "code",
      "metadata": {
        "id": "RZor4Ro_2kCD",
        "colab_type": "code",
        "outputId": "8b434601-164e-4fa0-e2aa-41ea8695e9ae",
        "colab": {
          "base_uri": "https://localhost:8080/",
          "height": 50
        }
      },
      "source": [
        "X_train_flat = X_train.reshape((X_train.shape[0], -1))\n",
        "print(X_train_flat.shape)\n",
        "\n",
        "X_val_flat = X_val.reshape((X_val.shape[0], -1))\n",
        "print(X_val_flat.shape)"
      ],
      "execution_count": 0,
      "outputs": [
        {
          "output_type": "stream",
          "text": [
            "(50000, 784)\n",
            "(10000, 784)\n"
          ],
          "name": "stdout"
        }
      ]
    },
    {
      "cell_type": "code",
      "metadata": {
        "id": "KFABhCCo2kCH",
        "colab_type": "code",
        "outputId": "cda612e7-d753-499b-df43-d055bb358845",
        "colab": {
          "base_uri": "https://localhost:8080/",
          "height": 84
        }
      },
      "source": [
        "import keras\n",
        "\n",
        "y_train_oh = keras.utils.to_categorical(y_train, 10)\n",
        "y_val_oh = keras.utils.to_categorical(y_val, 10)\n",
        "\n",
        "print(y_train_oh.shape)\n",
        "print(y_train_oh[:3], y_train[:3])"
      ],
      "execution_count": 0,
      "outputs": [
        {
          "output_type": "stream",
          "text": [
            "(50000, 10)\n",
            "[[0. 0. 0. 0. 0. 1. 0. 0. 0. 0.]\n",
            " [1. 0. 0. 0. 0. 0. 0. 0. 0. 0.]\n",
            " [0. 0. 0. 0. 1. 0. 0. 0. 0. 0.]] [5 0 4]\n"
          ],
          "name": "stdout"
        }
      ]
    },
    {
      "cell_type": "code",
      "metadata": {
        "id": "8spVtmMT2kCK",
        "colab_type": "code",
        "colab": {}
      },
      "source": [
        "# run this again if you remake your graph\n",
        "s = reset_tf_session()"
      ],
      "execution_count": 0,
      "outputs": []
    },
    {
      "cell_type": "code",
      "metadata": {
        "id": "LzO-juCG2kCN",
        "colab_type": "code",
        "colab": {}
      },
      "source": [
        "# Model parameters: W and b\n",
        "weights = tf.Variable(dtype=\"float32\",initial_value=np.zeros((784,10)),name=\"weights\")\n",
        "bias = tf.Variable(dtype=\"float32\",initial_value=np.zeros(10),name=\"bias\") # 10 possible digits to classify"
      ],
      "execution_count": 0,
      "outputs": []
    },
    {
      "cell_type": "code",
      "metadata": {
        "id": "dWDr03PN2kCQ",
        "colab_type": "code",
        "colab": {}
      },
      "source": [
        "# Placeholders for the input data\n",
        "input_X = tf.placeholder(dtype=\"float32\",shape=[None,784])\n",
        "input_y = tf.placeholder(dtype=\"float32\",shape=[None,10])"
      ],
      "execution_count": 0,
      "outputs": []
    },
    {
      "cell_type": "code",
      "metadata": {
        "id": "UQs0zTSG2kCU",
        "colab_type": "code",
        "colab": {}
      },
      "source": [
        "# Compute predictions\n",
        "logits = input_X @ weights + bias\n",
        "probs = tf.nn.softmax(logits)\n",
        "classes = tf.argmax(probs,axis=1)\n",
        "\n",
        "# Loss should be a scalar number: average loss over all the objects with tf.reduce_mean().\n",
        "# Use tf.nn.softmax_cross_entropy_with_logits on top of one-hot encoded input_y and logits.\n",
        "# It is identical to calculating cross-entropy on top of probas, but is more numerically friendly (read the docs).\n",
        "loss = tf.reduce_mean(tf.nn.softmax_cross_entropy_with_logits(logits=logits,labels=input_y))\n",
        "\n",
        "# Use a default tf.train.AdamOptimizer to get an SGD step\n",
        "step = tf.train.AdamOptimizer().minimize(loss)"
      ],
      "execution_count": 0,
      "outputs": []
    },
    {
      "cell_type": "code",
      "metadata": {
        "scrolled": false,
        "id": "EaV43irz2kCW",
        "colab_type": "code",
        "outputId": "780df758-4e37-46a9-f8f0-cab448f68c29",
        "colab": {
          "base_uri": "https://localhost:8080/",
          "height": 309
        }
      },
      "source": [
        "s.run(tf.global_variables_initializer())\n",
        "\n",
        "BATCH_SIZE = 512\n",
        "EPOCHS = 40\n",
        "\n",
        "# for logging the progress right here in Jupyter (for those who don't have TensorBoard)\n",
        "simpleTrainingCurves = matplotlib_utils.SimpleTrainingCurves(\"cross-entropy\", \"accuracy\")\n",
        "\n",
        "for epoch in range(EPOCHS):  # we finish an epoch when we've looked at all training samples\n",
        "    \n",
        "    batch_losses = []\n",
        "    for batch_start in range(0, X_train_flat.shape[0], BATCH_SIZE):  # data is already shuffled\n",
        "        _, batch_loss = s.run([step, loss], {input_X: X_train_flat[batch_start:batch_start+BATCH_SIZE], \n",
        "                                             input_y: y_train_oh[batch_start:batch_start+BATCH_SIZE]})\n",
        "        # collect batch losses, this is almost free as we need a forward pass for backprop anyway\n",
        "        batch_losses.append(batch_loss)\n",
        "\n",
        "    train_loss = np.mean(batch_losses)\n",
        "    val_loss = s.run(loss, {input_X: X_val_flat, input_y: y_val_oh})  # this part is usually small\n",
        "    train_accuracy = accuracy_score(y_train, s.run(classes, {input_X: X_train_flat}))  # this is slow and usually skipped\n",
        "    valid_accuracy = accuracy_score(y_val, s.run(classes, {input_X: X_val_flat}))  \n",
        "    simpleTrainingCurves.add(train_loss, val_loss, train_accuracy, valid_accuracy)"
      ],
      "execution_count": 0,
      "outputs": [
        {
          "output_type": "display_data",
          "data": {
            "text/html": [
              "<img src=\"data:image/jpeg;base64,/9j/4AAQSkZJRgABAQEASABIAAD/2wBDAAIBAQEBAQIBAQECAgICAgQDAgICAgUEBAMEBgUGBgYFBgYGBwkIBgcJBwYGCAsICQoKCgoKBggLDAsKDAkKCgr/2wBDAQICAgICAgUDAwUKBwYHCgoKCgoKCgoKCgoKCgoKCgoKCgoKCgoKCgoKCgoKCgoKCgoKCgoKCgoKCgoKCgoKCgr/wAARCAEgA2ADASIAAhEBAxEB/8QAHwAAAQUBAQEBAQEAAAAAAAAAAAECAwQFBgcICQoL/8QAtRAAAgEDAwIEAwUFBAQAAAF9AQIDAAQRBRIhMUEGE1FhByJxFDKBkaEII0KxwRVS0fAkM2JyggkKFhcYGRolJicoKSo0NTY3ODk6Q0RFRkdISUpTVFVWV1hZWmNkZWZnaGlqc3R1dnd4eXqDhIWGh4iJipKTlJWWl5iZmqKjpKWmp6ipqrKztLW2t7i5usLDxMXGx8jJytLT1NXW19jZ2uHi4%2BTl5ufo6erx8vP09fb3%2BPn6/8QAHwEAAwEBAQEBAQEBAQAAAAAAAAECAwQFBgcICQoL/8QAtREAAgECBAQDBAcFBAQAAQJ3AAECAxEEBSExBhJBUQdhcRMiMoEIFEKRobHBCSMzUvAVYnLRChYkNOEl8RcYGRomJygpKjU2Nzg5OkNERUZHSElKU1RVVldYWVpjZGVmZ2hpanN0dXZ3eHl6goOEhYaHiImKkpOUlZaXmJmaoqOkpaanqKmqsrO0tba3uLm6wsPExcbHyMnK0tPU1dbX2Nna4uPk5ebn6Onq8vP09fb3%2BPn6/9oADAMBAAIRAxEAPwD9/KKKKACiiigAooooAKKKKACiiigAooooAKKKKACiiigAooooAKKKKACiiigAooooAKKKKACiiigAooooAKKKKACiiigAooooAKKKKACiiigAooooAKKKKACiiigAooooAKKKKACiiigAooooAKKKKACiiigAooooAKKKKACiiigAooooAKKKKACiiigAooooAKKKKACiiigAooooAKKKKACiiigAooooAKKKKACiiigAooooAKKKKACiiigAooooAKKKKACiiigAooooAKKKKACiiigAooooAKKKKACiiigAooooAKKKKACiiigAooooAKKKKACiiigAooooAKKKKACiiigAooooAKKKKACuN%2BOP7QHwm/Zx8JW/jT4veJ5dPtL7U4dN0u2stLub%2B91K9lDGO1tLO0jluLudlR2EUMbvtR2xhWI7KvFv2u/gP8VPiX4h%2BGfxl%2BBd14fl8X/CrxjPrWmaJ4tu57bTdYhudLvdMubaW4ghmktH8q9aSOdYZtrR7TGyu2ACjpH/AAUr/Y71rxm3w8tvHviCDW7fSodU1bTtR%2BHOvWkmi2EhuAt3qXn2SDTIAbWcNLdmFEKYYqWUGbwn/wAFH/2NfGfg/wAQ%2BOtM%2BLFza6f4Y0e11fVBrnhPVdMuJNPuXMdreWtvd2sU19bzyAxwy2ySpM5CRlmIB86vP2GPjP8AHW0/aRP7Qt74V8My/tB/CPTvBskfgrWLrUzo7RWusWsr%2BbcWtqZ1VNRiZDsXeyygogxuy9Y/Y2/at%2BM%2Btaz8UP2lPh38G9X1e0%2BE6eBtB8E6d4n1QaRrSy6jaXt5fXd2bBJ9PYmyg%2BzxQw3BtnDP50hIwAeyX/7fP7N2k%2BAbH4h6tdeOLSHVPED6Jpeh3Xwj8SR67e3yW5uXjh0dtPGoShYAZTIluUCKzFsA49P8JeOfDfjbwTY/EPRbi5i0rULBbyCTVNPnsZY4iu7MsFykcsDAfeSRVZSCGAIIr41tv2Gf2tJfgpJ4W8feGPCnjS%2Bh%2BIcut%2BC9B1n9ofxXb3fgOxOmxWoi0/xbHp7atcSGUXcreZDGBHeGENsjGfUvB/7Bmq%2BKfgJo3hb9pz46%2BOPEfj5PhtdeFtf8Q6T8Q9at9Muhc2tzbyTPpa3SWN5MiXTBbq4tmmdoopWKuibADc8Mf8FJP2MvF/h7xJ4s0b4tXK6Z4W8GXni6/vr7wlqtpFe6BaruuNU09p7VBqtogK5nsvPQmSMAkyIG4n40f8FdP2YfAf7M/wATf2gfhW%2Bs%2BM7v4b%2BDYfEjeGW8L6xps2r2Nw7R2t3avNYFrixlkRh9vgjmtkVWdnCqSPHfC/8AwSh%2BNC/BPxf8LPFnh3w9J4h/4UL4j8A%2BC/Hmo/tD%2BNvECSXGpWEdp5h0jVUkttGtpDDE8scEl0yeVGqFggz6P%2B1L/wAE5vih%2B0BYeKtE0Pxj4d0q2179le%2B%2BGlrLM87GDVpLiOWGdo1iANqNhBIbzBnhO9AHqkv/AAUU/ZZt/E3hrwJeav41tvEni7TpdQ0HwpefCTxLDq8tnFd/Y5LmSwk08XNvCkxG6SaNEVGWUkRsrmXwN/wUT/Y7%2BJGqarpXhD4tyXB0rQ9Q1lbufw1qVvaapp1iwS8u9NuZrdYdVhhYqHeyedVLqCfmGcXwR8APjz4x/apsf2oPjn4f8HeH5JPg5f8Ag/VNE8J%2BK7vVTBcy6tHcpJDcz6fZl4mgiUsTGjJIdoV1USHwGb9hz9pf4bfs8%2BF/Cnxo1rwIPCP7N3wP8SaB4L1PwrfXcmpeKd2hHTLe4vbeW2ii04JZozSQxS3QknZXDxqgQgH0D4U/4Kl/sL%2BNPBus/ELQ/jLdrouheDj4tutRv/BmsWcdzoIKB9Vs/PtEN/ZxmRBJPbCWOLcPMZc167a/GD4c3vxcuPgVZ%2BIxN4qtPDUGv3emRWsrCHTp55beGd5QnlL5ksE6ohfe3kyEKQjEfFX7I/7P3xC8WfBL4Q/Hb9t/Uvhlovww%2BG/7L9z4fgk07W5wmr6bqmnaWby%2B1X7VBDDpkEVppyq0CS3CZleRplWNVrsP%2BCK3wr8d6P8As76n8evit4tbxFrHjW%2Bg03w54hlgaOS%2B8I6JF/ZWiXBD8/6VDDNqhPd9WcgKCFAB9lUUUUAFFFFABRRRQAUUUUAFFFFABRRRQAUUUUAFFFFABRRRQAUUUUAFFFFABRRRQAUUUUAFFFFABRRRQAUUUUAFFFFABRRRQAV4jpH/AAUY/Y91K716z1P4pXnh5vDnhy58QahJ418I6roMc2k27pHPf2smpWsC31ujyRK0tsZUBljGcuufab2K5ms5YbO6EEzxMsUxj3%2BWxHDbT1wecd6/MTV/%2BCOX7cvxf1bwvrnxu%2BOOhvrfhrwfqFnqHijUPit4m8TjxDrf2zSr611E6XfRQ2Wk20lzpi%2BfYWQCiOTassgVAoB9sv8At/8A7MNr8NG%2BLGseIPFWlaW2uQaNY2eufDLX7DVNTv5kMkMFlptxYpe37SIGdfs8MgZUdgSEYjovAf7VnwP%2BI%2Bv2XhPw54h1SHV7/wAKT%2BJIdI1rwrqWmXaabDd/ZJZZYby3ikgdZ/kMMirL32bea8m%2BJ3wc/bd%2BMTfD342654N%2BFWh/EP4UeOptY8P%2BGbXxxqV/ouuWdxpN3plzHcXz6VDNYzFL2SSN0tbgRmIKfMEjYq/En4Dftwa/8ZfDv7TXgfRvhXaeLL74Yar4L8Y6FqXivUpLDSFuL%2BG6tb%2ByuE04SagYhG6yW8sVoJS4xLFjkA7jSf8Ago3%2ByB4j17wL4W8K/EbVdZ1P4k%2BDdK8W%2BDdO0TwPrN7PeaHqL7LXUZEgtGa1t92PMknEa24ZTN5QYE7Hw1/bc/Zu%2BK/xGufhP4Z8X6tZ6/b6Xc6nDZeJ/BmraIt/Y28iRz3dlLqNrBHfwRvLEHltmkRfMQkgMpPlH7Cn7CXxY/Zh1/4caz488QeGrs%2BDv2UvCPwxv30i5nlZtW0t5muZovMgj3Wrb02MxV22/NGmBXjXw0/4JV/tjeJ/ij4X8TftTfGGz1SLT/AHivwv408TQfF/xJrV54il1exS2/tO10y%2Bhj0/QjlSxtLRSi5UCZxGq0AfUvhP/gov%2ByP410WPxVoPjvXP7DuNV0vT9P8AEt78P9btdK1GXUr2OyspLS%2Bns0tryCW5mijFxBI8IMqFnCsCfS/C3xd%2BHnjX4geKfhd4X8Q/a9c8FyWcfie0S0mC2Ml1B9ogjMrII3doSshRGZkWSMsFEibvmHxx4E%2BIvhX/AIJ7eNPgR/wUM8T/AAq8EeAtB%2BGkWgW3xM8O%2BLbsM06RpbWupPaXVnAmmzLMLeSGCO4umM5REcnaG7X/AIJX/D74seG/2RNK%2BKv7RVglv8TvixfS%2BOviJCtu0X2e/v1jMNpsb5k%2By2MdlZ7TkgWuDQB9G0UUUAFFFFABRRRQAUUUUAFFFFABRRRQAUUUUAFFFFABRRRQAUUUUAFFFFABRRRQAUUUUAFFFFABRRRQAUUUUAFFFFABRRRQAUV57%2B1dafAO9/Z38V2/7UEnhdfAh03OvnxrPBHpe0SKYhcNcERbTMIwA5wW2jnOK%2BcP2V/2kv2HZv8Agjf8PNd%2BNvxU8D6/4G8N/AHQZvHNgdSt9RiWC0sLWG4gmt42cyFbhRA0JUkynyipY7SAfaNeL/Hrx/8AtF/8NF%2BBfgR8BfGfgrw%2Bmv8AgrxLr2r6n4v8F3etEnTrvQ7eGGGO31Kx8sN/akrMzM%2BfLQALyTxn/BKcfDjUfgF4h8cfCbW/BkOgeKPHl3q2m%2BB/AOu2d/pngeGS1tEj0dWsne3in2RreXEMR8tLm/n2F0KyPNrfiz4oj/gql8PvDXjvwX4e07RJfg14%2BPhbUtK8TT3l3fqmq%2BDzIbm3ksoEtCARhUmuA2WyybRuTaW5cISqO0ezf3as6/8A4Qf/AIKF/wDR0HwZ/wDDD6t/81FH/CD/APBQv/o6D4M/%2BGH1b/5qK9mopkHjP/CD/wDBQv8A6Og%2BDP8A4YfVv/moo/4Qf/goX/0dB8Gf/DD6t/8ANRXs1FAHjP8Awg//AAUL/wCjoPgz/wCGH1b/AOaij/hB/wDgoX/0dB8Gf/DD6t/81FezUUAeM/8ACD/8FC/%2BjoPgz/4YfVv/AJqKP%2BEH/wCChf8A0dB8Gf8Aww%2Brf/NRXs1FAHjP/CD/APBQv/o6D4M/%2BGH1b/5qKP8AhB/%2BChf/AEdB8Gf/AAw%2Brf8AzUV7NRQB4z/wg/8AwUL/AOjoPgz/AOGH1b/5qKP%2BEH/4KF/9HQfBn/ww%2Brf/ADUV7NRQB4z/AMIP/wAFC/8Ao6D4M/8Ahh9W/wDmoo/4Qf8A4KF/9HQfBn/ww%2Brf/NRXs1FAHjP/AAg//BQv/o6D4M/%2BGH1b/wCaij/hB/8AgoX/ANHQfBn/AMMPq3/zUVr%2BM/iv%2BzR8KLaHUv2g/iZ4G8N3Gr6nqC6fN4z1qzs2vFguCjCI3LrvEatECFzt3LnG4ZwP%2BGv/APgnB/0dF8Ef/C20f/47XPPF4SlLlnUin2cop/c5J/gexheHeIcdQVfDYKtUg9pQo1pxdnZ2lGlKLs9HaTs9HroWP%2BEH/wCChf8A0dB8Gf8Aww%2Brf/NRR/wg/wDwUL/6Og%2BDP/hh9W/%2Baiq//DX/APwTg/6Oi%2BCP/hbaP/8AHa9D8DS/A/4oeFrXxz8NJPCniLRL7f8AYtY0Jra7tbjY7Rvsli3I%2B10ZDgnDKQeQadLE4atLlp1IyflKL/JszxuR55llJVcZhKtKLdk50qsE3va86cFeyel76PTQ4T/hB/8AgoX/ANHQfBn/AMMPq3/zUUf8IP8A8FC/%2BjoPgz/4YfVv/morih%2B3z%2Bx7o3iX4keH/iJ4F1nw7H8OPiDaeELrUbr4Y6pNbanf3UWnm3S1lhsmSaSWbUIoUhjLyOAsqqYpY3bvdI%2BPf7MWr/EPQ/hbL4U1XS9Y8SW8Umhp4i%2BFmraXbXkj2RvhardXllFB9rFsskj2hkE8fkzK8atFIq7nllf/AIQf/goX/wBHQfBn/wAMPq3/AM1FH/CD/wDBQv8A6Og%2BDP8A4YfVv/morjvCv7fX7DWq6Z4TXX9T0yHUvFHhLw74gI0fwXqt7p1lZ63I8OnTzXx06JLWCaeKWNJbtbY5Ub0jLBa9i1zW/gVoHgzxF4%2BuIPD1xpnhSG7k8QT2NvBObI2sZknjcIDtkRRkocMMjjmgDjv%2BEH/4KF/9HQfBn/ww%2Brf/ADUUf8IP/wAFC/8Ao6D4M/8Ahh9W/wDmorA/ZW%2BPTfHPxRdeBfiz%2BzHofgfWpPBWj%2BL9Es7TV49VW50jUWuUjWZ/skHkXkL2zLPAoljXzYjHPKC22LxB8dPEPw6%2BO0Xwm%2BKv7Lvg%2By07XtJ8Q6j4L1TQ/FIvru7g0oROz31o%2BnwiySWOaMq8c1yEd0jfazrkA6T/AIQf/goX/wBHQfBn/wAMPq3/AM1FH/CD/wDBQv8A6Og%2BDP8A4YfVv/morwvwv/wUY8Oa7%2BwTN%2B3HN8IfgfPbPf8Ahe1t9N0H4xJfWOmvq9/YWjrq9/8A2RGNNe1%2B3rJKoimwsT528GvQPiP%2B0brngP8AZy8F/tC6L%2Bz38LPFllr/AIo0rTvEE/hP4jC702ys9Q1aDTobuxvf7KH9pNm5jcxmK3XIdfMO0MwB2n/CD/8ABQv/AKOg%2BDP/AIYfVv8A5qKP%2BEH/AOChf/R0HwZ/8MPq3/zUVx/in9qDw3pH7d6fsV6Z8NfhNA6eGtG1mS88U/EFNM1fUY7641KJ49M0sadN9vaBdOLv%2B/iH75Ado%2BYx/ED9qGH4CfE7UvDf7R/7NvhTRPDS%2BDfFHinRNc8N%2BIhqt5Jpmh%2BQ9xLe2T2FuLTfDcRsnlzXChyI3ZWZdwB2n/CD/wDBQv8A6Og%2BDP8A4YfVv/moo/4Qf/goX/0dB8Gf/DD6t/8ANRXCeDf2uNI0zRfGcH7SH7MGkeD/ABN4V8L6D4gtPDfh/VY9ZbVrXWpbq1020hke1tf%2BJhJe2U9obcKyCUxbZnWQMOOk/wCCi/ggfCL4VeJb/wCCfwv8M%2BL/AImaNqWpvo/xA%2BJUGjaJpMVhdQ2k8Z1U6fI08zz3MCQxJahpQZW%2BQRMSAe2f8IP/AMFC/wDo6D4M/wDhh9W/%2Baij/hB/%2BChf/R0HwZ/8MPq3/wA1Fchd/tV%2BA739rNP2VfC/gD4WC/02Sxg8S/8ACS%2BPYNO1F7q4tkvHt9J08WUr6o0NrLBNIzPbpieMKzHeE8x8O/8ABUn4TX3iD4iWet/s8eGja%2BAvC3iXWbzTvD3iWC/13T20m/jso7HWNOa0hGkXV80m%2B0QzzCVI5WLKEJoA99/4Qf8A4KF/9HQfBn/ww%2Brf/NRR/wAIP/wUL/6Og%2BDP/hh9W/8Amori9M/ams9D8L%2BONG%2BMH7M3h7SPiN4P1XTNMsfBXh3W01O31%2B61SFH0xLW8ksrZsSytJDIzwKIPs08jboU808N4a/4KH%2BG/Gtz8A7DSPgd8JtCufjf8JNL8bw2/j/4nJpDWzXgsz/ZliF0uY6ncr9q4AEG/y%2Bi7uAD23/hB/wDgoX/0dB8Gf/DD6t/81FH/AAg//BQv/o6D4M/%2BGH1b/wCaiuN/4aq0P/hoD/hAv%2BGbtE/4QL/hZP8AwgH/AAnP9qp9r/t7%2Bzftv/IP%2Bybfse//AEPz/tHmfaOPI8r99UPwx/ba%2BB3jzxv8YYtd%2BEmm6J4I%2BFugabrWn%2BN5PLnHiOxuJdUt5biG2SAMiLcaTcJCVaQ3SvHJGAsibgDuP%2BEH/wCChf8A0dB8Gf8Aww%2Brf/NRVDwP44/as8HftWeHPgj8bviP8PfE2jeJvh74h1yGbwr8PL7Rbq0utNvtEt0VnuNXvkljdNUlJUIjBokIbGQY/wBl/wCMMH7S37Ml/wDGvW/gLbfD/XLPW/Emk3GgfbIru40650nVLzTyWniijG8tabyqgqhYoHkC720/HH/KQv4X/wDZGfHn/p28IUAezUUUUAFFFFABRRRQAV84/CbxV%2B3f8ddH17x34X%2BN/wAJNA0u3%2BIXirQ9L0q/%2BD%2BqX9xFa6Xr1/pkLS3CeIoFlkeOzV2ZYo13OQFAAr6Orxn9g/8A5Ihrn/ZZviP/AOprrdAB/wAIP/wUL/6Og%2BDP/hh9W/8Amoo/4Qf/AIKF/wDR0HwZ/wDDD6t/81FezUUAeM/8IP8A8FC/%2BjoPgz/4YfVv/moo/wCEH/4KF/8AR0HwZ/8ADD6t/wDNRXs1FAHjP/CD/wDBQv8A6Og%2BDP8A4YfVv/moo/4Qf/goX/0dB8Gf/DD6t/8ANRXs1FAHjP8Awg//AAUL/wCjoPgz/wCGH1b/AOaij/hB/wDgoX/0dB8Gf/DD6t/81FezUUAeM/8ACD/8FC/%2BjoPgz/4YfVv/AJqKP%2BEH/wCChf8A0dB8Gf8Aww%2Brf/NRXs1FAHjP/CD/APBQv/o6D4M/%2BGH1b/5qKP8AhB/%2BChf/AEdB8Gf/AAw%2Brf8AzUV7NRQB4z/wg/8AwUL/AOjoPgz/AOGH1b/5qKP%2BEH/4KF/9HQfBn/ww%2Brf/ADUV7NRQB4z/AMIP/wAFC/8Ao6D4M/8Ahh9W/wDmoo/4Qf8A4KF/9HQfBn/ww%2Brf/NRXs1FAHjP/AAg//BQv/o6D4M/%2BGH1b/wCaij/hB/8AgoX/ANHQfBn/AMMPq3/zUV7NRQB4z/wg/wDwUL/6Og%2BDP/hh9W/%2Baij/AIQf/goX/wBHQfBn/wAMPq3/AM1FezUUAeM/8IP/AMFC/wDo6D4M/wDhh9W/%2Baij/hB/%2BChf/R0HwZ/8MPq3/wA1FezUUAeM/wDCD/8ABQv/AKOg%2BDP/AIYfVv8A5qKP%2BEH/AOChf/R0HwZ/8MPq3/zUV7NRQB4z/wAIP/wUL/6Og%2BDP/hh9W/8Amoo/4Qf/AIKF/wDR0HwZ/wDDD6t/81FezU2aaK3iaeeVURFJd3bAUepJ6UAeN/8ACD/8FC/%2BjoPgz/4YfVv/AJqKP%2BEH/wCChf8A0dB8Gf8Aww%2Brf/NRXUeIv2rf2XPCF4%2BneLP2kvAOl3Ef34NR8Y2UDr9VeUEVgXn/AAUA/YTsM/af2zvhWCOqp8QNOYj8FmJrmljcFB2lVivWUf8A5I455hl9N2nWgvWcF%2Bcit/wg/wDwUL/6Og%2BDP/hh9W/%2Baij/AIQf/goX/wBHQfBn/wAMPq3/AM1FZ2qf8FPf%2BCeujoXu/wBsTwE4H/Prr8U5/KMtXPXH/BYv/gmjbSmGT9rLQyR1MdheuPzWAg1hLNsqh8WIgv8At%2BP/AMkc888ySn8WKpr/ALiQ/wDkjsv%2BEH/4KF/9HQfBn/ww%2Brf/ADUUf8IP/wAFC/8Ao6D4M/8Ahh9W/wDmorz7Vv8AgtZ/wTI0hFLftQWt07nEcOn%2BG9UuHY%2BmI7Y4/HFcv4g/4LxfsJaHG09tF4/1GJRkS2fge4RWHqDMY/1rGefZJT3xMP8AwJP8rip57k1ap7OliIzl2g%2Bd/dBTf4HtP/CD/wDBQv8A6Og%2BDP8A4YfVv/moo/4Qf/goX/0dB8Gf/DD6t/8ANRXy9qH/AAcnfsJ2cjQ23w1%2BKlyQcZj0HT1H/j9%2BCPyqpaf8HJv7IupXQs9J%2BAvxVupD92ODS9Pdj%2BC3hrlfFXDidvrUPx/%2BRPZjhsxnHmjhMQ13WFxbX3/VLfifVn/CD/8ABQv/AKOg%2BDP/AIYfVv8A5qKP%2BEH/AOChf/R0HwZ/8MPq3/zUV86Qf8F1fD/iGNW%2BH/7Afx31lmHyBPCqAH6GN5Kg1D/grX%2B25r%2BYPhh/wR0%2BKk24fu7rxCbqyQe%2B02OGH/AxVviTJmvdqOX%2BGFSX5QOZSxEpcsMPWb7ewrJ/%2BTQpn0l/wg//AAUL/wCjoPgz/wCGH1b/AOairf7K3xG%2BNPjDWPih4E%2BOmv8AhfVtU8A/EKLQ7PVfCfhq50m3urWXQdH1NWe3uL28ZZFk1GVCwl2lY0O1TnPy5pH7cP8AwWu8RSbtK/4JbaTCjH5F1DxMluQPczXCfyFevf8ABMvxR8dfGcnxz8S/tK/DOx8HeNrn4zQ/214c07UY7uGz2%2BEvDiw7ZY5JFfdCsTnDHBcjjGB1YLNcPj6jhThNaXvKnKK%2B%2BSSv5FtYqE%2BWtQnT/wASS/KpPX5I%2BoKKKK9MoKKKKACiiigAooooAKKKKACiiigAooooAKKKKACiiigAooooAKKKKACvlz9oXWv7L/4K0fsy2O/H9pfDL4mW2PXEnhibH/kL9K%2Bo6%2BMP2z9YbR/%2BCxn7FpZsR3fh/wCJ1tIf96w0cqP%2B%2BlWuXGT9nQ5vOP4yiv1Pd4bw31vNPZd6dd/%2BA0K0v/bT7PooorqPCCiiigAooooAKKKKACiiigAooooAKKKKAPPvEPwD%2BBXxx0m2/wCF1fBbwl4w/svVdT/sz/hKfDlrqH2TzLt/M8rz428vd5ce7bjdsXOcCsf/AIYH/YV/6Ms%2BEv8A4bnTP/jFZXxz/bn/AGWf2LtJ0j/hpf4o/wDCNf8ACS6rrH9i/wDEkvrz7T9nu/33/HrBLs2%2BfF97Gd3GcHHnP/D83/gll/0dF/5ZOuf/ACFXj4rFZBTruOJnSU%2BvNyc22l7q%2B34GkePa%2BSr6nHNpUFD7CxNSmo31%2BCNaCV730ir3vre563/wwP8AsK/9GWfCX/w3Omf/ABivQ/A3gHwJ8L/C1r4G%2BGngrSfDuiWO/wCxaPoWmxWlrb73aR9kUSqibndnOAMsxJ5Jr5h/4fm/8Esv%2Bjov/LJ1z/5Cr6H%2BBnxz%2BFn7Snws0v41/BTxT/bXhnWvP/szU/sM9t53kzyQSfu50SRcSxSL8yjO3IyCCdMFiclrVXHBypuVvscl7f8AbqTtt5ClxnW4iX1aeZSxKXvcrrzqpW05uWVWaVr2va%2Btr66%2BQeJv2F/Fev8AxL8U%2BIIPjPpsHhnxL8YPDfxFOiSeEJJL221LS49JieAXn20RvBNHpMeB9nDxPMzb5FUJXN%2BIf%2BCY8viH9tvTv2vrv4peHZG0v4ip4rtRd/DtJ/ECqNFfSzpA1lrvMenDzGuEt47dNshO5nyTXqh/bO%2BGA8dD4ZDQNfPiA/FF/Ap0kWsHmi%2BXSDrJuj%2B%2BwLQ6fi4Emd2HVdm87K8gj/4KwfDv4n%2BEtY/4UVplsnibwx8SPh7ofiLSNZ1rSdVji0/xH4qtNGadZdE1K6hWYRtfbY3lWSKWGNpYSjqJPUIJPBX/AASyHg/4E6l8FR8dPtB1D4OeBPAf9qf8Ixs8v/hG5r2X7b5f2k5%2B0fbMeVuHleXnfJuwPpfXfBEvjvwZ4i8A/Eq6s9R0zX4LuxeCxsntiunzxmMwuWlk3ybWYGRdgORhFxz8u/GL/gqZF4E/Z68b%2BNvht8LfEfjTxX4Y8M%2BNdanTTvDtvDZaJa6Lqmo6bDdahFJqQkkge4sJFAtZJLidIJpVgg5jj%2BpfAPjSHxlpCTPa3UV3Da2rXxk0y4ggaSW3jm/cSSqEnQCQAtGzhWDIxDqwAB49%2Bzr%2ByJ8W/grrFz428Y/tAaV4s8SR%2BFNA8JaLqUngh7OG20LTbiaVhNCt85mv7hbiUSXKvFEHSBltgsbxys%2BGv7Kv7Q3g39pHx/8AtAeLf2hPBviRvF63FpoqXnwyukv/AA9pS7jYaXDc/wBsNCbeJz50222je6lZ3Zk/drFz37Iv7Y3xs%2BMvj7wIfifpvhZfDfxl%2BGmq%2BOfh9BoOm3MF5otjZ3mmxraX8stzKl5LLb6vaS%2BbFHbqjwzIUYFGPVfEv4zftBfC79qzwB8PbnxB4I1rwz8RPEV3YWPhKw8OXkWvabYW2mTXM%2BrSXpvXhlhjuI4IXT7JEo%2B3QKJjIUSQAh8HfsuftD%2BF/Fvjn43XXx88DXHxH8ZaToGkx6hB8K7mHQrOx0qe9mi36d/a7Tz3DnULkGY3qhQsAVAI2EnLeMv2APjHqH7ME3wI8A/tGeFtK1nW/icPG/izxBqfwznu7K4vRrMWseTZWEOq25softEManfPOzIZCzGSQyih%2BzD%2B3r4v1HwV4t8Z/teeM9I0XVfD2jzarL8Prb4Q654f1W1tVvJYIngfUruUa0spEESPZxKrTTIgJaREp/w7/ap/a18d/st%2BMPiv41HhbwT4p8HfEnUdK1bTtJ%2BFut%2BNPIsImVY7VLDS72O6u7pGmiWS4hJjIilkECIcxgHoHxq/Zk%2BN/wAfp/Dvhrx/8bvCMXhTTta8Pa3rljpPw4ni1S81LSr2C/Vra9l1SRLOCS5t4/kNvNLHE0iLOWYSLzWjfsJ/E7xB8Rvi5r/7QPxy8MeM9C%2BLekajoN9bQ/D65sdX0rw/NHJDbaRbXp1WaBIIUlkdytorTzSPK5BKhfNIv%2BCo3jHX5vh1ouqeJPBvw7udT%2BEGgePfHeq6t4P1TxPYQQ6pc3FvFDHLptxFFp1ur2V0Zb%2B7laGHzLdSrlmYe1%2BIPjN%2B0F4B/bE8GfBzXvEHgjX/AA/49uNXe38PaJ4cvLbWfDumWdm8y6pdXb3ssVzAbgW1oyi2gxLqEO132MGAOc8Nf8E4bHxnf3viv9r34uX3jzxI9r4fs9J1vwbJqfg2Swt9GTURZuH0/UmnNyz6tqEksqzJHIZUCwxiJRXLeHf%2BCUDfDH4W%2BDfCXwh%2BONvH4h8LeEvE/ha68Q%2BO/Dt34kjvdJ124t57uNIbrUlkglRrS3EZ894gDMGhcSnbqfsTftO/tR/tOfBO9h8Y/ELwToHxck8MaJqdx4M1r4JeINCbwo91uNwbi21DUhNq0G5JYop7dreJpLZx5jZwi6T%2B1f8AtFeJf2WNf%2BMtl4y8KwT%2BE/HGq6RJ4q8P/BjX/FFj4psbSUwrd2GlabqH2yJTNviZ/OuYwbaVgTGyuoA8/wDBMHTdF8VWVt4F%2BK9vY%2BEZ9V8Ear4qsNR8L/bNb1O%2B8Km0/s6SLVPtKC2R1sLRJla3mZlE3lvC0zMM1P8AglZe%2BINEvPAPxK/aBTUfDdl4M8V%2BHfB39keERZavZR67dw3U11fXr3UyahPDJBEyFYLdHkBklWV8EU/D37enx51z4k/C%2B78fXXhf4eeB/GPwt8E%2BIdQ1K7%2BHWr%2BIrG71rWLq8ju9Hh8Q2V5FptgUEVlHDLOsgke9RlEgKoes%2BD/7WHxm8SftN%2BNfhN8V/EOiaBDY61rVp4B8JXnwl1uwu9ftbNI2jurbW7m8%2Bw6idpdpIbaEuqjJ2hSSAXdI/wCCdfh/x3rOp/Ej9rD4j6h4t8cah4ittVtvEPw/1HWPBUemfZtNfToYrZdP1RrhR5M94XMlzJva9mwFTai87bf8E2viDov7C/hH/gnj4d/aL0seAdN%2BGNp4O8Y6jrXgy81LW9URI/LnubC7n1UrphYFjBG0V0lniMQ4SJEFv9in9o/9pr9qP4CXJ8S/FbwVoHxbXw/oeo6r4W1j4E%2BINGbwpJdxmSaK60/UdWjub%2BJmjuYYbqKSCIvbyEGXYyDz6x/bp/bOuP2fvh18YdQ1HwhFpnjPxj4kF5440L4FeI9esbTwzZm5Gl6k%2Bnafqbz24u1hinMz3DRJHcoCAQTQB63rf7Al54h%2BM93r2q/F6NvhxfeP5PG9z4Ei0CSK9OtvpZsGA1NLsFLTcTeCJYBMLjkXAj/dVgeDv%2BCP/wCy/wCEfGnim7XW/Htz4U1/wp4W0bTPCs3xX8UFtGOh39zfWs0F22qtKmyWS1MKJ5f2b7M4jOLmVTJ4s/bJ%2BJmj/tW%2BGfBMnxL8KaT8KtZ8E%2BEdT0vxzN8Jta1LT/FOparqGp281pb61b3yafpZaO303yFufOZ31KPHm5VTL%2Bz1%2B3XqHx4/ae13wCfiB4b0fQLHxn4i8LaJ4Vu/AOrDUNUvNGnmtbqRNbedNPabzLa4m%2BwRwyTLahJWcZYKAdp%2BzZ%2ByV4e/Y1/Z%2B8ZfDXw54317X4dY8UeJ/EjXniDXdQv5Yv7Svrm8S3D311cP%2B6SVI3kDjz5EkuHUSzyE2vHH/KQv4X/9kZ8ef%2BnbwhXqXjn/AJEnWP8AsFXH/otq8t8cf8pC/hf/ANkZ8ef%2BnbwhQB7NRRRQAUUUUAFFFFABXjP7B/8AyRDXP%2ByzfEf/ANTXW69mrxn9g/8A5Ihrn/ZZviP/AOprrdAHs1FFFABRRRQAUUUUAFFFFABRRXOeM/jB8JPhxE83xD%2BKXhzQUjUtI%2Bs63BahQO5MrriplOEFeTSXm7fnYidSnTjzTaS7tpfm0dHRXy540/4LC/sUaNrr%2BDvhd4k8Q/FLXkP/ACBPhb4ZuNXlYeqyKFhYfSQ1ln/gov8AtReLxj4Pf8Epvi7es/8AqP8AhNLqz8PAntuMzPs/HpXmyzrK1JqNTmf91Sn/AOkRkvxPIlxDkyk4wq87X8ilU/8ASIyX/kx9b0V8jf2h/wAFpfi6c2vh/wCC/wAIdPk%2B8L26ute1SH6eXi2bHv3pR/wT1/a5%2BIX7z4//APBVX4nXQfl7f4caXZ%2BGFT/ZV4BISB0yRk1P9pV6n8HDVJecuWC/8mlf/wAlF/a%2BJq/7vg6svOXLTX/k8ub/AMlPrisrxL468EeC7OTUfGPjHStJt4V3TT6nqMUCIvqWdgAPrXy8P%2BCL/wCyTrZ3fFXxj8UvHbn77%2BLviVfTFz6nyWirn/FX/BO7/giL%2BzjONQ%2BJvgbwBoEtud/l%2BL/Htyxc9cGK7vG8zP8Ad2nPpU1MXm0I80qVOC7yq/5QS/E6cJS4uzOuqODwUZTe0VOdSX/gNKjJv5HoXxE/4K%2Bf8E6fhtq39g6h%2B0xpWr3mSDD4UsrnV1AHUmSzikjwP96udf8A4LbfsC3C%2BR4c8W%2BLdZvX4t9M0z4fao09w391A8CqT9SKyPC//BTX/gl18F9/gP8AZb8OvrlzGAr6H8IPhrPIW9OYoY4nz6hzWs//AAUG/a5%2BIw8j9nr/AIJa/EqczcQXvxJ1G08Nxxj%2B%2B6Ss7EDrtBye1eY82ryfu4qm32p0p1PxUnf52PtafhP4vSgqmLpU8JF63rxhQSXe%2BJxNKbXn7L5dBE/4KLftSfEQ%2Bd%2Bzt/wSv%2BKWs2p/1d1491Sy8LCQdmUXJkLKeoPpTj8a/wDgsb4r%2BTw/%2BxL8L/CZf7r%2BKfiQ1%2BI/94Wagn8Kavw4/wCCyPxkP2jxb%2B0X8Lfg7Zyf6u08F%2BFJNevUX%2B7K98wi3%2B8ZxTv%2BHXnjvxv%2B8%2BPn/BR346%2BJd3%2BustD8RxaJZTeoaC3jbj2DCj/hXr6x9s/X2NFfdackX/xDrKsN/wAjbiumpdY4anOu15J06EKf3VZLz6mZ4o0X/grncWP274t/tk/AP4U2cn3r7w74bnvTCPb%2B1HVGI9zivIfGx/Z00hnuf2iP%2BDgjx5f6gmfOX4ceM7LTEU9x9n09LjafbqK%2BhPDH/BGb/gnZoF9/bOs/Al/EupHHm6j4r8R3%2BoSS/wC8skxjP/fFev8Agb9kP9lP4ZhP%2BFe/s1%2BA9GdMYm07wlZxSE%2BpdY9xPuTmj%2ByMyrfxLf8Ab9WtP8I%2ByiL/AFa8HcN/vGIzHGvzdKhF/wDgVWpL58t/I/NyX4g/8E%2B9TmZPh/8A8FMP22PGs6Habjwx4h1Sdt3oDJYRg/yppnfWf9G%2BHXjD/gp/r0bfclju/JhP1nkQbf8Avmv1nhhht4lgt4ljRBhERcBR6ADpTqP9Wpy%2BKrFf4YS/9ursPYeD9D%2BDw/Un/wBfMwxH4qjCmvx%2BZ%2BS3/Cgv2qfEv7zTf2fv21tet26L4u/aRsdPZv8AeQwZH50qfsB/HHxjKsXin/gkz4q1xAdyy/Eb9q9buDd2LRWpjc/niv1ooo/1Twkvjqyf/bsP/blMPrnh5D%2BHwtg3/wBfKmOq/ep4tJ/ONvI/NPw3/wAE3/2q3s1sfDP/AAT%2B/Y68LW3dvFVrqet3SD2fDBj/ALxxXQWX/BJL9pzWMPqHjH9mvwkzdf8AhF/2a9JvSn0N4gJ/Gv0MorpjwxliVpcz%2BaX/AKTCP5nZDi3BYZWwWSZbRttbAUZv76zrX%2BaPg3S/%2BCLfjadw/iz9tTaT98%2BD/g5oGhn8DBE22ul0/wD4Io/CB4wvi39rX486wD963l8fJBb/AEWOG3XaPbNfZtFbx4cyaP8Ay6v6yk//AG5fkdEfEbiyirYadKiu1LC4Ol/6Rg7/AHNHyNZf8EP/APgnzIwbxj4E8T%2BJyDk/2/471J8n1IimjBrs/DP/AASe/wCCcvhMKNL/AGRfCUuzp/adtJe/n9od8/jX0NRXRDJcnpu8cPC/%2BFP80zOt4k%2BIVel7KWbYlQ/ljWqQj8o03Tivkked%2BGP2Q/2T/BRU%2BDv2Y/h7pRT7rad4MsYSPfKRA5967zTNI0nRbYWWjaXb2kK9IraBY1H4KAKsUV3U6NGirU4qPokvySPmMZmeZ5jLmxdepVf9%2Bc5/%2BlzkFFFFanCFeM/sv/8AJb/2jv8Ass1j/wCoV4Xr2avGf2X/APkt/wC0d/2Wax/9QrwvQB7NRRRQAUUUUAFFFFABRRRQAUUUUAFFFFABRRRQAUUUUAFFFFABRRRQAUUUUAFfBf8AwUv1X%2Bwv%2BCq37D%2Bq7tu7VfGFrn/rv/YcWPx3V96V%2Bdf/AAWPvJdH/wCCgn7E3iCPhLLx5qJuG/uxPqnhuNj/AOP15mcS5MtnLtyv/wAnpn3HhvQWJ40wtB/bVaP34XF/5I/RSiiivTPhwooooAKKKKACiiigAooooAKKKKACiiigDK8H/wDIJm/7Ct9/6Vy1q1mTeEtGmuJLlTeQtK5eRbXUp4VZj1bajgZPc45pP%2BEP0n/n71X/AMHl3/8AHaANSisv/hD9J/5%2B9V/8Hl3/APHaP%2BEP0n/n71X/AMHl3/8AHaAPL/Ev7DPwV8W/tO6n%2B1Trtxrcusav4Cm8K3uiJqCppjRSnbJfiNUEi3xgAtvPEnEKhAo5J4jwP/wS1%2BE3hGNhrPxu%2BI/iSVbfwJaWUut3umL9is/CWt/2zpNrElpYQxrH9oJSYlTJJGT86yfvK%2Bh/%2BEP0n/n71X/weXf/AMdo/wCEP0n/AJ%2B9V/8AB5d//HaAPnbx7/wSt%2BDnjLwTrXgXRvjN8R/C9t4o0jxLo/i258Oanp6T61pmt6pe6ncWczT2UoRIrjULryJIRFMiSspkfcxb6G8J%2BFZvCcMtinifUL602QR2Npepb7LGOKBItkZiiR2DFDIxkZzvdtpVNqK//hD9J/5%2B9V/8Hl3/APHaP%2BEP0n/n71X/AMHl3/8AHaAPIPhN%2BwZ4G%2BC%2Bu3Ov%2BCvi743Etp4a1Dw/4DivJ9Omi8Dabe3Md1PbaYpssMhlt7Qj7Z9qKrZwRg7E2m7on7HK6B%2B1drv7Wlj%2B0d8QH1HxDDa2t94YuodEn0yOwt4isdhA8mmG8t7bzGe4ZIrlS80jOxOQB6l/wh%2Bk/wDP3qv/AIPLv/47R/wh%2Bk/8/eq/%2BDy7/wDjtAHktj%2Bwl8M/EPibUfFP7RvjLW/jO994efQodP8AijpejXNhZ6c93Bdy26Wlpp9tDLvntbSRpJ0lkzaxYcbec/4d/wDBO74S/ALwlrnhH9kzxlrPwej8ReMbnxDqtx8PNA8PwNK8ybPsnl3WmTwi2jAHljy/MTGBJgkH2r/hD9J/5%2B9V/wDB5d//AB2j/hD9J/5%2B9V/8Hl3/APHaAPBPEv8AwTC%2BBGt%2BBLH4ZaH428Z6BoTeBF8F%2BLrHSdRtXPjDQhLNK1lqMtzbTSkM91elpbZ7eX/TZwHAYBem8Dfsaf8ACA/tKeLP2l9O/aU%2BIV3e%2BNJ1Os%2BHtSi0OaxW3it3htbKGX%2BzBewWtuZHmjhS5C%2Bc8kj7zLL5nqv/AAh%2Bk/8AP3qv/g8u/wD47R/wh%2Bk/8/eq/wDg8u//AI7QB4d4k/4J82Pjbwx42sPG37WXxa1LxF438KweGp/Ha3ujWeraTpMc7zva2Qs9MhtYvNaSQSStA8zK4AkUpGU6LR/2T/F/hj4R6L8IvBv7YnxJ0ODQsw2OqaPo3hW3mWxESRRWAhXRPskcEQQGMxwJKuSPMK4Uen/8IfpP/P3qv/g8u/8A47R/wh%2Bk/wDP3qv/AIPLv/47QB45qf7AngW98CeE/gpYfGLx3p/w18J6VpFhH8N7S505tP1OPTpUlgN1cy2T6g5ZoovN8u7jWQR4YEPJv3b39k9PEHxjs/jH43%2BP3jzXpdDutRu/Bug350qKw8NXV5by2rz2wtrCKaZ0t554Yzdy3AVZX4JOa9G/4Q/Sf%2BfvVf8AweXf/wAdo/4Q/Sf%2BfvVf/B5d/wDx2gDy3w3%2BxpZaTB471bxP%2B0J8QvEnirx94Rj8NXnjnVZtLg1LS9PiW78hLJLGwt7SF45L65mEjW7s0jrvLqiIux4m/ZpMnwt8M/B34PfHDxl8MdD8LaNHpNjD4Hj0otLYxwJBFAzahY3XliNIwFeHy3GT83THdf8ACH6T/wA/eq/%2BDy7/APjtH/CH6T/z96r/AODy7/8AjtAHkOsfsH%2BBtS8LeEPhJYfFrxrpnw08F6fodnp3wt0%2BbThpNxFpDwvZLNPJZNqDANb2%2B5Fu0SQQhWUq0ge34c/Yg%2BHPhr412fxftfHfiqWx0nxZqfinQPA01xZjRtK13Ube5t73UoQlst00sqXt8SktxJCrXszLGpKlfU/%2BEP0n/n71X/weXf8A8do/4Q/Sf%2BfvVf8AweXf/wAdoATxz/yJOsf9gu4/9FtXl3jj/lIX8L/%2ByM%2BPP/Tt4Qr1E%2BDNDfCztfTJkExXGrXMiN7MrSFWHsQRXl3jj/lIX8L/APsjPjz/ANO3hCgD2aiiigArxD9v7xJ4i0L4J6NpGieK9S0C08SfEvwr4f1/XNH1CSzurPTr7WrS2uBFcxMr2zzLJ9mEyMrx/aNyMjhWHt9ZvjHwZ4P%2BInha/wDA/wAQPCmm67omqWzW%2Bp6PrFjHdWt5Cww0csUgKSIR1VgQaAPlPwhF%2B0D44/Y1%2BK/wv%2BC/j/XtV1Hwv8V9S0DwlrN74qk/tXUdFtdUt2u7CPVLhzJ9rERv9Niu5ZPMSSKNnl3o0lcD4C%2BJOmX3wT%2BKmmfH5fjHpml%2BDfjc3hz4T%2BDdM%2BMOov4p1m5m0LS500htT07UWkv5xf3V%2BNr3k0NusbCaQJZu0f2Pb/s1/s52ngt/hva/AHwVF4dk0P8AsWTQI/Ctmtk2m%2BY0n2IwCPyzb73d/Kxs3Oxxkk1m%2BIf2Of2RfF3gHRPhT4r/AGV/hxqfhfwzO83hvw3qPgewnsNKkcMHe2t3hMcDMHcEoqkh2z1NACfB9Pjf8K/2UfCdt8YLG/8AHvxD0PwVp0PimLQJ7RbjWdVjt41uWhkupLaAlpQ7bneJW64XIWuT/wCCdOrX%2Bvfs3X2t6r4YvtEubz4t/EOa40fU5IHubF28Z60TDK1vLLCXQnaTHI6ZB2swwT7J4U8J%2BFfAfhqx8F%2BB/DOn6No%2Bl2qW2maTpNklvbWkCDCRRRRgJGigABVAAHQV5T%2Bwf/yRDXP%2ByzfEf/1NdboA9mooooAKKKKACiuX%2BMHxs%2BEvwA8E3PxG%2BNHxC0vw1olqP3t/qt0I1ZsEhEH3pHODhEBZugBr5H/t79qD/gq/P9n8G3GvfCH9neR8S63tNv4j8dQ55EAPNlZOP4zkup/jDMicGLzCnhpqlBc9V7QW/q3tGPeUvkpPQ8vHZpSwlRUKcXUrS2hG1/WT2hFdZSsuiUnofXPj742fBr4U273fxP8Aiz4a8OxxoXdtc1y3tcADOf3rrXyrqP7V/wC09/wUF12bwJ/wT3gk8G/DqC5MGu/HjxDpZP2oK2Hi0e0lAMzcEGZwFHI/dkKzegeBP%2BCQv/BN/wCHrrPpP7Kfh%2B/lB3PL4hmuNUMjdywu5ZAcn2x7V9EaPo2keHdJttB8P6VbWNjZwLDZ2VnAsUUEajCoiKAFUAAAAAACuaVDNMZ7teSpw6qDk5Py52lyrvyrme11ucssNnOYe5iZxpU%2Bqpyk5y8udqPKu/IuZ7KUVqfKH/DojwB40PnftF/tZfG/4kF/9dYa74/lgsD6hLe2VNgPoGrpPB3/AAR%2B/wCCbHgZ1l0j9k/QLl1Od2tXV1qO4%2BpF1NID%2BWK6P9pX/goh%2By7%2By7qkfg3xh4zm1zxhcsI9P8BeD7Q6lrN1IRlUFvEf3ZPYylAexNeXJ4p/4KtfteOD4N8L6J%2Bzf4NnOV1TxFCms%2BJ7iPsy2vEFtkZBSXEinGCa4alLh%2BjWdOnQVWquij7SS/xSk5KP/b0l6H3mU%2BECxGDhmWOoUcJhpaxr4p8qmu9KM/a163/cKlKN/to%2BqfB/gT4e/C3w%2BNA8AeDdG8OaVbruFlo%2BnRWdvGAOuyNVUAD2ryj4w/8ABSj9hL4EtJb/ABF/ag8Kx3cJIk07Sr7%2B0bpW/umC0Esin6qK85h/4JBfCPx5Kt/%2B1d%2B0D8Vvi/MWDS2PivxpPBpobr%2B7tbUx%2BWuedu8ivbvg9%2Bx7%2Byv8AFjb4Nfs%2B%2BEvD08QAW/sNEhF0cdN1wymVvxY13RlnFSKjTpQpL%2B83J/%2BAwUY/wDkx9FHAeF%2BURUauLxGMa%2BzQpQw1P09pXdSpbzjQj5LoeHH/gp/8Q/ip/o/7IH/AAT/APit47EnFtrfiCyj8OaRNnoyXV2TuHc5VTQvgX/gsX8dD5viv42fDP4I6ZLytp4S0BvEGqIvdJZLsiAN23RnjrX1zRVf2biK3%2B84icvKNqa/8lvL/wAnK/11yjLtMmybD0n0nW58ZU9f37jRT9MO1%2BB8kH/glDF47/fftIftx/HDx7v/ANfpbeMP7N0yT1/0W2QbfwfpXafDP/glT/wTy%2BE7pceGP2UvC11Oh3fafEVu%2BrSF/wC9uvWlwc85GPbFfQdFXTybKqcub2MW%2B8lzP75uTOXF%2BJXHuMoOg8xqwpv7FJqhD/wDDxoR%2B%2B/qUvD/AIa8OeE9MTRfCugWWmWcX%2BrtNPtUhiT6KgAH5Vdoor0klFWR8TOc6s3Obbb3bbbfq22382wooopkhRRRQAUUUUAFFFFABRRRQAUUUUAFFFFABRRRQAUUUUAFeM/sv/8AJb/2jv8Ass1j/wCoV4Xr2avGf2X/APkt/wC0d/2Wax/9QrwvQB7NRRRQAUUUUAFFFFABRRRQAUUUUAFFFFABRRRQAUUUUAFFFFABRRRQBzHxo0Pxb4j%2BFut6R4F%2BJWpeD9Vksy9p4j0iytLi5sijB2Mcd5DNAzMqsn7yNwN%2BcEgV4Cn7TXxltv8Agkv4D/aRXxLBL498V/Dfwe0/iC60%2BLy4NT1gafbSag0CKsREct41wYgqx/JtwF4r6K%2BI3w/8P/FTwTqHw%2B8VXOrw6dqkIiu5NB8Q3ulXYUMGxHd2MsVxCSQATHIpIJU5BIPBeCP2JP2c/AHwRb9m/RvDWu3ngc%2BGX8Pr4c8Q%2BOtY1aCPTSAogT7ddysgRQFjZSGiVVWNlUAAAzf2RPGvxLu/FfxY%2BCnxN%2BI194ym%2BG/jy20vS/Feq2Nnb3t9aXWiaZqapdLYwQW/nRyXsseYoYwYlhJXcWZvi7/gtH8TvDfiH9pn4Rx6TpniGC8%2BHqaje39zqvhHUbG0cnxH4RQNbXVzBHBegbjlrd5AuRuI3Ln9Dfgx8C/hp8APDV14V%2BGWlX0MOoanJqOqXmr67eapfahduiI09zeX001xcyeXFFGGlkYqkUaDCoqj4Y/4L5Wk8nhzT9WtFzPpfwi8RXsHs0fi3wJk/wDfJavKz3/kTYh9oN/dZ/off%2BFTX/ES8ni9p4inD/wY5U3/AOnD9FaKisruG/s4b63bMc0SyRn1UjI/nUterufAtOLswooooEFFFFABRRRQAUUUUAFFFFABRRRQAUUUUAFFFFABRRRQAUUUUAFFFFABRRRQAUUUUAFFFFABRRRQAUUUUAFFFFABXjPjj/lIX8L/APsjPjz/ANO3hCvZq8Z8cf8AKQv4X/8AZGfHn/p28IUAezUUUUAFFFFABRRRQAV4z%2Bwf/wAkQ1z/ALLN8R//AFNdbr2avGf2D/8AkiGuf9lm%2BI//AKmut0AezUUUUAFfKvx%2B/wCCgvibxF8SLv8AZV/4J/eC7X4i/EuE%2BXrmsyykeH/CAJKmW%2BuV4eRSDiBCWJVgfmXy2j/4KFfHL4i%2BM/FGif8ABPP9l3WTb/EP4i2zSeI9dt8n/hEvDgO25v3II2yOMxRDIJJOCrGMn3P9nL9m74QfsqfCrTvg/wDBbwjbaVpVhColeONfOvpgoDXFw4AMsr4yWPsBgAAePWrYnHYiWHw0uWEdJzW9/wCSHS6XxSd%2BW6STlt4NfEYvMsVPCYSfJCGlSotXd68kL6KSVnKTvyXSScvh8T%2BD/wDwTA8HyeNLb46/trfEO/8AjZ8RIvngvPE0SjR9IYkMUsdOH7mNQQMFgeVDBUJNfUyIkaCONAqqMKoGAB6VR8VeKvDPgbw3feMfGev2elaTplq9zqGpahcLFBbQoMs7uxAVQOpNfGWp/GL9o7/gqRqtx4J/Za1bV/ht8C452g134sPbtBq3ilVO17fSEcBoYTgqbhgD1HBVomJSwOTxVKhDmqT2itZyfeUnd2XWcnZeton3fB/Af9oUqtem44bCUmnWxFS/LFvZN6zrVpJPkpQ5qk%2B1OClOPqf7R/8AwUj%2BEHwY8Zj4IfCzw/qfxT%2BKU5K2vw%2B8EKJ54GHVrycAx2aLkbi%2BWUENs281wp/Z9/4KXftcjzv2mP2gbP4L%2BE7j7/gb4SSCXV5Yj/BcarJkRv1B8gMjA8ivff2bf2Tf2f8A9knwb/whPwG%2BHNlosEuGv70AyXmoSD/lpcXD5kmbJJ%2BY4XOFCjivRqFgMVjPextTT%2BSDcY/9vS0nPz1jHsrH1UuLch4c/dcMYNOa/wCYrEwhVrN96dJ8%2BHw6/l9yvVWjdRPbyn9mn9iX9mP9kjTHtfgf8K7HTr64UjUPEF1m51O%2BJOWM11LukbLZbaCEBJwor1aiivToUKGGpKnSioxWySSX4Hw%2BZ5rmedY2eMzCvOtVnvOcnKT9XJt2XRaJLRJLQKKKK1OAKKKKACiiigAooooAKKKKACiiigAooooAKKKKACiiigAooooAKKKKACiiigAooooAK8Z/Zf8A%2BS3/ALR3/ZZrH/1CvC9ezV4z%2By//AMlv/aO/7LNY/wDqFeF6APZqKKKACiiigAooooAKKKKACiiigAooooAKKKKACiiigAooooAKKKKACiiigAr4Q/4LQaL/AG9pl5Y7N3l/s3%2BPrnH/AFx1vwZNn/xyvu%2Bvj3/gpro3/CQeJNS0lU3NJ%2ByX8WWiX1dZ/CzL/wCPAVw5nD2mW1494T/9JkfU8DYn6nxtldf%2BXE4d/wDlej/mfS/wI1r/AIST4H%2BDfEW/d9v8Kadc7vXfbRtn9a6uvJ/2DdZ/4SH9iH4P6yX3NP8ADHQjKf8AbFhCG/8AHga9YrbCT9phKc%2B8Yv74xf6nm8Q4b6lxBjMP/JWrR/8AAatWP/toUUUV0HkBRRRQAUUUUAFFFFABRRRQAUUUUAFFFFABRRRQAUUUUAFFFFABRRRQAUUUUAFFFFABRRRQAUUUUAFFFFABRRRQAV4z44/5SF/C/wD7Iz48/wDTt4Qr2avGfHH/ACkL%2BF//AGRnx5/6dvCFAHs1FFFABRRRQAUUUUAFeM/sH/8AJENc/wCyzfEf/wBTXW69mrxn9g//AJIhrn/ZZviP/wCprrdAHs1eb/tb/tLeDf2Rv2fvEXx38aL50WkWmNP05GxJqN652W9rH1O6SQqMgHau5jwpr0ivi1v%2BNi3/AAUD8v8A4%2Bvg/wDs6atlv4rfxB4z29PR0slP4SH%2BJZa87MsTUoUlTo/xaj5Y%2BT6yflFXk/RLqeVm2MrYahGlh/41V8sPJ2u5P%2B7CN5P0ivtHof8AwTr/AGYPGXwo8H6v%2B0J%2B0LKL74wfFSdNX8cXsqYOnIVzb6VECT5cVvGQhUEjcCMlUTHuHxS%2BJ/gT4LfDzWPit8TfEUGk6DoNi93qeoXBO2KNR2A5ZicKqgFmYhQCSBW/0618P63JJ/wVg/abfwhZu037O3wk1wHWp0OYPHfiKLkWwPSSyt8gt1Vyf4g6MmFWUMpwkMNhlzVJaRT6y3lOT3sruU38lq4o%2B44E4QwWMUnipulgMLH2mIq6OVm9IxvpKviJ3hTT3lKU5Wp0pNJ4S%2BGHxg/4Kv8AiOw%2BL/7SOh6l4P8AgDZ3KXngv4YTSGK98XbTui1DVdpysB4aOAHBGDkjEkn2zpOk6VoOl22h6HptvZWVnAkNpZ2kKxxQRKAqoiKAFUAAAAYAFTRxxwxrDDGqIigKqjAAHQAU6urBYGGETlJ81SXxSe7/AMor7MVol3d29%2BJuKsTxDKnQpU1QwlG6o0IN8lNPdtvWpVnZOrWnec5fywUKcSiiiu4%2BVCiiigAooooAKKKKACiiigAooooAKKKKACiiigAooooAKKKKACiiigAooooAKKKKACiiigAooooAK8Z/Zf8A%2BS3/ALR3/ZZrH/1CvC9ezV4z%2By//AMlv/aO/7LNY/wDqFeF6APZqKKKACiiigAooooAKKKKACiiigAooooAKKKKACiiigAooooAKKKKACiuO/aD%2BM2hfs7/A7xZ8c/EmmXV9Z%2BFNAudSk0%2Bx2%2BfeNFGWS3i3EL5kjBY13EDc4yQMmuG%2BGP7VHjjWND%2BJWmfF74JDR/GnwwtY7zVfC3hDXn1xNTtprH7ZbPZTvbWryvJtmg8toUImgcAshR2APaq%2Bav2vNF/4ST9o/RvD2zd9v/Zq%2BJ9tt9d954UXH61e/YK/bxt/224vEj2XhrwqkPh%2Bz0q5/tnwJ48HiPSpHvoppDYPdfZLbytQthEpuLXY3lLc253t5hC7XxMsIdV/b4%2BG%2Bl3A/d3PwS8fxSf7rar4QB/nUVYe0pSh3TX3pr9TqwOIeExtKuvsTjL/AMBlGX/tpj/8Eoda/t7/AIJzfCK%2B37vL8IxW2f8Ari7w4/8AHK%2Bha%2BUv%2BCJF/Nd/8EzPhxZ3f%2Bv099Ys51z91o9XvFA/75219W1wZNP2mT4eXenD/wBJX%2BR9Z4l4dYTxGzmito4rEf8Ap6o//bgooor0j4kKKKKACiiigAooooAKKKKACiiigAooooAKKKKACiiigAooooAKKKKACiiigAooooAKKKKACiiigAooooAKKKKACvGfHH/KQv4X/wDZGfHn/p28IV7NXjPjj/lIX8L/APsjPjz/ANO3hCgD2aiiigArxD9v7xJ4i0L4J6NpGieK9S0C08SfEvwr4f1/XNH1CSzurPTr7WrS2uBFcxMr2zzLJ9mEyMrx/aNyMjhWHt9ZvjHwZ4P%2BInha/wDA/wAQPCmm67omqWzW%2Bp6PrFjHdWt5Cww0csUgKSIR1VgQaAPlPwhF%2B0D44/Y1%2BK/wv%2BC/j/XtV1Hwv8V9S0DwlrN74qk/tXUdFtdUt2u7CPVLhzJ9rERv9Niu5ZPMSSKNnl3o0leVfCjx38Uvip8RrX9mL4h638SfBfw%2BP7QetaHpyXnxSu5NfktbXwZaaomkz67ZX0s8jLqE2ozMIryRlFj9maRkhlQ/b1v%2BzX%2BznaeC3%2BG9r8AfBUXh2TQ/7Fk0CPwrZrZNpvmNJ9iMAj8s2%2B93fysbNzscZJNR6n%2BzB%2BzTrXwltvgFrH7PHga78CWbq9n4KufCVnJpMDK5dSlm0RhUh2ZgQvBJPU0AcL%2Bxl8XviN4r/YG8B/F7xFpGs%2BOten8IQToNOktI77xEi/JDdq1zNBb%2BZcRBJyzSRofMJBAIFJ/wTp1a/wBe/Zuvtb1XwxfaJc3nxb%2BIc1xo%2BpyQPc2Lt4z1omGVreWWEuhO0mOR0yDtZhgn27TtO0/SNPg0nSbGG1tbWFYba2t4gkcMagKqKq4CqAAABwAK8f8A2D/%2BSIa5/wBlm%2BI//qa63QBY/b3%2BP3/DMP7HnxA%2BNVtdeTf6V4elj0Vgef7Qnxb2uB3/AH8sZIHYGov2Af2eLf8AZc/ZC8DfCGWwWHVLbRYrrxI5HzzapcDzrp3bqx812UE87UUdABXkn/BQ7Px5/ag%2BAH7E1r%2B%2BstU8Wv418aQjlRpekoXiilH/ADznnYp/vIOlfTnxb%2BKHhL4J/C/xB8XfHl99m0bw3pE%2Bo6jKMbvKiQuVUH7zHG1V7sQB1rx6coVc0rYib92lFQT6Jv35v5LlT9DyMtw9fNuJZqjFzlDkowSV25zalJJd25UofgfPH/BST40ePda/4R39gn9nXVTB8Rfi6Xt7rUYck%2BHPD65F7qT45UlA8cfILHftO9VB98%2BBXwT%2BH/7Ofwi0D4J/C7R1sdD8O6elrZxADdJjl5ZCAN0juWd2/iZmPevn7/gmf8JPGXiy217/AIKC/HywC%2BPvjEsd1p1k5LDw/wCHBg2OnxZHy7kCSuRjcSm4blJP1dTy2E8TOWPqqzmrQT%2BzT3Xo5fHL1ivsn65xrisPkuGpcJ4GalTw0nKvOLuq2La5ajTXxU6Cvh6PR8taov4iYUUUV65%2BdBRRRQAUUUUAFFFFABRRRQAUUUUAFFFFABRRRQAUUUUAFFFFABRRRQAUUUUAFFFFABRRRQAUUUUAFFFFABXjP7L/APyW/wDaO/7LNY/%2BoV4Xr2avGf2X/wDkt/7R3/ZZrH/1CvC9AHs1FFFABRRRQAUUUUAFFFFABRRRQAUUUUAFFFFABRRRQAUUUUAFFFFAHHftCfBnQ/2ifgb4s%2BBniTVLqws/FegXOmyahY7fPs2ljKpcR7gV8yNisi7gRuQZBGRXlvh79jT4maj4f%2BJlt8Y/j7YavrPxc0afSvF%2Bt%2BFvCM2jva2g00WNmmnK1/cG1aLfczs8jTmSW4JXylRUH0HRQB4p%2By9%2Byx43%2BCvjzxD8U/ij8U9E8S69rnhTQfDUS%2BF/BZ0GwttO0k3zW5Nubu6L3DNqE%2B%2BTzFTYkKJFGEO7Dv8A4R/CjwN/wU28F%2BPfBPwx8PaPrvif4PeOJfEutaVosFvd6s8ereEvLa5mjQPOV3vguWI3HHU19D14z44/5SF/C/8A7Iz48/8ATt4QoA8x/wCCM3/Ev/ZR13wh0/4R74q%2BJtO2f3dt8z4/8iV9aV8l/wDBJ7/iWW/7Q3g9uP7J/ad8VLCvpC5tnQ/jlq%2BtK8nItMoorsmvulNfofoHip73iJmNT%2BecZ/8Agyjh6n/uRhRRRXrH5%2BFFFFABRRRQAUUUUAFFFFABRRRQAUUUUAFFFFABRRRQAUUUUAFFFFABRRRQAUUUUAFFFFABRRRQAUUUUAFFFFABXjPjj/lIX8L/APsjPjz/ANO3hCvZq8Z8cf8AKQv4X/8AZGfHn/p28IUAezUUUUAFFFFABRRRQAV4z%2Bwf/wAkQ1z/ALLN8R//AFNdbr2avAP2VfFkHgH9k/x146useVovxN%2BKN/Ju6bYfGGuyHP4LSlJQi5PZEzlGEHKWy1%2B7X9DgP2M/%2BMg/%2BCgnx7/a2n/faZ4XuLb4Z%2BDZzyFjssT6ltPdWumRgRxgnrUf/BRq6uf2m/jb8M/%2BCbPhy5kNn4rvl8U/FJoHIMHhqxlDLC5HK/abhVjVuzRrng1uf8EgdBtPhx/wTT8B%2BJPElwIp9V0%2B/wDEWu6jcH5pmubue4M8h7nyigz6KKyf%2BCXOjar8bdS%2BIX/BRrxxZPHqPxb1xrfwhb3A%2BfT/AAzYu0FpEB/A0jIzuBwxRH718pSjLE5fQwr%2BLEN1J/4G1OS%2Bd4U/S59b4RQ/sTI8RxfW0nQjzUvPGYrn9jbv7CHPX8nRpeR9cWtra2NrHZWVukMMMYSGKJAqooGAoA4AA4xUlFFfWHyrbbuwooooEFFFFABRRRQAUUUUAFFFFABRRRQAUUUUAFFFFABRRRQAUUUUAFFFFABRRRQAUUUUAFFFFABRRRQAUUUUAFeM/sv/APJb/wBo7/ss1j/6hXhevZq8Z/Zf/wCS3/tHf9lmsf8A1CvC9AHs1FFFABRRRQAUUUUAFFFFABRRRQAUUUUAFFFFABRRRQAUUUUAFFFFABRRRQAV4z44/wCUhfwv/wCyM%2BPP/Tt4Qr2avnP4z/EC18J/8FR/gF4SvHUf8JT8JfiPZWynqZorzwpdDH/bOCXj/CpnOMFeXl%2BLt%2BpE5xpxvLbRfe7L8Wjl/wDgnZ/xKP2nv2q/CHTyfi9FqO3/AK%2B7JHz%2BOyvrSvkv9j/Ojf8ABTv9rXw4eI7iTwVqNuPXfpMokP8A30BX1pXl5LpgeXtOovuqT/zP0PxN97ipVv8An5h8FP8A8CwWG/WIUUUV6x%2BfhRRRQAUUUUAFFFFABRRRQAUUUUAFFFFABRRRQAUUUUAFFFFABRRRQAUUUUAFFFFABRRRQAUUUUAFFFFABRRRQAV4z44/5SF/C/8A7Iz48/8ATt4Qr2avGfHH/KQv4X/9kZ8ef%2BnbwhQB7NRRRQAUUUUAFFFFABXxP8QvGv8AwgH/AASP%2BPniITeWzeKvitZRvnBV7rxjrlspHvumGPevtivzl/a7nm1T/glb4l%2BFlrIyzePf2nPE3h6HYcMzS/EfVZSB9RAfwzXnZxUdLKq81vySt6tNL8Wjyc%2BqyoZJiZx39nO3q4uK/GSPUf2m/EV3%2Byx/wRUXw9paOuqR/CXSPC2nwxD97Jd3ltb2J2D%2B%2BPNd%2BOflJr6V/Zy%2BFFr8CvgD4L%2BDNmqBfC/hex0x2To8kMCI7%2B5ZgzE9yTXzx/wUTgh%2BKH7RH7NP7I9jGDbax8R28VaxbRj5fsGiW5n8uQdkdpAoHcpgcivruubA008xqtbUowpL5Lnl/wC2n6lmVKOSeGmT5bHR151sTL/DDkwlH8KVaS9X6hRRRXtHwYUUUUAFFFFABRRRQAUUUUAFFFFABRRRQAUUUUAFFFFABRRRQAUUUUAFFFFABRRRQAUUUUAFFFFABRRRQAUUUUAFeM/sv/8AJb/2jv8Ass1j/wCoV4Xr2avGf2X/APkt/wC0d/2Wax/9QrwvQB7NRRRQAUUUUAFFFFABRRRQAUUUUAFFFFABRRRQAUUUUAFFFFABRRRQBm%2BM/GPhX4d%2BD9W%2BIHjnX7XStE0LTZ9Q1jVL2UJDZ2sMbSSzSMeFREVmJ7AGua%2BC/wC0X8JPj/4e1PxL8Ntdvmh0W%2B%2Bx61aa94fvtHvdPm8iO4Cz2moQw3EO6GaKVS8YDxyK6kqQax/21PhD4q%2BPn7JnxD%2BDvgV7Ua34g8KXlro8d9KUt5roxkxRSsASsTuFR2wcKzHBxg%2BReHPhD8cvjUPjxq/jf4Oa98O5PjT4YHh/R7bU9V0u6m0RLbSHtlvbw2N5Mm%2BWe7mEawNMRHaI0hiLhAAe5fA/9o/4U/tGabda58JL3W73TrZYZItU1Hwhqem2l/DKGMU9lPeW8Ud/A4Qss1s0sZUqQ2HUn44/4Ks%2BNLn4W/8ABSr9iz4ow7lg0/WfE9hqM44EFrf3Hh%2Bxldj2UCcA/WvYP%2BCd/wAK/wBo/wCGOoavp/xP8NeNfD3heHwX4fsLXRPHnjqDXp5vEFuLtdTv7J4bq5FrYSxtYrHBuhUGFytrbDPmeAf8Fk/gh4z1jxPf%2BK4vi54j1qex%2BCfi/wASeHtI1K105bbw82neIPBtzIbRra0inYNEsgY3Es5G0bSvzZ83OOdZXVlDeK5l/wButS/9tf3nkZ/7RZNXnT%2BKMeZesHGf48jXzPbPg5/xJP8Agsd8ZdL6f258KfDuo4/veTI9vn9cV9aV8TeLvH9n4V/4KEfs8/tgaYwj8PfHX4bP4R1OUNmOKd0TU9OPPVpHfyh7Ka%2B2axyeceWvBdKkn8p8s4v5qR%2BrceSjjKOT5nSd6dfA4dJ/3qCqUJr1i4Q%2BUovqFFFFewfABRRRQAUUUUAFFFFABRRRQAUUUUAFFFFABRRRQAUUUUAFFFFABRRRQAUUUUAFFFFABRRRQAUUUUAFFFFABRRRQAV4z44/5SF/C/8A7Iz48/8ATt4Qr2avGfHH/KQv4X/9kZ8ef%2BnbwhQB7NRRRQAV8/f8FLjpg/Zrtf8AhNPL/wCEK/4WF4X/AOFkfaP%2BPf8A4R7%2B2bT7b9qzx9j8v/j53fu/s3n%2BZ%2B7319A0UAfnfqPij4cv/wAEzPjR4I%2BGPifT4fBU3ji/f4d2%2Bj3EbWdj4Un1uC3N/wCQmS%2BgR3P293EYEL2EUqRMIyhHjEmk/Cu4%2BHtl4J1L4l/BKy8ARftDa7NYeO9c8GxTfB69X/hErRkjtdHa%2BSGIefNLHGgv2QX9pqEwkeR/sw/XeigDwn9iTUPiFb/8E6PhXd%2BEvCE114ig%2BGGjx2WleOvEM9u9xKlpEgN1eC0klXeBv3m23fMMxqcgfJetT%2BJfHXhj9mv4TeMtJsbLVtW/bP8AHGv6xpml6i95bRvpnivX55o45nhhaaJWlwHaKMsACUXoP0qr84fgg6%2BNf%2BChvwf8LOwZPBHif43%2BJJlJ4UXXjLWLFXP4rwexrys597BKn/POnH75xb/CLPE4g9/L1S/nqUo/fUg3%2BEWey/DP/i9f/BYn4i%2BOCfN074O/DHTPDFr3RdQ1KRr6WRT/AHxEpibHToa%2Bua%2BSP%2BCPkUnjv4L%2BO/2rb5C0/wAYPirrev2kjj5lsI7g2ltD67U8iTGezV9b0sl9/A%2B3f/L2Up/KUny/%2BSqJ%2BueJ3%2BzcU/2UtsDSo4X/ALeo0o%2B1/wDK9StfzXoFFFFesfnwUUUUAFFFFABRRRQAUUUUAFFFFABRRRQAUUUUAFFFFABRRRQAUUUUAFFFFABRRRQAUUUUAFFFFABRRRQAUUUUAFeM/sv/APJb/wBo7/ss1j/6hXhevZq8Z/Zf/wCS3/tHf9lmsf8A1CvC9AHs1FFFABRRRQAUUUUAFFFFABRRRQAUUUUAFFFFABRRRQAUUUUAFFFFABRRRQAV89/tGeBNP%2BKP7XnhL4Zart%2By%2BIv2e/iRplzuGR5dxqHhOJsj6Oa%2BhK8Z8cf8pC/hf/2Rnx5/6dvCFTOMZxcZbPT79P1JnCNSDhJXTTT9GrP8GfGGnWfi340f8EG/C/jbRY2Txx8DLtNW04MMtZXnh%2B/kjOcc5FkjnA9RX6KfCX4j6D8Yfhb4c%2BLPheTdp3ibQrTVLE7skRTwrKoPuA2D7ivl3/gnfoek6F8U/wBqf9kbxDZJNYab8V7jWBp8o%2BUadrtoJkhA/ubUf/vo1p/8Egtc1bw58APEn7Kviy9ebWfgr4%2B1TwrI8x/eT2SzNPaT/wC40cpVenyxV8vk8pUK1FS%2B3TcH/joScfvcPyPq%2BGZyzvwYjSm71csrr19lXvRn8o4jDU5Ps6vmfWFFFFfVHywUUUUAFFFFABRRRQAUUUUAFFFFABRRRQAUUUUAFFFFABRRRQAUUUUAFFFFABRRRQAUUUUAFFFFABRRRQAUUUUAFeM%2BOP8AlIX8L/8AsjPjz/07eEK9mrxnxx/ykL%2BF/wD2Rnx5/wCnbwhQB7NRRRQAUUUUAFFFFABX5W/st%2BL/ALN%2B1V%2B1L8YjLx8KvAfxE04SZ4hafxt4h1P8DiPP0r9Uq/Hn4czHwP8Asuf8FIfjIx2/2x8ZvEfhpZT3xrd9blR/4MB%2BdeBxBUdPD05fyuUv/AKVSS/Gx05Llcs843yLLrXVXGUE15cy/wA2foP/AMErvCH/AAg//BO34QaL5WzzvBdtqGMf8/e66z%2BPnZ/Gvf65P4CeEP8AhXvwL8F%2BAfK2f2H4T07T9mMbfJtY48f%2BO11lergaP1fA0qX8sYr7opf5nq8VZj/a/FOPx17%2B1r1p/KVWpJfg0FFFFdR4IUUUUAFFFFABRRRQAUUUUAFFFFABRRRQAUUUUAFFFFABRRRQAUUUUAFFFFABRRRQAUUUUAFFFFABRRRQAUUUUAFeM/sv/wDJb/2jv%2ByzWP8A6hXhevZq8Z/Zf/5Lf%2B0d/wBlmsf/AFCvC9AHs1FFFABRRRQAUUUUAFFFFABRRRQAUUUUAFFFFABRRRQAUUUUAFFFFABRRRQAV4z44/5SF/C//sjPjz/07eEK9mrxnxx/ykL%2BF/8A2Rnx5/6dvCFAHkXj7Un/AGT/APgrDpHxO8RxCLwf%2B0B4XtvDEmpA4S18R2LE2iSnpiaAiKPuXJ7KTVb4u6vcfsEf8FD0/aO11ET4X/HqLT/D/jDUQNqaF4htUaOxuZT90QzRExluADvZiMAN7h%2B3J%2BzBp/7Xn7NXiD4Om8Flq8ka33hTVwxV9N1a3PmWtwrDlMONrEc7HcDrXnf7OXi/wf8A8FO/2DNQ%2BG/7Qnh/ZrZiuPCvxN0Z0VJ9N1u0IWSRRyI5A6x3EfUKWUc7TXzFfDVaeKnh6btJt1qTe3N/y8g/J3v/AIZt/ZO/gHPsJwrxRiMBmUXPA46E41Evi9nNwdXk6e0o1I08TSvu1KL0k2vqCivlH/gnZ%2B0H4w0HUdY/4J//ALT3iGM/FD4ZYt9Nvrl9p8V6EBm01GHccyMI8JIAWYFQWO4uF%2Brq93BYunjcOqsdOjT3jJaOL809Pua0aPQ4m4exnC%2BcVMBXaklaUJxvyVaU1zU6sG94VINSXVPmjK0oSSKKKK6jwAooooAKKKKACiiigAooooAKKKKACiiigAooooAKKKKACiiigAooooAKKKKACiiigAooooAKKKKACiiigArxnxx/ykL%2BF/8A2Rnx5/6dvCFezV4z44/5SF/C/wD7Iz48/wDTt4QoA9mooooAKKKzfGHjLwh8PPC9/wCOPH/ivTdD0XS7ZrjU9Y1i%2BjtrWzhUZaSWWQhI0A6sxAFAGlRXOab8YfhHrPwyHxr0f4p%2BHLvwYdPe/Hi221y3k0z7IgJe4%2B1K5i8pQrZfdtG05PFY6ftS/syS/Cd/j1H%2B0Z4EbwLHP5MnjRfF9kdJWTzPL2G883yQ3mEJjdnccdeKAO7r8n/Gvgd9P/4J%2BfFXwJJblT8Yv2%2BfE9iEK488N4yuIgPcf8S79K/VLwz4m8N%2BNPDlh4x8HeILHVtI1WyivNL1XTLtJ7a8t5EDxzRSoSskbqwZXUkMCCCQa/PLxv8A8VVd/s7fCj73239tbx/rxi/vDTPFmvzE49B5teLn9ONTLZ33fur/ALfcIP8ABs%2B78L6Uf%2BIh5di3/wAwzq1/T2OHxFW/ydOB%2BjdFFFe0fCBRRRQAUUUUAFFFFABRRRQAUUUUAFFFFABRRRQAUUUUAFFFFABRRRQAUUUUAFFFFABRRRQAUUUUAFFFFABRRRQAUUUUAFeM/sv/APJb/wBo7/ss1j/6hXhevZq8Z/Zf/wCS3/tHf9lmsf8A1CvC9AHs1FFFABRRRQAUUUUAFFFFABRRRQAUUUUAFFFFABRRRQAUUUUAFFFFAHj3/BQc%2BOR%2Bw58WD8N/7T/tj/hAtT%2Bz/wBib/t2z7O/m/ZvL%2Bfz/K8zy9nz79u35sV4b%2ByN8Q/hP4Guvjt/wwDovhHxD4PaG2vPhH4L8I6zZWWla/r9vosb39tpr71t1jZ205J5Iz5cc8kzSESebX2nRQB8Tf8ABI%2B08eeHfin%2B0V4X%2BIvwl8Z6Hrknj/R9U8Sav4wutIeXUdWufDmmPdNt07UbxY8v%2B9SMMYooJoIkbMbRx%2BpX%2BpfFe7/4KbeC7Pxt4L8PafoVv8HvHA8NajpXiee8u79Dq3hLzGubaSyhS0IwmAk1wG3HJXaN30PXjPjj/lIX8L/%2ByM%2BPP/Tt4QoA9mr40/aU8D/Fv9gz9oLXv2%2B/gD4Xn8TeBPFcdufjd4AsIh9qiEClV1uxHAaREJMsfG4bmY4YvF9l0jKrKVYAgjBB71x43BxxlNJScZRd4yW8X3810aejTa7NcGY4COPopKThOL5oSW8ZLS/ZpptSi9JRbT6NfOXxs%2BAf7P3/AAUu%2BDHhr42/CT4inT9ds4hqPw2%2BKPhpit7pFwDnacFWZN4Ky274IIYfI4yOZ/Z9/wCCg2ufD/xnB%2Byl/wAFFbO08C/EqB/I0jxPIpi0HxlEMBLq0uCBHHI2RuhbbhyAArHykz/HH7G37Rf7IPj7Wvjr/wAE2dV0yfR9bvTqHiz4F6%2Bwh0zUJyMSTabOMfYZ2A%2B4cRk4ydqJHWt4Q/az/Ye/4KEeHbz9mb9pHwTbaB4t80Qa18KviXbi01G2usYDWrPt81uSUlgYSbSGwma8J1KtPFKTao4h6NO/sq1trP8Am7bVI7NTij6/hzxBwLy%2BHDfGFGUqKb9lOLSqUZN%2B9LDVJ%2B5OnN%2B9UwlVxTfvR9nU/eT%2BrgQRkHIPQ0V8a2n7Ln7fX7EiFP2Kvi7Y/EzwDbNutvhV8T7kpe2MX/PCw1QYwBwESbEaAfxHJO74L/4K5fATTdch%2BHv7WfgzxP8AA/xa7bG0zx9pci2Mzjq1vfxqYZYv%2BmjeWDXpxzejTahjIujL%2B98L/wAM17r%2Bbi/I%2Bjr%2BHWZY2nLEcOVY5jRWv7m/t4rf97hZWrxa6uEa9Pe07WPq2is3wl4y8IeP9Bg8U%2BBPFem61plyubbUdJvo7mCUeqyRkq34GtKvVjKMldO6Pz%2BpSqUajp1IuMk7NNNNNbpppNNdmk/IKKKKZAUUUUAFFFFABRRRQAUUUUAFFFFABRRRQAUUUUAFFFFABRRRQAUUUUAFFFFABRRRQAUUUUAFeM%2BOP%2BUhfwv/AOyM%2BPP/AE7eEK9mrxnxx/ykL%2BF//ZGfHn/p28IUAezUUUUAFeIft/eG/EWu/BPRtW0TwpqWv2nhv4l%2BFdf8QaHo%2BnSXl1eabY61aXNwYraJWkuXhWP7SIUVpJPs%2B1Fdyqn2%2BigD4S8R%2BFfGnjD9hn40%2BH9F%2BD3jWI%2BNfiTeeKvDWgv4Qv7bUdP0afXLYyajDbSQqTfK0F3q0enOPPkZ41lhzMyHz20%2BE/xxg1LTvjEfEvxgg8JWf7Rmq65efEB/hE03jLVYJ/B1vYW2syaEdLKxNFdpNpiumlp/o6pN5C73uz%2Bl9FAHlXwC1P8AaS8bfsieF9V8eDS/DHxMv/DED3z614cea3tbsqMPcWMNzCysy4Z4FnTy3YoG%2BWvib4AT61qn7avwI8N/EDXbC9v/AAT4m%2BNuva1eaZp0lrbT3Fx4t1axMsdu8szxI0gOyMySMuQN7Hk/pdX5ofsLj/hM/wDgpZ8QNYPzxeDIPFelbeyTXfxU1a63exKDH0ryc396FGn/ADVaf4Ny/wDbUfoHh7%2B5xOZ4z/nzgcW/nUhToL7/AG8kfo1/wmGk/wDPpqn/AII7v/41S/8ACYaT/wA%2Bmq/%2BCO7/APjVfO3j7/gsj/wTe%2BF/jvWvhp45/aN%2Bw634d1a50zWLL/hENYl%2Bz3VvK0Use%2BO0ZH2ujDcpKnGQSOayf%2BH5f/BLT/o6H/yydb/%2BQqqWeZLCTjLE001/fj/mZ0fC3xMxFGNWlkmLlGSTTWHqtNNJppqFmmmmn1TT6n0//wAJhpP/AD6ar/4I7v8A%2BNUf8JhpP/Ppqv8A4I7v/wCNV87eAf8Agsj/AME3vih470X4aeBv2jft2t%2BItWttM0ey/wCEQ1iL7RdXEqxRR75LRUTc7qNzEKM5JA5rvv2/vjB8TP2ff2Jvin8cfg3aabN4n8JeB9Q1XR11eZkt1lghaTe%2B2OTdtUMwTbh2UIWQMXXrwuNweNi5YepGaW/K07etj5/POGeJOGK0KWcYKrhpTTcVVpzpuSTs2lNJtJ6Nrroel/8ACYaT/wA%2Bmq/%2BCO7/APjVH/CYaT/z6ar/AOCO7/8AjVfPep/tufG3wr8Q/HPgv4hfArwJoWn/AAy%2BHlp4m8c%2BJ7v4qXRsbd7uLVGt7a2xo4lnUPp8YlldIiiXBaOOZ0EUnM/Db/gpVq/xV1TwzoerfCfV/C%2BtxfGiXwd4h0hZby2hkQ%2BD9Q1%2BGfbrGj2l68LpDEm37PaSCVAyyyQqVuOk8M%2Bqv%2BEw0n/n01X/AMEd3/8AGqP%2BEw0n/n01X/wR3f8A8ar55/ZK/b5%2BJP7Q%2Bn6JceOf2YP%2BEfu/Fnwm0X4g%2BE9L8PeNYdVnutOvmCPBObiCyit7iEvExUPIjo%2BQ4ZTHXU/tV%2BLPirqXxa%2BF/wCzx8LfivqHgRvG11rF1q3ivRtNsbq9it7CyEi20C39vcW6tJNNCzM8TnyoJVXazCRAD13/AITDSf8An01X/wAEd3/8ao/4TDSf%2BfTVf/BHd/8AxqvnKD9oT9pH4n/8EyPCHx/%2BH1pc/wDCc67pHh2bxDd%2BFdDW9uLe0lv7SLWNQ06ykWQTypZm8ubeArLuZY12TnEb8X4C%2BOP7Svxo/Zq%2BIOoeBfF3xt1DXfhn8Sr/AEPSrnw74U8L6Z4k8UWYsbS8t5byz16zhtINgvQjJHFbTN5A/dq5aKgD7B/4TDSf%2BfTVf/BHd/8Axqj/AITDSf8An01X/wAEd3/8ar4Wg/bQ/aZ8ZeAof2gtJ%2BOOnx2XgbwJ8NNV1bw94b0S2bSvGdxrsiPqUpe8tzeQwtDII7NYngeOVWaYTA%2BUvreo/F340/Cf9oP9pTQ/Enx%2Bi1HQfCfwU0Dxz4STxdpVnb6f4XuLu48VxzI0llbx3E1oqaRZs5meaUbJCrDdtoA%2Bjf8AhMNJ/wCfTVP/AAR3f/xqr9hf2mp2iX1jOJIpBlWAI74IweQQcgg8givlX/gm78bf2kvH/jLxl8Pf2lNS8YxX%2BmeEfC2t2GjfEbTNEt9ZiOoLqC3Fyh0NFtG0%2BSW02QJIftkclvci4VA0IP034P8A%2BQTN/wBhS%2B/9K5aANWiiigAooooAKKKKACiiigAooooAKKKKACiiigAooooAKKKKACiiigAooooAK8Z/Zf8A%2BS3/ALR3/ZZrH/1CvC9ezV4z%2By//AMlv/aO/7LNY/wDqFeF6APZqKKKACiiigAooooAKKKKACiiigAooooAKKKKACiiigAooooAKKKKACiiigArxnxx/ykL%2BF/8A2Rnx5/6dvCFezV4z44/5SF/C/wD7Iz48/wDTt4QoA9mooooAK83/AGiP2Qv2av2rtCGgfH/4P6P4iVIylte3EHl3lqD/AM8bmMrNFzzhWAPfNekUVnVo0cRTdOrFSi900mvuZlXw9DFUnSrQUovdNJp/Jpo%2BP4f2Hv25P2bUK/sUftxz6nocBzZ%2BAPjRp51W0jXtEmoRYuYYx0CKvA6kkZqj4s/a7/ao8M%2BH5/BX7c//AASu1jxPojDbfan8NXtfE9heL3kNhLiSNBzxIScc19nUV5jyhU42w1WUF/LpOHpyz5rLyUkvI8ullNXAVFUy7E1KDi7q0uaKa2sptuNunLONulj8urCX/giJ4z8WT6n8If2gPGH7OXjWSQG8TRtV1HwxLBJ2WSO4RrRV9VQgYz0r2rwD4a/4KEWFqLz9lL/gpp8KvjRpka7rTT/HWjQuwT%2B617pUjSSn/bbFfX/jj4YfDX4naf8A2T8Sfh5ofiG1wR9m1zSYbuPB6jbKrCvB/Hf/AASB/wCCcPxAuWv9Q/Zb0XTLndujuPDV1c6UYm7Mq2ksaDHptx7V5byTGUXeioJ94SqUX90XOn/5IfeU/EzxShTVLMKuHzGmlZLF0lUlZdFOcZ1Fp2rrysjnB%2B1x/wAFMfhl%2B6%2BMn/BNSPxHbR/67W/hn4/trgP/ALllOBMfxalH/BYz4A%2BFhs%2BPHwL%2BMvwzZOJ5PGfw2ukhT1Ie383cvuByO1J/w6P8K%2BGPm%2BC/7a37QXgoJ/qbHSviQ81mvoDDNG24D0LUv/DFn/BRrwn/AMk4/wCCsOrTwp92y8XfC7TdQLj0aferj6gUf8ZFQ25n6%2Bxqfj%2B5l%2Bpf%2BvOQ4n/kZ8KJPrLCYydP5qFV1ofLReR2vgf/AIKrf8E6/iEEbQP2vPB0HmfdGt3zaYfxF4sWPxr1vwf8afg58Qgh8A/Fnwzrgk%2B4dH163ud308tzmvjzxv8Asd/8FLPERc%2BLLP8AZN%2BJW777ePvhpcxvL7nyUYA15J4w/wCCcHx41Qt/wmf/AASa/Z414nO8%2BBfH2o6Fu/3fnTbR/a2eUvjw9/8Atyov/SZVEL%2B2vCjEfxMPmuFf/XrC4mK%2BcKlGb%2B5H6iUV%2BSo/Yw/aA8E/L4f/AOCZXxj8HIn3Lj4cftXW8m3/AHI5Vdh%2BJpRpv7a3gb/kE6f%2B3jpuzotxrOneJ1X2AIj3Cj/WWvD%2BJhZL05v/AG6kgv4WVv4ee1aXlXy3GQ%2B90nWj%2BDP1por8lv8Ahqn/AIKJeEOIfjZ%2B1HYRp/yw8YfshabcIf8AtvHdlyPcCj/h6b%2B3f4T/AOP74z6ZPt6/8Jl%2Bz9rNl/319j34/Cj/AFuwMf4lOcfkn%2BqD%2BzeCqv8AA4mwL/x/W6P3%2B1wSS%2B9%2Bp%2BtNFfkun/Bd79pTw2Qvi3xv%2Bz9c4OAkfhjxnZufr5toyg/pWrp3/Bw38RIMfa/hT8LtZ9f7O8e3dhu%2Bn2uzGPxqlxlkL%2BKbXrH/ACkxx4ey2s/9nzzLKnpmGHj/AOnY0fxsfqnRX5m6T/wcSXcoH9ufsk6FCO72fx00iXPuA8aH8K3LX/g4o%2BDVuobxF%2Bz5qkH97%2Bz/AB3ol1%2BWLhc1tHi3h6X/AC/t6qS/Q2XB2Y1HajicHU/wZhgJfljIn6LUV%2BfWnf8ABx7%2BxpcSi2v/AIPfFBH7my0zTbpB/wACjv8A%2BldNpf8AwX%2B/Yd1EBp/C/wAS7QHvceDt2P8Av3M1bQ4n4fntiYfe/wD5E0lwDxYtqEZf4a%2BEl/6TjZfkfb9FfHln/wAF1f8AgnpOAdQ8aeKbD1%2B1%2BB7/AI/74jatKz/4Lh/8EwLpxFL%2B0s1tJ3juvB2sIR%2BP2TH61us%2ByR/8xMP/AAJL87CXh/xvP4Muqy/wxU//AEicz6xor5nsP%2BCxf/BNHUsfZ/2sNEXP/Pxp97F/6HAK2bH/AIKof8E7dRx9n/a%2B8Frn/nvqflf%2BhgVrHN8pltiIf%2BBx/wDkiZcAcdxWuVYn/wAEVn%2BVNnv9FeMWX/BRj9gfUMeR%2B2X8M1z/AM9/GlnF/wChyCtey/bf/Yt1HH9n/te/C%2BfPTyfH%2BnN/Kato4/AS2rQ/8Dj/APJHHV4R4to/xMuxC9cPXX/uE9QorhLP9qT9mXUMfYP2i/Ak%2Benk%2BLrJv5S1qWnxs%2BDWoY%2BwfFvwxPnp5OvW7fyetViMPLacX81/mefUyfOKP8TDVY%2BtOovzpo6eisy08beDL/H2Hxdpk2enk38bZ/Jq0IbiC4XfbzpIvqjAj9K1Uoy2ZxTo1qXxxa9U1%2BaQ%2BiiimZhRRRQAV4z44/5SF/C//sjPjz/07eEK9mrxnxx/ykL%2BF/8A2Rnx5/6dvCFAHs1FFFABRRRQAUUUUAFfm9/wSN0Oe8/af/bC8d3WXRf2hbjSbFj/AMs1i8T6pLKo%2BrTKa/SGvh//AIJN%2BE30jwj%2B0Z4quY8S61%2B2h41aN8fehh8RCJR%2BDiSvPxlN1MVhv7spP7oSX6n2HDuNWCyHOV1q0KVNf9vYqjJ/hT18j7gor5i8f/8ABTX/AIQLx3rfgX/h3z%2B09rX9i6vc2H9saB8J/tNhf%2BTK0fn20v2kebC%2B3ej4G5WU4GayP%2BHsP/WNT9rT/wAM3/8AdVZyzrLIycXU1X92f/ys/NpcQ5NCTjKrqtPhqdNP%2BfR9aVi/Ef4eeDPi58Ptc%2BFXxG0GLVfD/iXSLnS9c0ydmVLq0uImimiJQhgGRmGVIIzkEHmvnzwD/wAFNf8AhPfHei%2BBf%2BHfP7T2i/21q9tYf2xr/wAJ/s1hYedKsfn3Mv2k%2BVCm7e74O1VY4OK9m/aT8YfE74efALxf8Qfgz4ctNZ8T6DoFzqWj6Lewu6alJAhlNqAjoQ8qo0aNuwrurEMAVPXhsZhsZFyoyulvpJf%2BlRj%2Bp24PH4PMIuWHlzJaPSS8/tRj%2BFzGg/Y1/Z4Xwr4p8Han4Q1LV7Pxr4bt9B8VS%2BIvFep6ndalYQfafJjkubu5kn3p9rnxKHEo3L8/yJtzvA/7BX7LXw91Jdc8P%2BAtSm1IeLh4ol1bWvGOraleXGrjSJtGF3NcXl1LLOw0%2BeW3xIzLtKnG5EZfDfEf/BR/4m/Ejwtc%2BMf2XG0PVbDxH47m0j4USxeEl1RvEGnWGkLdareyNc63pVtDHFd%2BfAHa4XaLNwElaQeXxPg39ur4jfFzxHonx4svtNrp3jz4Zfs76rH4UbX737DpU/iLxdrttfyQfZp4tzmLyUZjlJ1tYVmSWJfKPSdh9h%2BGP2TvgR4JsdEsPB3hO90pfDnga08HaJNp3iPUIZrTRbV43gtVlScOdpijzIWMjAEM7BmB0fjf%2Bz18Kf2idE0/Q/ilo%2BozDSNRN9pF/oniK%2B0i%2BsbgwywM8N5YTQ3EW6GaaJwkgDpIysCpIr5N%2BCf7VP7UHxu/ak%2BEHjDU/FXhH%2BxPHfwt8f634c%2BHulXV7p7Wslnf6NBbQatKZrhLqWPzSjXCW0RtpHuEWKTOT7d%2B2/q3iSfTPhR8N5fFWq%2BHdI8d/Few0PxnqXhvXbjT7qGzOn390kEN7btFPb%2Bfe2tna%2BZG0cjLcFVKlxQB6FJ%2Bzv8ACxPAY%2BGGjWOsaLoEXhyw0Ky0zwz4r1HSo9PsbMk26Wn2O4iNm6g7TLAUldERGdljRV527/Yl/Z%2Bn%2BHmnfC2xsPFul6Rpt1eXIOgfEvXtNu72e7cyXMt7d2t7HcX7yuS7tcySlmO4knmvL/hFqP7QvxT/AOCbfjfQ/hP8SbufxpZ6l478OeAfFmsaqWuLi30/XtU0/TLiS8lDlpTa20A%2B1uHLtidt%2B454r9n2z%2BKvxZ0743/As%2BC/H1hYeEvFOjHwT4e8cftCataarDfy6VFPd6fd%2BINJur66SMbkuhCs11tW6TcqqyxRAH0Jqf7C/wCytqfiXwv4ob4UpaS%2BDtN0nT9CsNL1i9s9PFrpcxn0yGexgmS2vEs5SZbcXEcggcl49jHNH/DD/wCzpL8YfFPx01LQ/Euo69410I6L4qh1j4h63e6ZqOm/6Tts30ye8ey8hPtl2Y4hAFjNzKUCmRifhWf41fFzxf8As0alr/jD9pLxlpmr/C79mvxF4p8NX%2Bl%2BLLu2F74n07WNRs5muHhmH9uwWb2FlbL9o82K7S8EskZe4Xb6z4K%2BPXxTuv22Nc8b/HDwh4jj0ew%2BM2n/AA/8Ow6d8WL%2Byh0ma68O2d5Cr%2BHoAtpqUMkl1LK91cu88fmqUi8q3DgA%2BqfgX%2By38Ff2cJNSuvhVoGqRXer21pbahqOveKdR1m7ktrUSC1thcajcTypbw%2BdMY4FYRoZpCqguxPXeD/8AkEzf9hW%2B/wDSuWtSsvwf/wAgmb/sK33/AKVy0AalFFFABRRRQAUUUUAFFFFABRRRQAUUUUAFFFFABRRRQAUUUUAFFFFABRRRQAV4z%2By//wAlv/aO/wCyzWP/AKhXhevZq8Z/Zf8A%2BS3/ALR3/ZZrH/1CvC9AHs1FFFABRRRQAUUUUAFFFFABRRRQAUUUUAFFFFABRRRQAUUUUAFFFFABRRRQAV4z44/5SF/C/wD7Iz48/wDTt4Qr2avnD9o/V/jXo/7eHwnn%2BB3w/wDC3iLUm%2BEfjtbu08V%2BMLnRYI4P7U8JEuktvp96zvu2jYY1GCTvyApAPo%2BivGf%2BE4/4KF/9Gv8AwZ/8Pxq3/wAy9H/Ccf8ABQv/AKNf%2BDP/AIfjVv8A5l6APZqK8Z/4Tj/goX/0a/8ABn/w/Grf/MvR/wAJx/wUL/6Nf%2BDP/h%2BNW/8AmXoA9mor5x0n9o79u3WPjPr/AMDrf9lD4SLqnh3wvpGu3ly/x11TyJINRudSt4UQjwxuLq2lzlgVAAePBYlgvUf8Jx/wUL/6Nf8Agz/4fjVv/mXoA9morxn/AITj/goX/wBGv/Bn/wAPxq3/AMy9H/Ccf8FC/wDo1/4M/wDh%2BNW/%2BZegD2aivGf%2BE4/4KF/9Gv8AwZ/8Pxq3/wAy9cv4B/aO/bt%2BInivxv4Q0f8AZQ%2BEkNx4D8URaFqslz8ddUCTzyaVp%2Bph4tvhgkp5OowqSwU70cYwAzAH0dRXjP8AwnH/AAUL/wCjX/gz/wCH41b/AOZej/hOP%2BChf/Rr/wAGf/D8at/8y9AHs1FeM/8ACcf8FC/%2BjX/gz/4fjVv/AJl6P%2BE4/wCChf8A0a/8Gf8Aw/Grf/MvQB7NRXzj8Iv2jv27fjL4Uu/F/hz9lD4SW1vZ%2BKNb0KSO9%2BOuqK5n0vVbrTJ3G3www2NNaSMhzkoykhTlR1H/AAnH/BQv/o1/4M/%2BH41b/wCZegD2VlV1KOoIPUEdaytQ8B%2BB9Xz/AGr4M0m6z1%2B0adE%2BfzU15f8A8Jx/wUL/AOjX/gz/AOH41b/5l6P%2BE4/4KF/9Gv8AwZ/8Pxq3/wAy9JxjLdXJlGMlaSudrf8A7O/7P%2BqZ/tP4GeDrnPXz/DFo%2BfzjrHvf2M/2P9Sz/aP7KXw2uM9fP8C6e%2BfzhrC/4Tj/AIKF/wDRr/wZ/wDD8at/8y9cv8Ef2jv27fjx8GPCHxx8K/sofCS10vxn4X0/XdNttQ%2BOuqLPDBd20dxGkgTwwyhwsgDBWYZBwSOaxlhcLL4qcX/27H/5EwlgsFP4qUX6xi//AG06%2B8/4J8/sH32ftH7GHwsGepj8A6eh/NYRWVd/8EyP%2BCfF7nzv2Ovh%2Buf%2BePhyGP8A9BAq9/wnH/BQv/o1/wCDP/h%2BNW/%2BZej/AITj/goX/wBGv/Bn/wAPxq3/AMy9ZPLsulvRh/4BH/5EwllOVS3w9P8A8Ah/8gc/df8ABJ3/AIJyXmfO/ZE8IjP/ADytpI//AEFxWdc/8Edv%2BCaV3nzf2TdCGf8AnlfXif8AoM4rsf8AhOP%2BChf/AEa/8Gf/AA/Grf8AzL1y/wAbv2jv27fgP8GPF/xx8VfsofCS60vwZ4X1DXdSttP%2BOuqNPNBaW0lxIkYfwwqlysZChmUZIyQOayeUZTLfDw/8Aj/kZPIcjlvhaf8A4Lh/8iY9x/wRS/4Jg3X%2Bt/ZVsRn/AJ5%2BI9UT/wBBuhVGb/ghp/wS3mOR%2BzD5Z9Y/GmtD/wBvMV6d/wAJx/wUL/6Nf%2BDP/h%2BNW/8AmXo/4Tj/AIKF/wDRr/wZ/wDD8at/8y9Q8jyV74an/wCAR/yMnw5w898HS/8ABcf8jya4/wCCEP8AwTDnGE%2BAd9H/ALnjTVT/AOhXJqjP/wAEC/8AgmbL/q/hDrMX%2B54vv/6ymvZ/%2BE4/4KF/9Gv/AAZ/8Pxq3/zL0f8ACcf8FC/%2BjX/gz/4fjVv/AJl6h8P5E/8AmFp/%2BAo1hkeT0/goRXorflJHh03/AAb9f8E2ZfufD/xHH/ueLLn%2BpNVZv%2BDev/gnJL9zw34uj/3PFUn9VNep/F39o79u34NeFLTxf4j/AGUPhJc2954o0TQo47L466ozifVNVtdMgc7vDCjYs13GznOQisQGOFPUf8Jx/wAFC/8Ao1/4M/8Ah%2BNW/wDmXqHw5kD/AOYWH/gKOiOX4SHwxa9J1F%2BVVHz3L/wbu/8ABO6T7lp43T/d8Tj%2BsRqu/wDwbpf8E%2Bid0Go/EGE9jH4miyPztzX0Z/wnH/BQv/o1/wCDP/h%2BNW/%2BZej/AITj/goX/wBGv/Bn/wAPxq3/AMy9S%2BGeHn/zCw%2B7/gm0aCj8M6i9KtdfliEfOif8G8P7EkH/AB4/Er4r22OnkeLLcY/8lKsQ/wDBAD9lW1/48f2hPjdb46eR42tlx/5J19B/8Jx/wUL/AOjX/gz/AOH41b/5l65fx9%2B0d%2B3b8O/FfgjwhrH7KHwkmuPHniiXQtKktvjrqhSCePStQ1MvLu8MAhPJ06ZQVDHe6DGCWUXDWQLbDR/H/wCSCVBS3nU/8HV//mg8vt/%2BCE/wIsv%2BPD9rv9oW3x08n4hW64/8kq0Lf/gir8PLIYsP27v2mYPTyvifEv8AKzr2j/hOP%2BChf/Rr/wAGf/D8at/8y9H/AAnH/BQv/o1/4M/%2BH41b/wCZerXD2Sx2oL75f/JnPPLcJU%2BLnf8A3Fr/APy88hi/4I%2B2Fp/x4f8ABRr9qSHHTZ8VQP5WwpPgV%2ByVefst/wDBQvwaLn9pz4q/EZdc%2BDHjLYPib4sOqf2d5OreFs/ZsovleZ5o39d3lR/3a9f/AOE4/wCChf8A0a/8Gf8Aw/Grf/MvVDwP4H/as8Y/tWeHPjd8bvhx8PfDOjeGfh74h0OGHwr8Q77Wrq7utSvtEuEZkuNIsUijRNLlBYO7FpUAXGSOihlOXYWqqlKFpLzn%2BTm1%2BBNHKsBh6yq04vmXVzqP8JVJL8Ge60UUV6J6IUUUUAFFFFABXzl%2BxD4Y03wt%2Bzx4svbESH7b%2B0N4/wBTv3YZwf8AhPNU3twOipGPwWvo2vkr9krxZ%2B2dp/w98UWfwx%2BAfww1fQk%2BNPxF/s/Ude%2BLuo6bdzL/AMJnrJYyW0WgXKRENuAAmfIAOQTtCaTafYuNSpGEoJ6Stfzs7r7nqfUH/Cc%2BCf8AocNL/wDBhH/8VS/8Jz4J/wChw0r/AMGEf/xVeW/8Jx/wUL/6Nf8Agz/4fjVv/mXo/wCE4/4KF/8ARr/wZ/8AD8at/wDMvTIPUv8AhOfBP/Q4aV/4MI//AIqj/hOfBP8A0OGlf%2BDCP/4qvLf%2BE4/4KF/9Gv8AwZ/8Pxq3/wAy9H/Ccf8ABQv/AKNf%2BDP/AIfjVv8A5l6ANS%2B%2BBn7FGqfDjSfg7qfwd%2BFtx4R0C9%2B2aF4Vn8Paa%2Bm6bc7pG86C2KeVDJullO9FBzI5z8xzoaf8OP2UdJtbWy0rwH8PbaGytNJtLKG30uxRbeDS55LjTIkAUBEtJ5ZZbdRgQSSO8YVmJPmfwR/aO/bt%2BPHwY8IfHHwr%2Byh8JLXS/GfhfT9d0221D466os8MF3bR3EaSBPDDKHCyAMFZhkHBI5rqP%2BE4/wCChf8A0a/8Gf8Aw/Grf/MvQBq2PwP/AGKtL8U63450z4QfC631vxLBdQ%2BI9Yg8P6al1qsd1j7SlzKE3zrLtXzA5IfA3ZxXQeN9K%2BAHxM8EXPwy%2BJGm%2BDvEHhu8hSK78Pa5DaXdjPGjKyI8EoaNlVlUgFcAqCOgriv%2BE4/4KF/9Gv8AwZ/8Pxq3/wAy9H/Ccf8ABQv/AKNf%2BDP/AIfjVv8A5l6AOqHgn9mEeHrfwiPCPgMaTaeG5/D1rpf2Cy%2Bzw6ROI1m05I9u1bWQQxB4APLYRICp2jGHdfs%2BfsMX3wttfgde/BD4TzeCrK/N9Z%2BD5fDWmNpcF0d%2BZ0tDH5KSfvH%2BcKG%2BdueTXE/G79o79u34D/Bjxf8AHHxV%2Byh8JLrS/BnhfUNd1K20/wCOuqNPNBaW0lxIkYfwwqlysZChmUZIyQOa6j/hOP8AgoX/ANGv/Bn/AMPxq3/zL0AbviD4TfsgeLLHwxpfir4afDbU7bwTLHL4Mt9Q0bT5o9AdAgRrJXQi1KiNMGLaRsXHQVcuvA37L198VLf46Xvg/wAAzeN7SzNpaeMZdPsm1WG3KspiS7K%2BcqYdxtDYwzDHJrlv%2BE4/4KF/9Gv/AAZ/8Pxq3/zL0f8ACcf8FC/%2BjX/gz/4fjVv/AJl6APUf%2BE58E/8AQ4aX/wCDCP8A%2BKo8GHfoZnUHZNfXcsRIxuR7mRlb6FSCPY15d/wnH/BQv/o1/wCDP/h%2BNW/%2BZeuX%2BLv7R37dvwa8KWni/wAR/sofCS5t7zxRomhRx2Xx11RnE%2Bqara6ZA53eGFGxZruNnOchFYgMcKQD6Oorxn/hOP8AgoX/ANGv/Bn/AMPxq3/zL0f8Jx/wUL/6Nf8Agz/4fjVv/mXoA9morxn/AITj/goX/wBGv/Bn/wAPxq3/AMy9H/Ccf8FC/wDo1/4M/wDh%2BNW/%2BZegD2aivnHx9%2B0d%2B3b8O/FfgjwhrH7KHwkmuPHniiXQtKktvjrqhSCePStQ1MvLu8MAhPJ06ZQVDHe6DGCWXqP%2BE4/4KF/9Gv8AwZ/8Pxq3/wAy9AHs1FeM/wDCcf8ABQv/AKNf%2BDP/AIfjVv8A5l6P%2BE4/4KF/9Gv/AAZ/8Pxq3/zL0AezUV4z/wAJx/wUL/6Nf%2BDP/h%2BNW/8AmXrl9W/aO/bt0f4z6B8Drj9lD4SNqniLwvq%2Bu2dynx11TyI4NOudNt5kcnwxuDs2qQFQFIISTJUhQwB9HUV4z/wnH/BQv/o1/wCDP/h%2BNW/%2BZej/AITj/goX/wBGv/Bn/wAPxq3/AMy9AHs1FeM/8Jx/wUL/AOjX/gz/AOH41b/5l6P%2BE4/4KF/9Gv8AwZ/8Pxq3/wAy9AHs1FfOOk/tHft26x8Z9f8Agdb/ALKHwkXVPDvhfSNdvLl/jrqnkSQajc6lbwohHhjcXVtLnLAqAA8eCxLBeo/4Tj/goX/0a/8ABn/w/Grf/MvQB7NRXjP/AAnH/BQv/o1/4M/%2BH41b/wCZej/hOP8AgoX/ANGv/Bn/AMPxq3/zL0AezUV4z/wnH/BQv/o1/wCDP/h%2BNW/%2BZeuX8A/tHft2/ETxX438IaP%2Byh8JIbjwH4oi0LVZLn466oEnnk0rT9TDxbfDBJTydRhUlgp3o4xgBmAPo6ivGf8AhOP%2BChf/AEa/8Gf/AA/Grf8AzL0f8Jx/wUL/AOjX/gz/AOH41b/5l6APZq8Z/Zf/AOS3/tHf9lmsf/UK8L0f8Jx/wUL/AOjX/gz/AOH41b/5l6t/srfDn40%2BD9Y%2BKHjv46aB4X0nVPH3xCi1yz0rwn4ludWt7W1i0HR9MVXuLiys2aRpNOlcqItoWRBuY5wAet0UUUAFFFFABRRRQAUUUUAFFFFABRRRQAUUUUAFFFFABRRRQAUUUUAFFFFABXyv%2B09%2B1p8XPhh8Y/FmteAfDvg%2BTwx8H/D/AIfvfGp1rSLibVdUt9Xv5UuYLC4juI0svItrOO4zJFOLmQpGRD5fmn6orxn4z/sQ/Dj43fFI/EzXPHPirS4tRtdItfF/hrRrq1TTvFMGl3sl7YxXyy28kwWOaaXP2eWAyxyGKYyxhUAB7NRRRQAUUUUAfMfhz9pX4mQ/t/8Aij4P/EbWPD3hPw2viC00TwZFqPwi1lLrxjANAg1HEHiNrtdOaWO7udQAtBC8nl2kwCgs0i/TleV%2BLP2WoPH/AMZNI%2BKfj343%2BNdX0rw9rsetaB4AuDpkWjWOoR27wRzhobJL2XZ5kkipNdSRiR92z5EC%2BqUAFFFFAHi//BQX4u/HD9n79kfxp8evgFe%2BFI9Y8E6Fd65dQeMNFub62u7S1tpZnt0S2urZkldkRRIXKoCxKPwK8/8AHn7Wnxc8F/HjxbqfhTw74Qi%2BHnhD4x%2BEfh94ys5tIuDreq6rrsGipHqEN2lwsMccH9uaTGYpLeV5EhnxLHtQV7D%2B1j%2BzjZftafAjXv2fda%2BKvinwjpPieylsdcv/AAgunfa7mylieKa23X9pdRojq/LIiyAqNrrzni4P2AfB0/xFs/iL4q%2BOPj7XWOs6TrnibRtQl0qKx8T65piRpY6tex21hEy3EQgtMLbNBAxsbYvExjyQD3uiiigArxf9sn4u/HD4JWvgHxj8LL3wp/Y2ofEzw54e8X2PiDRbm5urm11XWbHTQbOWG6hS2kjW5lk3yJOpKIuzkmvaK8q/au/Zbf8Aaq8N6F4Xn%2BPvjfwNb6F4ksNdRvBcOjs93e2N5BeWbSnUtPvBtiuLeNwsYQNysm9TtAB5x%2Bzz%2B0r8TNb/AGqvFvwR%2BKGr%2BHvCenQ%2BKdbt/BPhKT4Razplzr1tC6Sm/t9auLv7BqDsZJpZYraAvyXYrhifpyvJdJ/ZRD/GTRfjL8R/2gPHfjWbwvd3l34T0LxCNJhsNHurm3ktZLiJbDT7aWV/s808K%2BfJKqLO%2B0AkEetUAFFFFAHh/wC3d8XPjx%2Bz98GtX%2BOvwo8Y%2BBbHT/C2i3N5e6L4s8M3t/c%2BIb3KLZ6ZZyW17B9nmuJSLdG8q6ZpZ4gsLH5W8/8Agj%2B198Z9c%2BJfgr%2B1vBnhLSPhp43%2BJ/ij4beFfDWnaXNHq%2BiX%2BgQ6tvnnuRcNbzQSN4f1NFhjt4jGrWx8yTLAen/tK/sgwftJePPBHxAm/aB8d%2BELnwDd3N7otj4Yi0aezkvZUEa3k0Gp6deI88MfmLDIApjE8pHzNkVfAf7DXw98B/GW3%2BLsPxF8XalBp2u6nr2ieENSubL%2BydK1vUY3j1DVIEitUn8%2BcT3ZZXmeFGvrkxxR%2BZwAe10UUUAFfL/7XPx4/aX%2BC3xE0/wppUPgDxro/jmHWrbRfhzF4PvpNYS1tNDuruS/uJxevFdWwuore2khFrED9vhQTGRkST6grw6b9ia4j/aP8V/tNaJ%2B1X8S9O1fxbpsOnXOlwweH57TT7OGBo4baza50mW5t4lld7rYs2153LuHB20AM/YQ/aD8b/Hv4e3l18V/H2jX3i7ThZtr/huy%2BF2r%2BEbzQHntllEFzZavdT3Dgtv8u4ASORUO0NtJr3SvN/gd%2Bzdp3wZ8T%2BJPiHrHxS8U%2BOPFXiuKxt9Y8T%2BLmsFuXtLMTfZbVItPtbW2jija5uXG2EMzXEhZmyMekUAFFFFAHxz/AMFBP24/ip%2Bxh45/tPXNF0Dxj4RfRtR1u38Ky/DnU7KW3TTdGvtSST/hIprp9Mnu/temjZYrAl0I5llA2wtI3r37NHxd%2BOerfFTxv%2Bz1%2B0dc%2BFNQ8T%2BEdJ0PWo9a8FaRc2Fjc2OqC8jSIwXNzcussVxp12pfzcSIYm2RklRW%2BOv7CXgj9pzWrq1%2BP/xb8a%2BKPBdzJcSL8MryTTYdFikmsZrJm329lHfSAR3EzBJbp0Dvu2/IgXp/2fP2ZtI%2BAd5r3iK7%2BKHizxx4j8SGzj1bxV41uLN76W2tIjFa2o%2Bx21vCsUQeVhiPezzyu7Ozk0AelUUUUAFfEf7U/wC2V%2B1n8G/jV4g%2BFHg7w34c8a6nYaLca74YCfA/xBHJooGo6ZaoYW%2B3OPE0gsdUuPO/svynhaErKIxMI6%2B3K8P179i3U/Evj0/E7Wv2ufijNrenwXkXg28KaAB4VW6mhkn%2ByRjSdk7NHAtvuvVumWJnClXdnIB1X7LHxYf4yfCODxZe/EzRvFV/DqN1ZapfaN4MvvDotriKVla1m03ULie6s54xhXjmcPn5tqhgK9GrhvgH8BfD3wA8M6no2leKdb8Qajr%2BvXGt%2BJPEniOaBr3Vb%2BYIjTyi3ihgTEcUMSpDFHGqRIAowSe5oAKKKKACiiigAooooAKKKKAKPijxDYeEvDWo%2BK9VDm10yxmu7kRLlvLjQu2B3OFNfOf7E37Sfxr8f%2BKdH8GfGzw94Msx46%2BFtl8RvDMPgzSri0GmR3lwTd6fdma4lF3NG9zbP9sQQCdpZiYI9oL/AEtd2lrf2stje26TQzRtHNFKoZXUjBUg8EEcYryH9mb9ivwF%2BzBqr6voHxB8W%2BJZbbwxY%2BGfDo8WXtrMNA0KzeR7fTbU29vCWjUyfNLOZriQRxeZM/lrgA9iooooAK4X9qDx58RfhZ%2BzR8RPid8H/Ci694t8OeBdX1TwtobWM10NR1G3s5Zba2MMDLLMJJURPLjYO27CkEg13VZ3i3RL/wAS%2BGNQ8P6X4r1HQrm9tJIbfWtIWBrqxdlIE0QuIpYi6nkCSN0yPmVhkEA8u/Yp%2BLU/xQ%2BGd9Zat8QvD%2Bs6n4d1VdOvNM0T4Yan4OfQ0FtBJFZ3Glapcz3MLhHEiu3lo8UsWxMDe/sVeefAf9nbSfgdeeJfEdz8RPEnjHxJ4v1GG88ReKfFb2Yu7ow26W8EQjsba2tooo40AVY4UyWdmLMzMfQ6ACiiigD5c/ao/ax%2BKH7OHxe8cWXxK0bwl4i%2BF9h%2Bzv4v8e22hW%2BiXCaq7aINLWe2uLmS5e3minW%2BnAQWyFQiZd8sK7f9mf4v/HzVPi54y/Z1/aWfwleeKPDHhjw94lj1XwVpNzY2Ullqz6lbrbGG5ublzLDcaRdgyiQLIjxN5cZ3LUHxj/YV8O/HT46t8ZfHnx28cy6bN4K1PwjffD2GDRf7Eu9G1Jbb7faSF9Na9Ina0gdnF0HUoQjIjMh6T9nf9l3Q/wBn2%2B1rxHP8UPFvjfxDr9rYWV/4n8bXNpJemwsUkWzsx9ktrePyojPcOCUMjvcyu7uzZoA9PooooAK%2BRPjX%2B0v%2B1t4M139oDwJb%2BFfBniy98BeH/CniT4bWOk/D/U7%2BdY9R1XUoQl5axXjy6jPAumxzqbYW5LkhV%2BVWr67rwuX9ijxDF8dPG3x/0L9tD4raVq3jfSLHTLmxsrPww1ppttZXFzPZpbCXRXk/dG8ulBmeUus5EnmFUKgHV/sqfFub4y/CkeJtR%2BJ2jeKdRtdVubHVrrR/BF/4bNncRN81rPpmo3E91aTopXckzBiGVtqqwr0muE%2BAfwD0D4A6FrNjp/i3XPEeq%2BJvEEuueJ/E3iSW3a91W/khhg82QW0MMEYWC3t4VSKKNFSFAFzknu6ACiiigD42/aW/a7/aW/Z4%2BM0Hw21lPhn41vtbggm8Iw6d4WvbSXwXeal4h0zw9pE2pyvfTC6inbV5wWiWzkcWN0sYZfMMXuP7Kvxf%2BJHxGHj/AOH3xiOiT%2BKvhp48bw1rOq%2BGtOms7DU/M0vTtWt7iG3mnnkt82uqW6PG00uJI5MMQRjhbb/gmr4Sa6%2BIb%2BIf2l/idrNv8SdeOuaxb6kdC8yz1KK4hn0%2B5trqLS0ulNg9vbi0jeaSKJYUDI/OfWPgH8BdD%2BAfh7VtNsvF%2BueJNW8Ra9NrXifxR4le2N/q99JHFD50wtYIIF2QQW8CJFFGixwRqF4JIB3VFFFADLn7T9mk%2Bx7PO2HyvNzt3Y4zjnGa%2BIPit%2B1z%2B2n8NPiJrnw2t7bwH4z17wxe%2BGrfVvHXgj4K6/q0fhy31Zrx72wl0qz1Ke7uZo4bKxuiYp0/d3ULSwIDE0n29dwyXFrLbw3UkDyRsqzxBS8ZIwGXcCuR1GQR6g189/Bj9gLxB8BPhtcfDT4d/t1fGKKO61Z9Tm1m8svCc%2BoS3cryyXM80z6EftMk7y7pJJxI%2BY02FAMEA9Z%2BAnxDsvit8HfD/wAQrD4gaN4qTU9PEj6/4f0mawtLuQErIUtZ5ppbYq6sjQySO8bKysdykDr65L4F/Bfwl%2Bz78L9O%2BFPgq5v7iysJbq4mvtVuRNdX13dXMt1dXUzhVDSzXE80r7VVd0h2qq4UdbQAVR8Tw%2BJLnw3qFv4N1OxstXkspV0u81Owe6toLgoRHJLDHLE00atgsiyRlgCA6k7herN8Y6Df%2BKPC1/4d0vxbqWg3N5avFBrWjiA3Vi5HE0QuIpYi6nkCSN0OPmVhkUAfD3w3/bs/a1%2BMHxT1v4JfCzTfh8njPTbXXb6Txn4r%2BF2taGuqaZpFrosqWMuiXl8moafK934h2JNPM8flQyXCQus6A/Y3wC%2BLWm/Hz4E%2BCvjro2my2dn418Jabr1pZzPueCK8tY7hY2IAyVEgBPqK8W1f/gmR4H1rXL74i3f7SnxTT4gasl5a618Sba90iHVr/TLq2tbabTCiaaLOG2KWVow8i2ilWSBZVlDlmP0H4L8H%2BGvh54O0nwB4M0mLT9H0PTINP0mwhzstraGNY4o1zzhUVVH0oA06KKKAOX%2BNOo%2BONG%2BFuta38OfENjperWFmbqG%2B1Dwfe%2BIESOMh5QNOsZ4Lm8kaJXVIoZA5dlwrn5G%2BLfhL/wAFEfj94k8aaHqfje48I%2BBPBmpTzr4g8cXnwM8RTW2sX8Ov3WkIlzKt9GnhmeS1tLX9xqjSSwPKsb52BK%2B2/iZ4M13x74Sm8OeG/ilr/g28kljeLX/DMVi93BtYEqq39tcwMGAKkPE3BOMHBHit1/wTm8Kah4PuPhtq37SHxNu/DGuahNf%2BPNAmuNHEXjC7nvGuria%2BlXTRcReaWWFo7OW1iEMSRqijduAPomiiigAooooAKKKKACiiigAooooAKKKKACiiigAooooAKKKKACiiigAooooAKKKKACiiigAooooAKKKKACiiigAooooAKKKKACiiigAooooAKKKKACiiigAooooAKKKKACiiigAooooAKKKKACiiigAooooAKKKKACiiigAooooAKKKKACiiigAooooAKKKKACiiigAooooAKKKKACiiigAooooAKKKKACiiigAooooAKKKKACiiigAooooAKKKKACiiigAooooAKKKKACiiigAooooAKKKKACiiigAooooAKKKKACiiigAooooAKKKKACiiigD/2Q%3D%3D\">"
            ]
          },
          "metadata": {
            "tags": []
          }
        }
      ]
    },
    {
      "cell_type": "markdown",
      "metadata": {
        "id": "uAnGxO9U2kCZ",
        "colab_type": "text"
      },
      "source": [
        "# Submit a linear model"
      ]
    },
    {
      "cell_type": "code",
      "metadata": {
        "id": "JDgV0KiH2kCa",
        "colab_type": "code",
        "colab": {}
      },
      "source": [
        "## GRADED PART, DO NOT CHANGE!\n",
        "# Testing shapes \n",
        "grader.set_answer(\"9XaAS\", grading_utils.get_tensors_shapes_string([weights, bias, input_X, input_y, logits, probs, classes]))\n",
        "# Validation loss\n",
        "grader.set_answer(\"vmogZ\", s.run(loss, {input_X: X_val_flat, input_y: y_val_oh}))\n",
        "# Validation accuracy\n",
        "grader.set_answer(\"RMv95\", accuracy_score(y_val, s.run(classes, {input_X: X_val_flat})))"
      ],
      "execution_count": 0,
      "outputs": []
    },
    {
      "cell_type": "code",
      "metadata": {
        "id": "p3_QMGDA2kCc",
        "colab_type": "code",
        "outputId": "397beb54-b24d-49f9-82e6-ea6f1304e39d",
        "colab": {
          "base_uri": "https://localhost:8080/",
          "height": 34
        }
      },
      "source": [
        "# you can make submission with answers so far to check yourself at this stage\n",
        "grader.submit(COURSERA_EMAIL, COURSERA_TOKEN)"
      ],
      "execution_count": 0,
      "outputs": [
        {
          "output_type": "stream",
          "text": [
            "Submitted to Coursera platform. See results on assignment page!\n"
          ],
          "name": "stdout"
        }
      ]
    },
    {
      "cell_type": "markdown",
      "metadata": {
        "id": "AaSLjtSP2kCe",
        "colab_type": "text"
      },
      "source": [
        "# MLP with hidden layers"
      ]
    },
    {
      "cell_type": "markdown",
      "metadata": {
        "id": "X9xpJG_K2kCf",
        "colab_type": "text"
      },
      "source": [
        "Previously we've coded a dense layer with matrix multiplication by hand. \n",
        "But this is not convenient, you have to create a lot of variables and your code becomes a mess. \n",
        "In TensorFlow there's an easier way to make a dense layer:\n",
        "```python\n",
        "hidden1 = tf.layers.dense(inputs, 256, activation=tf.nn.sigmoid)\n",
        "```\n",
        "\n",
        "That will create all the necessary variables automatically.\n",
        "Here you can also choose an activation function (remember that we need it for a hidden layer!).\n",
        "\n",
        "Now define the MLP with 2 hidden layers and restart training with the cell above.\n",
        "\n",
        "You're aiming for ~0.97 validation accuracy here."
      ]
    },
    {
      "cell_type": "code",
      "metadata": {
        "id": "CFwKo9B92kCf",
        "colab_type": "code",
        "outputId": "e4010002-3a11-42c1-d6b5-79f33335bbba",
        "colab": {
          "base_uri": "https://localhost:8080/",
          "height": 138
        }
      },
      "source": [
        "# write the code here to get a new `step` operation and then run the cell with training loop above.\n",
        "# name your variables in the same way (e.g. logits, probas, classes, etc) for safety.\n",
        "# Compute predictions\n",
        "h1 = tf.layers.dense(input_X,units=256,activation=tf.nn.sigmoid)\n",
        "h2 = tf.layers.dense(h1,units=256,activation=tf.nn.sigmoid)\n",
        "logits = tf.layers.dense(h2,units=10,activation=None)\n",
        "probs = tf.nn.softmax(logits)\n",
        "classes = tf.argmax(probs,axis=1)\n",
        "\n",
        "# Loss should be a scalar number: average loss over all the objects with tf.reduce_mean().\n",
        "# Use tf.nn.softmax_cross_entropy_with_logits on top of one-hot encoded input_y and logits.\n",
        "# It is identical to calculating cross-entropy on top of probas, but is more numerically friendly (read the docs).\n",
        "loss = tf.reduce_mean(tf.nn.softmax_cross_entropy_with_logits(logits=logits,labels=input_y))\n",
        "\n",
        "# Use a default tf.train.AdamOptimizer to get an SGD step\n",
        "step = tf.train.AdamOptimizer().minimize(loss)"
      ],
      "execution_count": 0,
      "outputs": [
        {
          "output_type": "stream",
          "text": [
            "WARNING:tensorflow:From <ipython-input-66-60e8ca6386fb>:1: dense (from tensorflow.python.layers.core) is deprecated and will be removed in a future version.\n",
            "Instructions for updating:\n",
            "Use keras.layers.Dense instead.\n",
            "WARNING:tensorflow:From /tensorflow-1.15.2/python3.6/tensorflow_core/python/layers/core.py:187: Layer.apply (from tensorflow.python.keras.engine.base_layer) is deprecated and will be removed in a future version.\n",
            "Instructions for updating:\n",
            "Please use `layer.__call__` method instead.\n"
          ],
          "name": "stdout"
        }
      ]
    },
    {
      "cell_type": "code",
      "metadata": {
        "id": "y8AesEfUDMpl",
        "colab_type": "code",
        "outputId": "0cc632e0-debf-44ea-bd89-9334fe33056a",
        "colab": {
          "base_uri": "https://localhost:8080/",
          "height": 309
        }
      },
      "source": [
        "s.run(tf.global_variables_initializer())\n",
        "\n",
        "BATCH_SIZE = 512\n",
        "EPOCHS = 40\n",
        "\n",
        "# for logging the progress right here in Jupyter (for those who don't have TensorBoard)\n",
        "simpleTrainingCurves = matplotlib_utils.SimpleTrainingCurves(\"cross-entropy\", \"accuracy\")\n",
        "\n",
        "for epoch in range(EPOCHS):  # we finish an epoch when we've looked at all training samples\n",
        "    \n",
        "    batch_losses = []\n",
        "    for batch_start in range(0, X_train_flat.shape[0], BATCH_SIZE):  # data is already shuffled\n",
        "        _, batch_loss = s.run([step, loss], {input_X: X_train_flat[batch_start:batch_start+BATCH_SIZE], \n",
        "                                             input_y: y_train_oh[batch_start:batch_start+BATCH_SIZE]})\n",
        "        # collect batch losses, this is almost free as we need a forward pass for backprop anyway\n",
        "        batch_losses.append(batch_loss)\n",
        "\n",
        "    train_loss = np.mean(batch_losses)\n",
        "    val_loss = s.run(loss, {input_X: X_val_flat, input_y: y_val_oh})  # this part is usually small\n",
        "    train_accuracy = accuracy_score(y_train, s.run(classes, {input_X: X_train_flat}))  # this is slow and usually skipped\n",
        "    valid_accuracy = accuracy_score(y_val, s.run(classes, {input_X: X_val_flat}))  \n",
        "    simpleTrainingCurves.add(train_loss, val_loss, train_accuracy, valid_accuracy)"
      ],
      "execution_count": 0,
      "outputs": [
        {
          "output_type": "display_data",
          "data": {
            "text/html": [
              "<img src=\"data:image/jpeg;base64,/9j/4AAQSkZJRgABAQEASABIAAD/2wBDAAIBAQEBAQIBAQECAgICAgQDAgICAgUEBAMEBgUGBgYFBgYGBwkIBgcJBwYGCAsICQoKCgoKBggLDAsKDAkKCgr/2wBDAQICAgICAgUDAwUKBwYHCgoKCgoKCgoKCgoKCgoKCgoKCgoKCgoKCgoKCgoKCgoKCgoKCgoKCgoKCgoKCgoKCgr/wAARCAEgA2ADASIAAhEBAxEB/8QAHwAAAQUBAQEBAQEAAAAAAAAAAAECAwQFBgcICQoL/8QAtRAAAgEDAwIEAwUFBAQAAAF9AQIDAAQRBRIhMUEGE1FhByJxFDKBkaEII0KxwRVS0fAkM2JyggkKFhcYGRolJicoKSo0NTY3ODk6Q0RFRkdISUpTVFVWV1hZWmNkZWZnaGlqc3R1dnd4eXqDhIWGh4iJipKTlJWWl5iZmqKjpKWmp6ipqrKztLW2t7i5usLDxMXGx8jJytLT1NXW19jZ2uHi4%2BTl5ufo6erx8vP09fb3%2BPn6/8QAHwEAAwEBAQEBAQEBAQAAAAAAAAECAwQFBgcICQoL/8QAtREAAgECBAQDBAcFBAQAAQJ3AAECAxEEBSExBhJBUQdhcRMiMoEIFEKRobHBCSMzUvAVYnLRChYkNOEl8RcYGRomJygpKjU2Nzg5OkNERUZHSElKU1RVVldYWVpjZGVmZ2hpanN0dXZ3eHl6goOEhYaHiImKkpOUlZaXmJmaoqOkpaanqKmqsrO0tba3uLm6wsPExcbHyMnK0tPU1dbX2Nna4uPk5ebn6Onq8vP09fb3%2BPn6/9oADAMBAAIRAxEAPwD9/KKKKACiiigAooooAKKKKACiiigAooooAKKKKACiiigAooooAKKKKACiiigAooooAKKKKACiiigAooooAKKKKACiiigAooooAKKKKACiiigAooooAKKKKACiiigAooooAKKKKACiiigAooooAKKKKACiiigAooooAKKKKACiiigAooooAKKKKACiiigAooooAKKKKACiiigAooooAKKKKACiiigAooooAKKKKACiiigAooooAKKKKACiiigAooooAKKKKACiiigAooooAKKKKACiiigAooooAKKKKACiiigAooooAKKKKACiiigAooooAKKKKACiiigAooooAKKKKACiiigAooooAKKKKACuN%2BOP7QHwm/Zx8JW/jT4veJ5dPtL7U4dN0u2stLub%2B91K9lDGO1tLO0jluLudlR2EUMbvtR2xhWI7KvFv2u/gP8VPiX4h%2BGfxl%2BBd14fl8X/CrxjPrWmaJ4tu57bTdYhudLvdMubaW4ghmktH8q9aSOdYZtrR7TGyu2ACjpH/AAUr/Y71rxm3w8tvHviCDW7fSodU1bTtR%2BHOvWkmi2EhuAt3qXn2SDTIAbWcNLdmFEKYYqWUGbwn/wAFH/2NfGfg/wAQ%2BOtM%2BLFza6f4Y0e11fVBrnhPVdMuJNPuXMdreWtvd2sU19bzyAxwy2ySpM5CRlmIB86vP2GPjP8AHW0/aRP7Qt74V8My/tB/CPTvBskfgrWLrUzo7RWusWsr%2BbcWtqZ1VNRiZDsXeyygogxuy9Y/Y2/at%2BM%2Btaz8UP2lPh38G9X1e0%2BE6eBtB8E6d4n1QaRrSy6jaXt5fXd2bBJ9PYmyg%2BzxQw3BtnDP50hIwAeyX/7fP7N2k%2BAbH4h6tdeOLSHVPED6Jpeh3Xwj8SR67e3yW5uXjh0dtPGoShYAZTIluUCKzFsA49P8JeOfDfjbwTY/EPRbi5i0rULBbyCTVNPnsZY4iu7MsFykcsDAfeSRVZSCGAIIr41tv2Gf2tJfgpJ4W8feGPCnjS%2Bh%2BIcut%2BC9B1n9ofxXb3fgOxOmxWoi0/xbHp7atcSGUXcreZDGBHeGENsjGfUvB/7Bmq%2BKfgJo3hb9pz46%2BOPEfj5PhtdeFtf8Q6T8Q9at9Muhc2tzbyTPpa3SWN5MiXTBbq4tmmdoopWKuibADc8Mf8FJP2MvF/h7xJ4s0b4tXK6Z4W8GXni6/vr7wlqtpFe6BaruuNU09p7VBqtogK5nsvPQmSMAkyIG4n40f8FdP2YfAf7M/wATf2gfhW%2Bs%2BM7v4b%2BDYfEjeGW8L6xps2r2Nw7R2t3avNYFrixlkRh9vgjmtkVWdnCqSPHfC/8AwSh%2BNC/BPxf8LPFnh3w9J4h/4UL4j8A%2BC/Hmo/tD%2BNvECSXGpWEdp5h0jVUkttGtpDDE8scEl0yeVGqFggz6P%2B1L/wAE5vih%2B0BYeKtE0Pxj4d0q2179le%2B%2BGlrLM87GDVpLiOWGdo1iANqNhBIbzBnhO9AHqkv/AAUU/ZZt/E3hrwJeav41tvEni7TpdQ0HwpefCTxLDq8tnFd/Y5LmSwk08XNvCkxG6SaNEVGWUkRsrmXwN/wUT/Y7%2BJGqarpXhD4tyXB0rQ9Q1lbufw1qVvaapp1iwS8u9NuZrdYdVhhYqHeyedVLqCfmGcXwR8APjz4x/apsf2oPjn4f8HeH5JPg5f8Ag/VNE8J%2BK7vVTBcy6tHcpJDcz6fZl4mgiUsTGjJIdoV1USHwGb9hz9pf4bfs8%2BF/Cnxo1rwIPCP7N3wP8SaB4L1PwrfXcmpeKd2hHTLe4vbeW2ii04JZozSQxS3QknZXDxqgQgH0D4U/4Kl/sL%2BNPBus/ELQ/jLdrouheDj4tutRv/BmsWcdzoIKB9Vs/PtEN/ZxmRBJPbCWOLcPMZc167a/GD4c3vxcuPgVZ%2BIxN4qtPDUGv3emRWsrCHTp55beGd5QnlL5ksE6ohfe3kyEKQjEfFX7I/7P3xC8WfBL4Q/Hb9t/Uvhlovww%2BG/7L9z4fgk07W5wmr6bqmnaWby%2B1X7VBDDpkEVppyq0CS3CZleRplWNVrsP%2BCK3wr8d6P8As76n8evit4tbxFrHjW%2Bg03w54hlgaOS%2B8I6JF/ZWiXBD8/6VDDNqhPd9WcgKCFAB9lUUUUAFFFFABRRRQAUUUUAFFFFABRRRQAUUUUAFFFFABRRRQAUUUUAFFFFABRRRQAUUUUAFFFFABRRRQAUUUUAFFFFABRRRQAV4jpH/AAUY/Y91K716z1P4pXnh5vDnhy58QahJ418I6roMc2k27pHPf2smpWsC31ujyRK0tsZUBljGcuufab2K5ms5YbO6EEzxMsUxj3%2BWxHDbT1wecd6/MTV/%2BCOX7cvxf1bwvrnxu%2BOOhvrfhrwfqFnqHijUPit4m8TjxDrf2zSr611E6XfRQ2Wk20lzpi%2BfYWQCiOTassgVAoB9sv8At/8A7MNr8NG%2BLGseIPFWlaW2uQaNY2eufDLX7DVNTv5kMkMFlptxYpe37SIGdfs8MgZUdgSEYjovAf7VnwP%2BI%2Bv2XhPw54h1SHV7/wAKT%2BJIdI1rwrqWmXaabDd/ZJZZYby3ikgdZ/kMMirL32bea8m%2BJ3wc/bd%2BMTfD342654N%2BFWh/EP4UeOptY8P%2BGbXxxqV/ouuWdxpN3plzHcXz6VDNYzFL2SSN0tbgRmIKfMEjYq/En4Dftwa/8ZfDv7TXgfRvhXaeLL74Yar4L8Y6FqXivUpLDSFuL%2BG6tb%2ByuE04SagYhG6yW8sVoJS4xLFjkA7jSf8Ago3%2ByB4j17wL4W8K/EbVdZ1P4k%2BDdK8W%2BDdO0TwPrN7PeaHqL7LXUZEgtGa1t92PMknEa24ZTN5QYE7Hw1/bc/Zu%2BK/xGufhP4Z8X6tZ6/b6Xc6nDZeJ/BmraIt/Y28iRz3dlLqNrBHfwRvLEHltmkRfMQkgMpPlH7Cn7CXxY/Zh1/4caz488QeGrs%2BDv2UvCPwxv30i5nlZtW0t5muZovMgj3Wrb02MxV22/NGmBXjXw0/4JV/tjeJ/ij4X8TftTfGGz1SLT/AHivwv408TQfF/xJrV54il1exS2/tO10y%2Bhj0/QjlSxtLRSi5UCZxGq0AfUvhP/gov%2ByP410WPxVoPjvXP7DuNV0vT9P8AEt78P9btdK1GXUr2OyspLS%2Bns0tryCW5mijFxBI8IMqFnCsCfS/C3xd%2BHnjX4geKfhd4X8Q/a9c8FyWcfie0S0mC2Ml1B9ogjMrII3doSshRGZkWSMsFEibvmHxx4E%2BIvhX/AIJ7eNPgR/wUM8T/AAq8EeAtB%2BGkWgW3xM8O%2BLbsM06RpbWupPaXVnAmmzLMLeSGCO4umM5REcnaG7X/AIJX/D74seG/2RNK%2BKv7RVglv8TvixfS%2BOviJCtu0X2e/v1jMNpsb5k%2By2MdlZ7TkgWuDQB9G0UUUAFFFFABRRRQAUUUUAFFFFABRRRQAUUUUAFFFFABRRRQAUUUUAFFFFABRRRQAUUUUAFFFFABRRRQAUUUUAFFFFABRRRQAUUUUAFeL/Hrx/8AtF/8NF%2BBfgR8BfGfgrw%2Bmv8AgrxLr2r6n4v8F3etEnTrvQ7eGGGO31Kx8sN/akrMzM%2BfLQALyT7RXhXxF1pLP/gpV8IdFkUYvfgn8Q2Rs87o9W8GnH5Mx/Ck2luXCEqjtHs392rL/wDwg/8AwUL/AOjoPgz/AOGH1b/5qKP%2BEH/4KF/9HQfBn/ww%2Brf/ADUV7NRTIPGf%2BEH/AOChf/R0HwZ/8MPq3/zUUf8ACD/8FC/%2BjoPgz/4YfVv/AJqK9mooA8Z/4Qf/AIKF/wDR0HwZ/wDDD6t/81FH/CD/APBQv/o6D4M/%2BGH1b/5qK9mooA8Z/wCEH/4KF/8AR0HwZ/8ADD6t/wDNRR/wg/8AwUL/AOjoPgz/AOGH1b/5qK9mooA8Z/4Qf/goX/0dB8Gf/DD6t/8ANRR/wg//AAUL/wCjoPgz/wCGH1b/AOaivZqKAPGf%2BEH/AOChf/R0HwZ/8MPq3/zUUf8ACD/8FC/%2BjoPgz/4YfVv/AJqK9mooA8Z/4Qf/AIKF/wDR0HwZ/wDDD6t/81FH/CD/APBQv/o6D4M/%2BGH1b/5qK9mrz74geP8A4GfDQan4w%2BPvjjwp4f0861Fp9lqXjDVLa0g8w2kcqwRyXLKu8gSvtByQrHHBxM5wpxcptJLq3Zfe7I2w%2BHxGLrxo0ISnOTsoxTlJvsoxUpN6PRJvTY5r/hB/%2BChf/R0HwZ/8MPq3/wA1FH/CD/8ABQv/AKOg%2BDP/AIYfVv8A5qKr/wDDX/8AwTg/6Oi%2BCP8A4W2j/wDx2j/hr/8A4Jwf9HRfBH/wttH/APjtc31/Af8AP6H/AIHD/wCSPa/1S4s/6F2I/wDCev8A/KCx/wAIP/wUL/6Og%2BDP/hh9W/8Amoo/4Qf/AIKF/wDR0HwZ/wDDD6t/81Fdh8NPEn7OXxo0KXxT8Hdf8E%2BLNMt7trWfUfDV1Z38Ec6qrtE0kBZQ4V0YqTkB1OMEV5P8Qf22f2TvhD8a/iJ8Ivix4H1DQ7T4aeBtO8U%2BIfFsnw/v7jSorK5F8zFrmC0eKPy0sics/wC8Z2jj3PDKq9MJwqRUoNNPqndfero8XEYfEYSvKjXhKE4uzjJOMk%2BzjJRknqtGk9djqP8AhB/%2BChf/AEdB8Gf/AAw%2Brf8AzUUf8IP/AMFC/wDo6D4M/wDhh9W/%2Baiom/ab/ZQtpvDceseE9e0qHxXcQ2%2BkX%2BufB/W7C0Waa9eyt47m5uLBIbJ5rhQkS3DxNL5sLIGWaJn5nXf26f2KfAVoT8SZrG3u2vfFaw2vhvwPq2sEWfh/VTpuo3Uot9N3wpBK0QmZl8pC7FJZolE7UYnV/wDCD/8ABQv/AKOg%2BDP/AIYfVv8A5qKP%2BEH/AOChf/R0HwZ/8MPq3/zUV32gR/BjxXcT2nhePwxqM1tDBNcw2K28rwxzp5kLuq5KiRPmUnG5eRkV4f8As/ftVaJ8aPilo3hfXP2btE0Pwx4503XdQ%2BGfiSHVUu59Wt9KvYbWY3dqbSMWLTJPHcwKktxuhD%2BYYXURkA7L/hB/%2BChf/R0HwZ/8MPq3/wA1FH/CD/8ABQv/AKOg%2BDP/AIYfVv8A5qK43xZ%2B1Vonhr48aj4Ht/2btDufAnh74iaL4D8T%2BNW1VI7y01/VbSzuLRItP%2ByFZ7XOpabC85uUZZLogROInatv4Q/Ffxb8Sdf%2BMHgLWP2WfCWl%2BJPhrqcdroWn23idbmDXRPp6Xlo005sI/sTP5iI6hJxHkkNJjFAGv/wg/wDwUL/6Og%2BDP/hh9W/%2Baij/AIQf/goX/wBHQfBn/wAMPq3/AM1FeX3X7dHgbw/%2ByN4T/aC8ffA/wN4e8SeL/GuoeFLHQNY8Xw2%2Bi22o2VzqKXElxrE1knlWqW%2BlXlyZTbb9qBFiZ2AOz8Y/2ivGfwh/Z7tv2nl/Zk%2BF/iLwjp3hj%2B3PF1/4d%2BJIuP3O/hNGP9khNWd4sNGJGs/NeSONeWyADt/%2BEH/4KF/9HQfBn/ww%2Brf/ADUUf8IP/wAFC/8Ao6D4M/8Ahh9W/wDmorldM/al%2BHfi39sTVP2VfBPgb4YN/wAI5qKafr76/wCOILHXbi5Onw37nTNIWzla/giiubcSTNNAocyqoYwtnm/2d/20rT9oR9O03S/2ZfB9lqvjj4U3HxB%2BFOkjxdHNNqulxzW8Hl6oPsC/2TceZe2asifa1UyTLvZoGUgHp3/CD/8ABQv/AKOg%2BDP/AIYfVv8A5qKP%2BEH/AOChf/R0HwZ/8MPq3/zUVzHw%2B%2BNvjT4q/siaP%2B0l4P8A2a/hpZatNLfnxLofifx1LZ6dpdvZz3UFxNHqEWjzvOA9uGAa2hBR2JKlAreN%2BOf%2BCoumfDj4W/DPx343/ZE8H6Lq3xA%2BG9v4wj8K6544S0u74TzRpFo2iB9NzrOrlJY2Nmy2pVpoULfOWUA%2Bi/8AhB/%2BChf/AEdB8Gf/AAw%2Brf8AzUUf8IP/AMFC/wDo6D4M/wDhh9W/%2BaiuU8H/ALU3w7%2BIv7Xes/s0eCvAvwwa18N6jNp%2BsS6t44gtvENzPFZrcSy2GirZyNdWsckscDzvPDh0n2owiBk8d%2BGv/BVr4f8AxB%2BFXjf4pRfsyeEZYvCPhHTNdurPQ/GMV82gm8vWtTp/iM/YIzoN7a4ae6hxdeRDb3Lkt5IDgH0b/wAIP/wUL/6Og%2BDP/hh9W/8Amoo/4Qf/AIKF/wDR0HwZ/wDDD6t/81FfP19/wU48Fp8NPCHjiz%2BD3wWgXxX8TNU8IQeJ9a%2BL8Vp4Pn%2Bx6fLefbbLWxpL/bYnaM2oH2aP/SElTJ8sFvYvjv8AGPxd8B18P%2BNNY/Zh8C6j4Jv9S8P6XrOsWHjHOoxX%2Bq6hDYIljZHTdl9HHLcwtue4t3kQsUiLAIwBv/8ACD/8FC/%2BjoPgz/4YfVv/AJqKP%2BEH/wCChf8A0dB8Gf8Aww%2Brf/NRXJ/Cf9qf4f8Axs/aV8R/BLwD4D%2BF8mm%2BGdS1HTbs3njqCPxJcXFixguJ4tEWzc/Ylu1e2%2B0SXCMXidhGV2M/K6x%2B2xP4K/ZP%2BIn7QHxN/Zb8C6Fr3w8%2BI1v4S1HQZvHCnSt817p1sLubVG01DBCi6gskh%2BzOFELgFgQ1AHq3/CD/APBQv/o6D4M/%2BGH1b/5qKoeB/HH7Vng79qzw58Efjd8R/h74m0bxN8PfEOuQzeFfh5faLdWl1pt9oluis9xq98ksbpqkpKhEYNEhDYyD0Hww13R/ib%2Bz9F8WjoXgCO7vNNubqzvvhz4mXXNMIRpBFLbah9ltTNkKpJEShW3Llgu453jj/lIX8L/%2ByM%2BPP/Tt4QoA9mooooAK8n/bc/aD%2BIH7Kv7NniX9oT4f/CfTfGR8JabcaprWkal4pbSAun28Es08kcy2tyXlAjCpFsAYvy6AE16xXlP7bXwC%2BIX7Uv7Mfi39nf4dfE/RvCE3jLRrnSNU1vWvCkusLFZXEEkUoigivbQrN84KyNIyrtOY2zwAaP7Svxz1b4HeFtEbwh4Jg8SeJvFniqz8PeFdEvNWNhbXN7OHkZp7lYZmghighuJndYpW2wkKjMQK8Q1j/gpf42l8Ii78A/s0Q6z4l8PaF4p1f4k%2BHZ/Gv2ZNGh8P6k2m3kVnP9jf%2B0J5545jaq6W0cscRaWS3LKp9N%2BKX7PPxu%2BL/gLQ7fxT8a/C9t408JeItN8QeFvEek%2BAbiOxt9St1kjn8%2Byk1OR57eeGaeExLcRuiSnEpYBh5jrH/BM/xxF4QFp4B/aYg0bxL4h0HxVpHxJ8RT%2BCftKazD4g1JtSvJrOD7Yn9nzwTyTLas73McUcpWWO4KqwAPqfwx4j0fxh4b0/xd4euxcafqtjFeWM4UjzIZUDo2DyMqwPPrXz/wDCbxV%2B3f8AHXR9e8d%2BF/jf8JNA0u3%2BIXirQ9L0q/8Ag/ql/cRWul69f6ZC0twniKBZZHjs1dmWKNdzkBQAK9tvPhP8NdV%2BGSfBnxD4H0vVvCq6XFpr6BrFkl3azWsaqiRSRShlkUBV4YHpXi/7Dnhfw14N/ZSvfA/g7w/ZaRo1j8afHGn2Ok6Xapb21taDx5q0QgjjjAWOMR/IFUABeAMUAdH/AMIP/wAFC/8Ao6D4M/8Ahh9W/wDmoo/4Qf8A4KF/9HQfBn/ww%2Brf/NRT9f8A2oP%2BCfvhTXb3wt4p/aI%2BDmm6npt3Ja6jp2oeLtKhntZ42KSRSRvKGR1YFWVgCCCCMiqn/DX/APwTg/6Oi%2BCP/hbaP/8AHa5XjsCnZ1Yf%2BBx/%2BSPehwrxTUgpwy/ENNJpqhXaaeqaaoNNNNNNNpppptNMsf8ACD/8FC/%2BjoPgz/4YfVv/AJqKP%2BEH/wCChf8A0dB8Gf8Aww%2Brf/NRT9A/ag/4J%2B%2BK9dsvC3hb9oj4OalqepXcdrp2naf4t0qae6nkYJHFHGkpZ3ZiFVVBJJAAyavftV/Ev4Vfsofs3%2BNf2kvFPwuXVtP8FeHrjVbrTdI0QTXFysS52IscbEZOMuRtRcu5VVZhrSr0K6bpzUrdmn%2BTZ5%2BOyvM8rnGGNw9Sk5K6VSE6ba2ulOEG1fS6TV9L30M7/hB/%2BChf/R0HwZ/8MPq3/wA1FH/CD/8ABQv/AKOg%2BDP/AIYfVv8A5qKoaT%2B1n%2Bx/rnjeX4a6X4a1%2BXxDbeHF17UNF/4U1rq3Wn2Dx3bxS3UbaeGtWl%2Bw3KxRzBJJnjEcau7orO0z9pz9mDxNJ4d/4RXTLBDrPjqbwre2HiXwlqOj6jY30ejXWrmFrK5sBMkptbdZlW4W3jeGTzFlZjFHNqcJd/4Qf/goX/0dB8Gf/DD6t/8ANRR/wg//AAUL/wCjoPgz/wCGH1b/AOaiqHwU/a//AGF/2gtGm8R/DbxNpf8AZ0Xh/T9dS/8AEXhG70WC50u%2BZltb2CTUbaBbm3kdSgliLqHwhIYgVd/aN%2BIjfCvX/B/w0%2BEHwA8NeLvGfja9vE0rS9a1VdIsYLWztWuLm5nuks7p0A/cxKqwuWkuI87EDuoA7/hB/wDgoX/0dB8Gf/DD6t/81FH/AAg//BQv/o6D4M/%2BGH1b/wCaiue1/wDak%2BFsH7Fvhr9r/wAJ/BSyvB4vHh230bw7qhgs/Iv9Yv7TT4ILu5Eci28cVzeIs0qrJtWOQosh2q3FWv7bi%2BIr6y%2BFngn9mbwFefEpPF3iDQPEWjX3jlbbQtOn0e1t7u52aoNNeSdmgvLR0jNpG3zTeZ5Qgc0Aerf8IP8A8FC/%2BjoPgz/4YfVv/moo/wCEH/4KF/8AR0HwZ/8ADD6t/wDNRXl3i39sbV7v4P8Awn/aM%2BBf7LXgHxT4J%2BLknhaDQRq3jWTTtZE%2BszRKUW0i0i5gkW2gka4kb7SvyW8%2BANgLd6fiv4h8M/tOaB8Cfih%2BzR4P07SPGkmsDwZrui%2BJRf3sqaeiytLe2L2EK2kTxsMPHPcBXeKN9pkFAGp/wg//AAUL/wCjoPgz/wCGH1b/AOaij/hB/wDgoX/0dB8Gf/DD6t/81Fek22kaXofjG1t9F06C0juNMuWnitogiuySQBSQuASA7c%2B9btAHjP8Awg//AAUL/wCjoPgz/wCGH1b/AOaij/hB/wDgoX/0dB8Gf/DD6t/81FezUUAeM/8ACD/8FC/%2BjoPgz/4YfVv/AJqKP%2BEH/wCChf8A0dB8Gf8Aww%2Brf/NRXs1FAHjP/CD/APBQv/o6D4M/%2BGH1b/5qKP8AhB/%2BChf/AEdB8Gf/AAw%2Brf8AzUV7NRQB4z/wg/8AwUL/AOjoPgz/AOGH1b/5qKP%2BEH/4KF/9HQfBn/ww%2Brf/ADUV7NRQB4z/AMIP/wAFC/8Ao6D4M/8Ahh9W/wDmoo/4Qf8A4KF/9HQfBn/ww%2Brf/NRXs1FAHjP/AAg//BQv/o6D4M/%2BGH1b/wCaij/hB/8AgoX/ANHQfBn/AMMPq3/zUV7NRQB4z/wg/wDwUL/6Og%2BDP/hh9W/%2Baij/AIQf/goX/wBHQfBn/wAMPq3/AM1FezUUAeM/8IP/AMFC/wDo6D4M/wDhh9W/%2Baij/hB/%2BChf/R0HwZ/8MPq3/wA1FezU2aeG2iae4mWNFGWd2AAHuTQCTbsjxv8A4Qf/AIKF/wDR0HwZ/wDDD6t/81FH/CD/APBQv/o6D4M/%2BGH1b/5qK7rX/j38C/Cm4eKPjR4T03b977f4jtYcfXe4rgfF3/BR39gjwPG0mv8A7YHw8yv3orDxTbXcg%2BqQM7fpXNUxuDo/xKsV6yivzke3guGuJMyaWEwNapf%2BSjVl/wCk0mvxJP8AhB/%2BChf/AEdB8Gf/AAw%2Brf8AzUUf8IP/AMFC/wDo6D4M/wDhh9W/%2BaivNr7/AILZf8E5hdPp/hr4y6n4huUODBoHgrVbgk%2BzfZgp/A1F/wAPfvhNqQz4J/ZQ/aD8TA/cOhfCieQP9PMkSuP%2B3cm6V4v0fN/6SpH0i8KvEi155TXgv%2BnkVS/9PVKR6d/wg/8AwUL/AOjoPgz/AOGH1b/5qKP%2BEH/4KF/9HQfBn/ww%2Brf/ADUV5j/w8x%2BMOs/8iV/wS6%2BP8%2Bfuf254et9Nz9fMlbFH/DcH/BQnU%2BfDH/BIvxJKD9z%2B1fippNkT9d6HFL%2B28vfwuT9KdR/%2B2If/ABDHi%2BP8aNGn/jxeDh%2BeKZ6d/wAIP/wUL/6Og%2BDP/hh9W/8Amoq3%2Byt8RvjT4w1j4oeBPjpr/hfVtU8A/EKLQ7PVfCfhq50m3urWXQdH1NWe3uL28ZZFk1GVCwl2lY0O1TnPk3/DSv8AwVq1r/kGf8EzvDGiZ6HWPjLZXO36%2BRGM10P/AATs1f4y69rnx51b9oHwhpGg%2BLpvjNAdW0nQdQa6tLfHhHw2IgkrAF8wiNm9GZh2row2PpYqbjCM1pe8oSivvklr5Hj53wlj8gwqr4ivh53fLy0sTRrT2bu40pStHTWV7XaXU%2Bk6KKK7j5cKKKKACiiigAooooAKKKKACiiigAooooAKKKKACiiigAooooAKKKKACvl/9oHWP7M/4Ky/s02W7H9o/C/4mW%2BPXEvheX/2lX1BXxt%2B2Jq50r/gsb%2BxlCWwl74Z%2BKFu5%2Bthozgfmgrlxk/Z0ebzj%2BMor9T3OHcP9bzP2X/Tus//AAGhWl/7afZNFFFdR4YUUUUAFFFFABRRRQAUUUUAFFFFABXE%2BK/hF8J/jRBq/hb4xfDDw74s0y38QRXUGneJtFgv4I51soUWVY50ZQ4V3UMBkB2GcE121eT/AB3/AGrfgF%2Bx94a1H4l/tF%2BPf%2BEd0S%2B8Vw6Za3v9l3V3vun09JVj2WsUjjKQyncVC/LjOSAccRPD06EpV2lBLXmta3nfS3qNY%2BWVP63Gs6Tp686k4OPS6kpRcd91Jb76if8ADA/7Cv8A0ZZ8Jf8Aw3Omf/GKP%2BGB/wBhX/oyz4S/%2BG50z/4xXkn/AA/N/wCCWX/R0X/lk65/8hUf8Pzf%2BCWX/R0X/lk65/8AIVeL9e4V/wCflD/yn/kaf8RSxP8A0PZ/%2BFlX/wCaD6S%2BGnwi%2BE/wX0KXwt8Hfhh4d8J6ZcXbXU%2BneGtFgsIJJ2VUaVo4EVS5VEUsRkhFGcAV4r%2B0r%2Bwv4r%2BPHi74lan4f%2BM%2Bm6Fo/wAVfhfYeEPEunXvhCS%2BuIWspdTktru2nW9hVBnU5BJE8Um8RJteMlifSf2aP2rfgF%2B2D4Eu/iX%2Bzp49/wCEi0Sx1eTTLq9/su6tNl0kUUrR7LqKNzhJojuClfmxnIIGP8Sv2y/hh8K/FniXwL4l0HXn1jw5L4Yjj0%2B1tYGk1b%2B3799O09rTdMocG7imicuY9nkux%2BQBj7WHnh6lCMqDTg1py2tbytpb0M3j5Zq/rcqzquprzuTm5dLuTlJy23cntvoeVftff8Ex5f2rPj1b/GW5%2BKXh2zihl8MTW8ev/DtNY1LR5NH1Y6gRpN693GNNS7yIrjbC7uFBDjAUbHh3/gnYug67qutn4vib%2B09B%2BJmm%2BX/wj23yv%2BEu8RQ6zvz9oOfsnleRt48/dvzFjYea%2BPX/AAVj%2BHfg7w38e/A3w00q3j%2BJfwj%2BEvi3xfpOma3rWk6haagdFh%2BczQ6XqU11bJ50trmG6W0mdJjsGUk8vvNW/bw0Hw/8R/Enwp034deK/GviXT/iBc%2BH9L8M%2BE9Gs4Low22iaZql1cmW81BIZYYl1GEGVmgdnnjhSB2USS7CPVPgz8PvEfws8CaR8O9T8U2WqWGg%2BH9O0zTZINJe2mP2e2WGSSVjPIr72QMqqqbAdpMn3q8c%2BDv7Cvjn4P8AjWz8QWXx00zUNM8FaF4i034RaNdeDHUaENWu4rlm1CRb4HUxbiCK3iWMWZ8jzA7PIwmXsv2IP2kdU/ae/Zl%2BHnxd8WaObPXPFvgHTfEWoxWOiXlvYRm6QnZFJMGUMCrZhMjSoCpcAMpPnfgn9sb42a98edBl1bTfCw%2BG3jH4xeJPhtoOn2%2Bm3K61Z3%2Bj2mqSvqM901yYZYZZ9Ev4hbrboyLLbuZX%2BdQAbnij9hvxB4j%2BOl/43X4yW0HgfxB8QtE8eeKfBn/CMFru88QaVaWdvayQ3/2oLb2pOm6bM8Bt5HaS1JEyiVxV/wCEv7OH7S/w3%2BNnxb%2BLmqftBeBdSh%2BI2y40bTLf4XXtu2jXlvaxWllJNKdakF5EkMQ82JUt2lclkkgHyVyn7TX7Y3xt%2BFfxT8Yv8PNM8LN4N%2BE2i%2BG9T8d22s6bczajrEeqX1xFNHYzR3Mcdo1ta2/nhpIrgTySiLEIUyHg7D/gp38T/Dv7Qnizw98SPD%2BkL4R8Nz%2BODdaba%2BENRtp4LTQEkkjuLbXJrg6frNxcRx75LC1jWezMrrMQbWXIB2Pgj/gnt8X9E%2BBPhj4eeNP2gPBms%2BKvh98VLvx34A8SQ/Cy4gsbK9updQeaO7sJNXma6Xbqt6iNHcW7IGiYZeMs9O7/AOCc/wActL0v4deG/BX7T3hI6H4I1vV/E2o%2BG/FPwsuL7TtW8TX%2Bqz6mNQENtrFp5MNpNczfZLNmlSAmOQtJLBDJHzXh/wD4KNfFa9/Z1vfijf8AxN%2BHR1qfUfC5vRc/DnXNL0/wHperXDIdVvmvrtH1jT1CusWoQfY7aZoJG3xoHMeaP%2BCsOv8AiTwj4O8K%2BGPGPhW38R61rvjK11HxzY/DjWvEWkXVj4durWCS9sdK064%2B1yrcpqFjOpNyYoIvtDmaZY0aQA9h8RfsAyar%2B0DqHxM0f4l6Zp/hXXfifpPxC8QeH08I79Un17T9PtrGEw6n9pCwWrR2dsZITbPI2Z1EypMVEnwl/YX1X4YfGTxZ%2B0fba98NbTxzqnhvUtJ8M3nhP4S/2PY2rXs8NzPeanBHqDzatcSTWliZH8%2B3DJa7UERkZ6zfjJ%2B1j8Xvht43%2BEmreEPGvhLxV4V%2BJGreH7CKDTvhzqot7qG%2Bmiim1CPxEL1tOs12Tefb2k8bS3OxYInkkmQh/wAPP2vvjF8cf2s/FPwb%2BGtn4Z03wT/wgGo3fgPxVqWlXF5PqGqWWoR2M968aXMKy6eJ5XjSJTG8v2R5VnEc8RAA3wX%2Bwh8W7f8AYT8QfsSfFD9orQ9Uh8QXV3bXPiLw14BuNLP9jX18bjUbJoZdTuSZZopry3W4WRBEs8beU5iPmXf2tP2DPEX7RuteIW8H/GbT/C%2BjeNvhgfAPjHSr/wAG/wBpsukmaeTzNLkF1Aun3ZW6lUyvHcRkx2zGImBc898M/wBr/wDaNtPCHxOvPiHd%2BCfGGq6d8UP%2BEB%2BEC%2BFfC95osfiXWI7WIXXnRz6hfMsFvem8jmkRsxQ6XdylSFArn/F37Xf7aWpf8E5vh7%2B2B8NvFfwvsfF/ivwvokX/AAi2rfD3Ub621jxHqtxb2lnb2zx6zA9pbtc3KBt4uGRNzljsOQDu7z/gnkJPjrP460r4o2Wn%2BDrz4mj4hXfh608LldXbX/7IGmMyat9q%2BS2ZAJWj%2BzGYszp54ibyxxmh/wDBK3xpF4Bs/CHin9pmwurrwr4G0Hwt4B1DSvh%2BLNYbPSdXs9Ut31eI30g1Z5JbC3jmVDaRPFJdKqRm4Yr2Gk/tS/GSy/bm1f4EfE/xXoPhjwjDrVnpnhCLUPhHrat4skl0SG8kFtr7Xg02OZbl7hRa%2BVJKUtXUAsd48yj/AOChX7Xdz8G7j4p6H4A8Ka5efEP4BeJviV8FvDuieGNRnu7RtNksPs2m38cd2z6nLcRatZP/AKMtqQ8U0QUlo3oA9e8Lfsn/ALRvgLwv4sk8HftB%2BAv%2BEo%2BIXjK78QeNtR1f4SXFzpcjy6dZ6esNjYLrEbWoENjCzmWe5EskkzsP3mBz%2Bj/8E%2B/i14I8X/By38CftG%2BH7rwL8FPBGmaF4X8IeNfh7calL9rtoPssusG5t9VtY/tr2gEETPA6WweYxp%2B9YVmfFX9r/wCP2hf8E8fir%2B0v8HPi/wDDvxJ4z%2BFel61qutQ658Itc0OG3TT9Ma/OmXOkXepre2t1InksJJZVHlXCSCJlK72f8FEf28/jT%2Byj4/i8PfDjRdCaytfAk3iJ21bwlqOqpqc6XiQfYri7sriKLw5b7SC2q36var5hJH7iQEA67wl%2BwA/hD9oTT/iXp3xK0yPwho3xP1r4haX4ZtfCXlamde1XT7uyvDcan9pImtSL%2B6lWEWySBvJVpmSIIZvgZ%2BzD%2B118HfD/AMR0vv2mfhtqut%2BN/GI8SaZfR/Bu/gtNLu5PIW5SW3bX5Huo2it0EYWaFo3JctKMIOL0z9vT40XX7fkf7Nt3o2hReG5fiJc%2BGBaSeEdRR1t4vD7aol%2BniA3H9mz3TyqsZ0dIvtiRO0x%2BSJ2r69oA8h%2BCvwAvv2e/gn4w0fXvGVvruteJdY1nxJ4g1DT9G/s6ya9vCzyLa2nmzG3hGF%2BVpZXZt7u7M7Gq/jj/AJSF/C//ALIz48/9O3hCvUvHP/Ik6x/2Crj/ANFtXlvjj/lIX8L/APsjPjz/ANO3hCgD2aiiigAooooAKKKKACvBf2P/APk3rV/%2By9%2BOf/VgarXvVeC/sf8A/JvWr/8AZe/HP/qwNVoA6zX/ANib9jLxXrt74p8U/sj/AAx1LU9Su5LrUdR1DwDp0091PIxeSWSR4SzuzEszMSSSSTk1U/4YH/YV/wCjLPhL/wCG50z/AOMV534//wCCyn/BNz4X%2BO9b%2BGnjr9o77Drfh3V7nTNYsv8AhENYl%2Bz3VvK0Use%2BO0ZH2ujDcrFTjIJHNZH/AA/N/wCCWX/R0X/lk65/8hV4M8bwwptSnRvd3v7O9%2Bt9N73uaf8AETcTQ/dLPJx5dLfW6qtbS1vrCta1rWVrWsrWXs2gfsTfsZeFNdsvFPhb9kf4Y6bqem3cd1p2o6f4B06Ge1njYPHLHIkIZHVgGVlIIIBByK1v2mvgnZftJ/s6eO/2e9Q1%2BXSYfG/hHUNDfVYIBK9n9qt3hEwQkByhcNtJAbbjIzmvGvAP/BZT/gm58UPHei/DTwL%2B0d9u1vxFq9tpmj2X/CIaxF9ouriVYoo98loqJud1G5mCjOSQOa9x%2BOvxh8Ofs%2B/B7xH8b/GWmajdaN4V0qXU9ZTSoUknis4hunmCu6BljjDysM52xttDNhT6GBrZbWhJ4OUGk9eTltfz5UtbdyZcSVOJP3s8a8TyaXdWVXlvra8qlS197Jq%2B9up5H4i/Ym%2BIXj/Qfi7L49%2BPtrF4k%2BLfw703wzfa14T8KzabDpslmNRC3MUUl9PIyOL8BojMDiJsSDzBs4b4I/8ABKaL4ReIofE0PxJ8IWG34uDxy%2Bg%2BAvhfHoGkQMPCN54cNnbWqXkphDfahdtKzyMzoykfOHT0X4z/APBRD4O/BbS/F2uap4b1PULHwV4ts/DesaiPEGg6VaPf3GmxaiEhuNX1Kzhk2QTwBgH375gqK%2ByQpyNr/wAFHdJ8U%2BPo7/wTcWlx4C1zwZ8JNd8I6rFoUk95df8ACYeINW00rMj3cKxxiKzsyrAF4GkmdkucLBXcSdX8Df2KPEPwCj8CXfhH4uWVzf8Agb4G6V8OreXUPC7tDd/Y5IGN80aXasu9YWAhDnYXB8xtu1us/aN%2BAXjj4qeIPB/xM%2BD/AMT9O8I%2BM/BN7ePpWqa14afV7Ge1vLVre5tp7VLq1dwf3MqssyFZLePO9C6N5h4N/wCCjR%2BJn7RXg/wR4Q%2BD/iay8A%2BI/BXizX7TxZqmhLO3iGHSbjToY59Ljsrmacxv9qlbyp7dJ5g0DQoQTn0n9qT40fED4e6N4F8LfBxNIh8UfEnxvb%2BHdC1DxPpc9xZabmyvNQnuZ7WOa3lm22thcBYhLETIyAsozQBT8O/ssax4C/Zdtf2VvBninwvqGh6Z4HsNCsf%2BE78EtrEd5PHuF3c6hAt5BHdx3CbcwIIdjmRt7q6onndn/wAE14vDf7PL/Bfwje/CR7zVvGU3iTxHP4m%2BB8Oo6Ml28CW8R0zSRfxR6cbeCG2igLyXG1IPnErOznodK/a6%2BKb/ALBPjX9o9/h3Zax448C/8JXpl9omjw3As9Q1PQ9SvtNlmhjBknW3lksjOIgZJVjfZl3GTyfwR/bM%2BI/x68H/ABM0fwV%2B018ILq/%2BGGoWV3qHxS0vwNe33hnUdHn083TNHbJrKsksMiTxvIt7NGPIOVDs0cQB6R4V/Yo8J%2BCr34G6J4f8V3H/AAifwJ0C5tfD%2BgXlqJZr3UDp8em2uoy3G4DfFZyaihXyz5j35fcnl7Xp/Cn9l346%2BCv2tfF37Sfj/wCPHhPxTZ%2BJGks9M06X4d3VvqWg6KvzW2lWt7/azwJEJQJ53FoHuZTlioSFYfCJ/wDgpN8fdF%2BF/wAJNN%2BKPiLwV4H8ZeM/hbd/EDxjrl18K9d1mw0fTPPhFtE2mWN8Z7QLFcq11dz3fkWzQENu85NnW%2BI/2/vjBp37dMPwB0ux8Ov4Vfx7pXh23DeFNRkW/tbzQo9SOoDxClx/ZtpcLLI0UekyxG7nSJJUOy5iYAH1dd/8jtp//YKvP/RltWpWXd/8jtp//YKvP/RltWpQAUUUUAFFFFABRXnvxu/aw/Zq/ZusjefHP44eG/DJCb0tNS1RFuZV9Y4ATLJ/wFTXg4/4Ksz/ABYcw/sV/sZfE/4rwn/UeIDpg0PRZvTbeXoH6xjA5rgxGaZfhZ%2BzqVFzfyq8pf8AgMVKX4I%2BtyjgTi7PML9bwmDn7D/n7PlpUf8AwdWlSp/dOT8u311RXyP/AGv/AMFoPjDxYeEPg38HdPl%2B%2BdTv7nX9Vgz/AHfJAtXI75oH/BNX45fEz9/%2B1H/wUq%2BLXiTfzPpvgqW38MWEnqjw2yvvX8Qe9Yf2liKv8DDTfnLlpr/yZuX/AJKep/qVk%2BA1zbO8NTfWNH2mLn/5QhGlf1rNebR9MeOviz8K/hfbC9%2BJfxL8P%2BHYSu4Ta7rMFouPXMrqMV4j47/4K5/8E4Ph5I0Gt/tY%2BG7t1OAugLPqm4%2BgNnHKD%2BdVvAn/AAR//wCCd3gW6Oqv%2BznYeINQkbdcaj4u1C51WSdv7zrcyOmfooFe3%2BBPgh8F/hbEsPwy%2BEPhfw4iDCLoWgW1oF%2BnlItF89q/8%2Bof%2BBzf/tiC3hVgtG8bin5LDYaL%2B/6zUX9dT5xb/gr78KfFf%2Bj/AAE/Zi%2BN3xFmk/1Evhz4dTpbH0Z5rho9i/7RU/Shf2of%2BCqHxF/efDT/AIJyaH4VtH/1F/8AEL4k27Ow9WtrVfMj%2BhJNfW1FH1HMKn8XFS9IRhH8XzsP9aeD8H/uGQ02/wCbEV8RXf8A4DF4an%2BDR8lf8IR/wWp8dc6/8b/gT4EjfoPC/hvUNTmjHv8AbCELfTigfsJft2eKP3nxO/4Ky%2BMpmf78fhPwJpujqo9FMZY/j1r61oo/sbDS/iTqT9ak/wAouC/AX/ESM6o6YPC4Ogv%2BneDw9/8AwKrGvL/yY%2BS/%2BHTela783xM/b0/aP8Shv9Za3fxNaG2P0iihGPzp0H/BEr/gnhdSrdeM/hbrvia4U5%2B0%2BIPHWqzMT6nZcID%2BVfWVFH9hZO/ioRl/ivL/ANKlIH4q%2BI0ValmlWkv%2BnThR/wDTNKifO%2Bgf8Emv%2BCcfhvaNO/ZG8KSben2%2BGW7/AD893z%2BNd74S/Yx/ZB8BSLP4L/ZZ%2BHelyqciex8GWMcmfXeItx/OvS6K6aeW5dR/h0YL0jH/AORPExvGnGWYprFZniKie6lXrNP1Tq2f3ENjp9hpdqljpllDbwRjEcMEQRFHsBwKmoortSSPm23J3buwooooEFeM/sv/APJb/wBo7/ss1j/6hXhevZq8Z/Zf/wCS3/tHf9lmsf8A1CvC9AHs1FFFABRRRQAUUUUAFFFFABRRRQAUUUUAFFFFABRRRQAUUUUAFFFFAHnv7V1p8A739nfxXb/tQSeF18CHTc6%2BfGs8Eel7RIpiFw1wRFtMwjADnBbaOc4r5E8C/GT4e/EX/ghT4E0b4TfFXSddksfgj4Si8XWnhTXI7q8t9Ht00631xSts7SI0dqt5E4ADo4K8MMV9%2B0UAfM3/AATdPwuM3xi/4ZsOh/8ACof%2BFnRf8K2/4RPyv7E8n%2BwdJ%2B3f2b5H7n7L/aH2vPk/J9o%2B1Y53V4V%2B3l4l%2BKth/wAFjv2Pbjxv4O8P6bokGoeM7TwzqOleJp7y6v454tHikN1byWUKWjDKBVSa4DbmyU2jd%2Bh1fnj/AMFetSOi/wDBR/8AYd1UHAHjvVrdm9BNqHh6I5/76rzc3lyZfOXZx/8AS6Z9t4dUPrXGOHo/zxrr78Li/wDI/Q6iiivSPiQooooAKKKKACiiigAooooAKKKKACsrw/8A8hbXP%2Bwon/pJb1q1n3vhjSL%2B7e/kFzFLIAJHtb%2BaDfgYBYRuoYgcZPOKANCisv8A4Q/Sf%2BfvVf8AweXf/wAdo/4Q/Sf%2BfvVf/B5d/wDx2gDUryn4q/sefCr4wftG/D39pzxRf6zFrnw5F5/Z%2Bn2N3GlhqhmjKxG%2BiaNmn%2BzM0ksG108uSRm%2BbjHoX/CH6T/z96r/AODy7/8AjtH/AAh%2Bk/8AP3qv/g8u/wD47QB81ah/wSS%2BCGsaX4h8M6x8aPiTc6Hrfw98Z%2BDNO0J9S01bbQdL8TzRTal9k2WIkeYSQoY5rl7hl5DmQYA7XxV%2BwT4B1nx9qvxZ8JfFjxv4S8Wap4zufER8ReHbuwM9s1zpNhpVzZRpdWc0RtZYNNtHZXjeRZYw6SIQoX2D/hD9J/5%2B9V/8Hl3/APHaP%2BEP0n/n71X/AMHl3/8AHaAOT/Zy/Z48P/sxfCvwt8FfAfjXxBfeG/CHhOy0HSLHW5raZvLtgyrcySpAkkk7qVVyW8siNSqKxZm5fQP2Hvh14d%2BOa/Gqz8e%2BK5Le08Saj4k0TwVNdWh0bSNdv7WS1vNUt1FsLnz5Yri7BSSd4Va8uGWJWkJr1T/hD9J/5%2B9V/wDB5d//AB2j/hD9J/5%2B9V/8Hl3/APHaAPIfiR%2Bwf4E%2BKvjSz8a%2BLfiz41Z5tK0TT/G%2Bn20%2BnxWvjWPSbt7uyOpItnlSs8szP9jNqsqytFIGiCxrV0f/AIJ2/B6x8bya7rvjbxbrvhuPW/EWsaT8PNYurN9F0u/1wXY1O4h8u1S7cyjUL9Qk9xLHGLyURog2BPaP%2BEP0n/n71X/weXf/AMdo/wCEP0n/AJ%2B9V/8AB5d//HaAPHvh7%2BwvZ/DHS9ak8LftN/EseI9U0DSNA0/xpePos%2Bo6NpGmzTS2thbI%2Bmm1dM3Fwry3EE08gmO%2BVmSNkbP%2BwJ4Ds/C/h6x8C/GDx14X8TeHrnWZ/wDhYWj3Wnya1qD6vMLjVPtDXVlNbsLmdIZWCQJ5bW8Ih8lY1Uex/wDCH6T/AM/eq/8Ag8u//jtH/CH6T/z96r/4PLv/AOO0AePv%2BwZ4GGk%2BDPh1Z/F7xvbfDjwGPD39gfC2CfThpCtojW0mnGSY2R1BxHNaW0pT7WI3eEblKs6tZ%2BHn/BO79jb4Q/tGQ/tRfCP9n3wj4U8Tw%2BHbnSA3hrwpp1jEyzzJLLcEw26yG4O0xmTfyjupBzmvV/8AhD9J/wCfvVf/AAeXf/x2j/hD9J/5%2B9V/8Hl3/wDHaAPNvD/7C/7MNv8AAHw/%2Bzf8SfhRonxF8O%2BHr2XUIF%2BI%2BhWWryXOpzSTy3GpSrLB5X2qaW6uXeRI05uJAAoYisv4W/8ABPj9n34N/Cz4R/BbwDaX1j4b%2BDetDV/D%2Bl20dpBFqV8LO6tluL5YYEWZwbuS4ygjzcLHIclAK9d/4Q/Sf%2BfvVf8AweXf/wAdo/4Q/Sf%2BfvVf/B5d/wDx2gDgPG37LcHxJ%2BL%2BlfEvx78b/Gup6NoWvW%2Bt6N8PJDpkWjWmoQQ%2BXDPuiskvpdjlphHLdPH5p3bMKirzHw3/AGAPBXwm1K61bwL8bfH1pPa%2BHb3QfAZefTJV8C6Zd3kN3cWulrJYlWRpba1H%2Bmi6IS0hjBCLtPs3/CH6T/z96r/4PLv/AOO0f8IfpP8Az96r/wCDy7/%2BO0AeHeNf%2BCeHhfx5%2Bz38SvgHrf7RfxIE3xgluP8AhY/jeJtFOsaxBNp0emSWuH01rO2i%2BxxRQj7PbRMuzeGEjO7O%2BKv/AATz8L/Ge1nj8eftFfEma513wKPBvxBvrSbR7eTxpogmuJBaX6x6cI4cfbLtBJYraShLmQb87Svt/wDwh%2Bk/8/eq/wDg8u//AI7R/wAIfpP/AD96r/4PLv8A%2BO0AeR6Z%2Bwf8ONK%2BM0XxVt/iN4wbSrXxtP4wsvh891Zf2Jba9NaSWsl8uLUXhJWWV/Ja5NuJZDIIgwUj3Csv/hD9J/5%2B9V/8Hl3/APHaP%2BEP0n/n71X/AMHl3/8AHaAE8c/8iTrH/YLuP/RbV5d44/5SF/C//sjPjz/07eEK9RPgzQ3ws7X0yZBMVxq1zIjezK0hVh7EEV5d44/5SF/C/wD7Iz48/wDTt4QoA9mooooAK534r/FfwD8EfAV78TPibrjafo9g8Ec00VnNcyySzTJBBBFBAjyzzSzSxxRxRo0kkkiIiszAHoq8g/bX%2BG/j74h/CfSL74ZeGW13WPCfj/w74nh8OpdwwPq0Wn6nb3E9tHJO6RLMYUkMXmukZlWMO6KS6gG3ZftW/AS%2B%2BBd1%2B0injpofCFjJPDfXt5pF3b3Ntcw3JtJLSSyliW6S6Fypg%2BytEJjLiMIXIU413%2B3P%2BzZZeBrHx7J4m8QSR6j4gl0O00K28A61NrralFA9xLato8dmdQSRIEadg1uNsW2Q4RlY%2BWeFfgT478T/ALO3xQ8PfGT9n7xnbXfjvxveeONP0Dw5r%2BjLqWl3CX8EmnW8M7Xv2ZdSiNha3pLObQSybPOlAbPkDfsR/tFNpR%2BJ3xI%2BG/xN8YJ4n%2BOl54y8QeH9O%2BIWl6R46sbf/hFLbQbSRdT068sLOB2az3zQ2N1CnkXEcQaVY5UlAPvX4dfEPwV8W/AWj/E/4ceIoNW0DX9Nhv8ASNSts7Lm3lQOjgMARkEZBAIOQQCCK8e/Y/8A%2BTetX/7L145/9WBqta/7LPwY%2BKXgX9iDwR8C/GniiXwl4o0nwbaabcah4VhsHl0lo0CokQltpLSSSNAqM3kNG7BmVcEVk/8ABPfw1Jafsx6j4V8R%2BIb3X5Lf4tfEKC61bVEgS5vnTxprQM8gto4olkYjcfKjjUMflVRgAA96orK/4Q/Sf%2BfvVP8AweXf/wAdpf8AhD9J/wCfvVf/AAeXf/x2gDUqpr2haP4o0O98M%2BItNivNP1G0ktb6zuE3RzwyKUeNh3VlJBHoarf8IfpP/P3qv/g8u/8A47R/wh%2Bk/wDP3qv/AIPLv/47QB8/eCf%2BCYPwo%2BGnwj8B/DD4efGr4j6VqHw%2B1vU9U0vxyup6fc63eS36TRXQupLmykgk3RTeUrrCksaQxCN02kmx4G/4JifAP4f%2BGvD3hXRPFvjCS28NeGvh5odg13qVs8j23g3VbvVNLaRvs43SSz3kq3DcB0VBGIWBdvef%2BEP0n/n71X/weXf/AMdo/wCEP0n/AJ%2B9V/8AB5d//HaAPEPht/wTu8C/Cn4iaX8QPCXx1%2BIir4X8N67oXgPQri802Sw8LWeqzW00yWiGx3ymJ7SDyTdPcbFTYdyfLXpHxz%2BAeifHfwbpfhzV/Gmu6Jqmga1a6x4e8WaA9quo6ZqEAZVuYhPBLbsWjkmidJIXjeOaRSmDx0//AAh%2Bk/8AP3qv/g8u/wD47R/wh%2Bk/8/eq/wDg8u//AI7QBxfw2/ZtsPhF8MIfhX8Pfir4qsLVNO1dbjUSbCa8utU1K6a8uNakeW0ZTe/aZbiYAKLYvcyboHAjCczc/sK%2BANd%2BCvxB%2BDvjv4n%2BMvEc3xVbb4/8Xapc2Meqatb%2BRFbG0P2a0itoLc2sX2fy4YIxsllYYlkeU%2Btf8IfpP/P3qv8A4PLv/wCO0f8ACH6T/wA/eq/%2BDy7/APjtAHm37Rf7HXg39om%2BttXl%2BIvirwdfR%2BGdQ8N6hfeDZrKKTUdFvTCbnT5ftVrOFjZoIyssQjniIby5U3vuwrT/AIJ5/CPTPiVH4x0Tx34vsfDq%2BKtN8Ty/De2vLP8AsSbWNPs7e0tLxi1sbxTHHZ2jeUlysDSW6O0ZYuW9m/4Q/Sf%2BfvVf/B5d/wDx2j/hD9J/5%2B9V/wDB5d//AB2gBLv/AJHbT/8AsFXn/oy2rVrnfEes/Db4Q6DeeP8Axz4rs9F020g/03WfEGslYYI85wZbh8ICccZGTivmbVv%2BCnPir466xP4K/wCCcf7OesfFO4hlaG68c6tu0nwxZODgn7TMA9yynrHGFLDlWauLFZhhMG1GpL3ntFXcn6RV2/WyXdo%2BlyHhDiHiSE6uCo/uYfHVm406NP8Ax1qjjTi%2B0eaU39mEj67ry347fttfsmfs0QSv8cPj/wCGtBuIV3NpkuorNfEf7NrFumb8ENeJR/sGftfftHuNT/bp/bZ1eHT5eX%2BHvwcDaNpaA9Y5bpgbi6T2cAjHDV6r8DP%2BCdf7E/7OM0WofCn9nPw7a6jCwdNa1G1N/fh%2BpYXN0ZJVJPPysB7Vy/WM2xP8Giqa71Hd/wDgEL/jNHvPJvD7JXbMcxqYuot4YSCjTv2%2Bs4hRT9aeHkuzel/LB/wUa/aE%2BPp%2Bx/sK/sLeLPEVlNxD45%2BIrjw/o23tNEsuZbtOnCbG9uKB%2Bxf%2B31%2B0L/pP7Xn7eN34a0ybmbwX8DbH%2By4UB6odRmDXMikcFWUjGeea%2BvaKP7KlX1xdaVTyT5If%2BAwab/7emw/19oZX7vD2W0MJbapKP1nEevtcRGUIP/r1h4W6M8F%2BCP8AwTH/AGHvgFejXvB/wD0nUNa8zzZfEXijdqt%2B8veUS3Rfy3PcxhfpXvKqqKERQABgADgClor0MPhcNhIclCCiuySX5frc%2BSzjPs84hxX1nNMVUr1P5qk5Ta8lzNpLyioryCiiitzyQooooAKKKzNS8a%2BDdHlMOr%2BLdMtXHVLm/jQj8GYUnKMVdsUpRirt2NOiuWvvjl8FNMUvqXxg8LW4HUz%2BILZAPzesHUv2xP2RtGz/AGx%2B1N8OLTHX7T44sI8f99TCsZYnDQ%2BKpFeso/5mE8Zg6fxVIr1lFfnJHo9FeSR/t%2BfsKTXBtY/2z/hSXHb/AIWFpvP0PnYNW7z9t39i/T7UXt9%2B118MIYT92WTx9pwU/QmbmoWOwLX8WH/gUf8A5IyWZZa1dV4f%2BBw/%2BTPUKK8J1X/gp3/wT20dit3%2B2J4Bcr1%2By%2BIIp/8A0UWzXMa//wAFlv8AgmZ4bQvf/tXaRLjtp%2Bk392T%2BENu9YzzbKqfxYiC/7fj/APJGE88ySl8eKpr/ALiQ/wDkj6dor5K/4fX/ALCdz8%2Bh63411OM/cmsPh5qbK49RuhWkP/BYP4O63%2B5%2BFn7MHx58azngReG/hdcPg/7RlePaPesv7cyfpXi/S7/KLMP9ZMge2Ji/RuX/AKTGV/kfW1FfJP8Aw9J8baF/pfxC/wCCaP7ROmWL8x3mneC47/Yn96VY5gYvcc1LZf8ABaz9gi1uU0/4jeMvFHgi7c7VtPF/gTUrZt3oSkLqPxOKP7cyn7VZR/xXj/6VGP5guI8jT9%2Buo/4lKH/pcIr8T6xrxn9l/wD5Lf8AtHf9lmsf/UK8L1laR/wVH/4J4a3Gktn%2B2D4GQOMgXesrbn8RLtI/Go/2HfiL4B%2BLPj/9oL4g/C/xnpfiHQtQ%2BMtp9h1jRr5Lm2uNng3wzG%2BySMlW2ujqcHhlIPINdlHGYPEu1GpGT8pJ/k2ehh8fgMXLloVoze/uyi3b0Tb/AAPf6KKK6TrCiiigAooooAKKKKACiiigAooooAKKKKACiiigAooooAKKKKACiiigAr85f%2BC3f%2Bg/tRfsxeLOn9garqWobv7u3XvCaZ/8iV%2BjVfnL/wAF7v8AQJ/B3izp/YHgDXNQ3f3dvivwOmf/ACJXk57/AMiau%2B0W/uaf6H6B4U6%2BJOUw/nrRh/4MjUp/%2B5D9GqKKK9Y/PwooooAKKKKACiiigAooooAKKKKACiiigAooooAKKKKACiiigAooooAKKKKACiiigAooooAKKKKACiiigAooooAKKKKACvGfHH/KQv4X/wDZGfHn/p28IV7NXjPjj/lIX8L/APsjPjz/ANO3hCgD2aiiigAooooAKKKKACvGf2D/APkiGuf9lm%2BI/wD6mut17NXjP7B//JENc/7LN8R//U11ugD2aiiigAooooAKKKKACiiigAoor54/aY/4KO/CP4HeLR8E/hpoWpfE/wCKlyCth8O/BafaLiN/715KoKWcYyCxfLKp3bCOa58Ti8Ng6XtK0lFfm%2ByWrbfRJN%2BR7GR8P5zxJjvqmWUJVZ2bdrJRit5zk3GFOEd5TnOEUt5dH7p4x8aeEPh54ZvPGfj7xTp2i6Rp8Xm32qareJb29un955HIVR25PevlLWv%2BCkvxK/aM1W58B/8ABM/4CXXj6SOVoLv4meKY5dO8Lae4OCRIwWW9ZT1jjCnBDKXFcB4/%2BFHhi%2B1DTv2jP%2BC3H7RnhizgjnFz4V%2BCtpqezQ9MbsZIVJl1W4UHDHDoPnGXQgD0O2/4LO/8E1PDumReFPhT4/1HXfsMIhsNA8GeAdSbAAwkUSm3jjGeAAGA%2BleBXzR1p8tWvHDQ7Nx9q16O6hfppKfofQYzN/DLgGp7HFVqWY45bp1OXCU32Si41sW11a9jQb0j7WOsrHgj/gl9D8SvFFr8Wv8Agod8YdQ%2BM/ia3k86y0C7T7L4Z0l/7tvp6YWXA%2BUvLkOACyZ5r6bv9T%2BHnwl8IJNqeoaN4Z0HTYljjaeWGys7WMcKoJKoi%2Bg4FfK5/aI/4Kd/tSL9n/Zu/Zd074PeHLjhPGXxjn36mYz/ABxaVBlopAMECYsh9a0PCX/BJb4W%2BKteh%2BIf7bHxX8U/HXxPGd8b%2BL7xoNIs3PX7NpsDCKJTz8jF174BrXCThTTWXYdu%2B9Sd4p%2BblJOpP5RS7WPjM/8AEHinjGcE1KpThpBSXsMPTXalRjGKS/wUk5byqSepv/ET/grz/wAE4/hnqI0nWf2pND1G5LbRH4Yt7nVxx1%2BeyilTj61zh/4Lk/8ABMdlMdv%2B0JeTXJ4isovA%2Bs%2BbK3ZVBtACT7kV9H/Dj4K/B34O2H9l/CX4UeG/DFvt2mHw/okFmpHuIkXP410xAJBI6dK7fZZ5LV1aa8lTk/xc039x8/7HiOWrr0o%2BSpzdvm6ib%2BaR8kD/AIKuS%2BNTs%2BAH7Bfx48aI3%2Bq1M%2BC/7O0%2BT0xcXEn81FL/AMNTf8FVPGZ3eCP%2BCZOkeHoG/wBXd%2BMfizZOzD1MNum9PoTX1tRR9Rx8/wCJipf9uxhH9Jv8Q/s3M6n8XGz/AO3IU4L8VN/ifJX9rf8ABcLxF%2B8sfCf7NPh2M9Y9Tvtcu5h9DD8ho/4QX/gtdqHzXnx3%2BAOnH%2B7YeGNTmA/7%2BmvrWij%2Byk/ir1X/ANxLflFB/YifxYmu/wDuK1%2BUEfJR%2BCX/AAWL1b/R7/8Abe%2BGOko33rjSvhsZ5E%2BizPtP40D9hD9u3xN8/wASv%2BCtPjSct95PC3gLTdHA9gYy3519a0Uf2PhX8c6kvWpP9JRD%2BwMFL%2BJOrL1rVPyUonyV/wAOn/7Z/eePP%2BCh/wC0xrDN9%2BEfE77Pbn6RxwcfnQP%2BCMn7Kd38/iPx/wDFjWJD1m1P4mXzMf8Avhlr61oo/sPKXvRT9XJ/nNh/q3kb%2BKgn6ucv/Sps%2BSv%2BHJH/AAT8u/k8QeBPFGrRn70Oo/EDVWVvrtuFrT03/gi7/wAExtKiENr%2Bynprgd7nXdSmP5yXLGvqKimskyaLusND/wABT/O448OcPxd1hKf/AIBF/mmfOdj/AMEkP%2BCb2nuHg/ZH8LsR/wA9xPKPyeQ1vab/AME1f%2BCf2lY%2By/sbfDlsdPtPhS2m/wDRiNXt1FaxyvLIfDQgv%2B3I/wDyJvDJcmh8OGpr/uHD/wCRPJZP2B/2GJbcWj/sZfCnyx0UfD3TRj6fuOKqWf8AwTr/AGCLG6N5B%2Bxn8MS57S%2BCbJ1H0VoyB%2BVey0Vo8vwD/wCXMP8AwCP/AMiavK8rbu8PT/8AAIf/ACBwGlfsn/ss6EoXRP2avAFmF%2B6LXwbYx4/75iFdPoPw7%2BH/AIVcSeF/Auj6aw6NYaZFCR/3worYoraFChT%2BCCXokvySOiGGw1L4KcV6RivySCiiitTYKivbGy1G2ey1CzinhkGJIZowysPQg8GpaKNwaTOF1b9l79mfXnaXXf2dvAt6znLtd%2BEbKQsffdEc15/%2BxZ4I8F/Dn4lftC%2BDfh74Q0vQdHs/jPafZNK0bT47W2g3%2BDfDMj7IolVV3OzMcDlmJPJNe9V4z%2By//wAlv/aO/wCyzWP/AKhXhesoUaNOXNGKT7pJP70kzGGHw9OfPCEU%2B6ST%2B9JP8T2aiiitTYKKKKACiiigAooooAKKKKACiiigAooooAKKKKACiiigAooooA8//ar%2BNVz%2Bzn%2Bzf42%2BOOn6Cmq3nhjw5dX2n6ZLMYo7u6VD5ELuASiNKUVnAJVSTg4xXn/w2/aH%2BO%2Bjaf8AGLwH8Y7Pwl4g8Z/CzS4NUsr3w1bS6Jpms21zpz3NujpeXVybNxPBcQu7TumxEl%2BTcY09e%2BLnws8G/HD4WeIvg38Q7CS60LxTotzpWrQQzNFI1vPE0b7HXDRuAxKupBVgCCCBXmnhj9hvwXp3hPxp4T8f/Frxp44X4kWN1ZfEG%2B8US6cLjXrWWwTT44JDZWVusEcNujCNbZYctNLJJ5juWoA43/gnT%2B2T8Vf2qL/xXpHxMXSpv7E0Lw/qdneWngLVfC1xu1GK6eS3fTtVnmuJYYvs6eVqKEW10ZJViGbaQn56/wCC03xE%2BFHxVfxH8NvBPxM8Pa1rnhT4EeLH8S6LpWtQXF3pDr4m8ETRrcwxuXgLeS5AcKTsOOhr7R/Z/wD2VtI%2BBHifWvH2ofFvxj468R65oumaNc%2BIPGk9i1xFpmntdPaWka2NpbRBUkvbuQyMjSyNMS8jhUC/PP8AwVt0f%2B3JdSstmdn7LPxNuMf9cdQ8Iy5/8crz83h7TKcRHvCf/pMj7Dw8xP1PxAyiv/LisO//ACvS/wAz7C%2BH%2Bsf8JD4D0TX9%2B77dpFtcbvXfErZ/WtevPv2S9Y/4SH9lX4Z6/v3fbvh9o1xu9d9jC2f1r0GuuhP2lCE%2B6T%2B9J/qfP5thvqebYjD/AMlSpH/wGpOP/toUUUVqeeFFFFABRRRQAUUUUAFFFFABRRRQAUUUUAFFFFABRRRQAUUUUAFFFFABRRRQAUUUUAFFFFABRRRQAUUUUAFFFFABXjPjj/lIX8L/APsjPjz/ANO3hCvZq8Z8cf8AKQv4X/8AZGfHn/p28IUAezUUUUAFFFfP3/BS46YP2a7X/hNPL/4Qr/hYXhf/AIWR9o/49/8AhHv7ZtPtv2rPH2Py/wDj53fu/s3n%2BZ%2B730AfQNFfBfgi0%2BF/j79gL4tfC/4f/GXwV4W8CR%2BO9S1bwE2ra1Ha6IfCMOsRSPE7I37nQ7qeDULMTRgwi1mPlBowinxJG8Sat8K7NdXk%2BCfhL9n/AFj9py9Ni12kmqfDix0ZPB0flKFJ0%2BK%2B019eivNpY21vJfujqCPKSQA/WGvGf2D/APkiGuf9lm%2BI/wD6mut039lHx74v8ZfsQeDfHHw3%2BC3hnQ9Um8LxDQ/By3c2kaMqRkxxeQ6Ws0lrZyRqssI8h2WKSMFe9U/%2BCdNx4lu/2br668ZaTY2GryfFv4htqdjpmovd21vOfGeteZHFO8MLTIGyA7RRlgASi5wAD3SiiigAooooAKKKKACs7xb4u8LeAvDN94z8beIrLSdI0y2a41DUtRuVhgtolGWd3YgKB6mvNf2xv21Pgf8AsP8AwvPxK%2BMutvvuXaHQtAsAsl/q9wAP3UEZIzjK7nJCoCMkEqD8g%2BIf2RP26P8AgrfeWPjL9snxBcfBn4SLMlzonwr0aTzdWvF6rNeO6hUlwRgyISm0gQRklm8jH5o6E3h8LD2ta1%2BVaJX2c5bRX/kz6LqTRxmXwxip4hVJJW5lSinLXVLmm404OSTs6krJXlySSSlxX7Vv/BXGX9qPxn/woz9nXxb4p8OeB7i4NvPqngrSnuvGHjIjrb6TajBsoWH/AC9TFCwztBKPE3oP7NX7JX7b0vhBvB3wE%2BG3hb9lbwVqGG1LVZ9viHxvrI7yXE74jiZgScMVeEsdowMV9c/sx/sVfszfsfeHzofwE%2BFdhpE00YW/1mRTPqF93JmuZMyOCeduQgJ%2BVR0r1SvNwuRYytV%2BsZjW5qj6Q91JfyqXxJd%2BXkv1kz2M84jzvPsAsrpS%2BpZcmn9Ww8pL2jX28ViGo1cTV87U6UPho0oR1l88fAT/AIJg/spfA/xA3xF1fwze/EDxvOwe88dfEe9Or6lLJ/fUzDy4j1wY0VsHBY19B2llZ6fbraWFpFBEg%2BWKGMKo%2BgHFSUV9DhsJhcHDkoQUV5L83u35tt%2BZ8/hMDg8BT9nh6agvJb%2Bbe7fm235hRRRXQdQUUUUAFFFFABRRRQAUUUUAFFFFABRRRQAUUUUAFFFFABRRRQAUUUUAFFFFABXjP7L/APyW/wDaO/7LNY/%2BoV4Xr2avGf2X/wDkt/7R3/ZZrH/1CvC9AHs1FFFABRRRQAUUUUAFFFFABRRRQAUUUUAFFFFABRRRQAUUUUAFFFFABRRRQAV8of8ABQTR/wDhIfiXNoG3d9u/ZQ%2BLMAHrvm8Lr/Wvq%2Bvnr9o/R/8AhIv2ufCnh/bu%2B3fs9fEi32%2Bu%2B/8ACa/1rHEw9phpw7xkvvTX6np5LifqedYXEfyVaUv/AAGpTl/7abX/AATe1j%2B3P2A/g3e7s7PhvpFvn/rlaxxf%2ByV7XXzX/wAEfNY/tz/gmr8Jr3fu2aBNb5/643c8WP8AxyvpSubKp%2B0yuhLvCH/pMT2uP8N9T48zah/LisQv/K9X/MKKKK7z5IKKKKACiiigAooooAKKKKACiiigAooooAKKKKACiiigAooooAKKKKACiiigAooooAKKKKACiiigAooooAKKKKACvGfHH/KQv4X/APZGfHn/AKdvCFezV4z44/5SF/C//sjPjz/07eEKAPZqKKKACiiigAooooAK8Z/YP/5Ihrn/AGWb4j/%2BprrdezV4z%2Bwf/wAkQ1z/ALLN8R//AFNdboA9mooooAKKKKACvnf9uX/gol8Nf2PrK08CaFpU3jT4peIisPg/4c6HmW8vJnO2OSYICYYd3cjc%2BCEDYYr5H/wVU/4Kl3v7Ok8X7Kv7KsB8QfGTxI0VrDFYW4uf7C8/AjJjAIku33DyoSDgESONu1X3v%2BCYH/BM6T9l22uf2i/2j9VfxV8avFaNNret6ldG7fSVkHzW8UrEl5SOJZgfmxsU7Bl/nsTmdfGY2WAy/wCKPx1N40/JfzT7LZby2sVDB4/F4KeMpONOjGTh7SSvz1Fbmp0Yae0dO69rUbVKk3GEnOrJUoyfsf8A/BPrx7qvxOj/AG3/APgoZrVt4v8Ai/eKsmjaIMSaV4JgBLR2tpGCUMqZJMgJCuWKs7lp5PsKiivWwWBw%2BAo%2BzpLfVt6yk%2Brk923/AMBJJJHNhsPDC0VThd7tt6tt7yb6t9X5JJJJJFFFFdZuFFFFABRRRQAUUUUAFFFFABRRRQAUUUUAFFFFABRRRQAUUUUAFFFFABRRRQAUUUUAFFFFABXjP7L/APyW/wDaO/7LNY/%2BoV4Xr2avGf2X/wDkt/7R3/ZZrH/1CvC9AHs1FFFABRRRQAUUUUAFFFFABRRRQAUUUUAFFFFABRRRQAUUUUAFFFFAGb4z8Y%2BFfh34P1b4geOdftdK0TQtNn1DWNUvZQkNnawxtJLNIx4VERWYnsAa5r4L/tF/CT4/%2BHtT8S/DbXb5odFvvsetWmveH77R73T5vIjuAs9pqEMNxDuhmilUvGA8ciupKkGsf9tT4Q%2BKvj5%2ByZ8Q/g74Fe1Gt%2BIPCl5a6PHfSlLea6MZMUUrAErE7hUdsHCsxwcYPkXhz4Q/HL41D48av43%2BDmvfDuT40%2BGB4f0e21PVdLuptES20h7Zb28NjeTJvlnu5hGsDTER2iNIYi4QAHuXwP8A2j/hT%2B0Zpt1rnwkvdbvdOtlhki1TUfCGp6baX8MoYxT2U95bxR38DhCyzWzSxlSpDYdSeS8eIkv/AAUH%2BGEcigq3wY8ehge4/tbwhXC/8E7/AIV/tH/DHUNX0/4n%2BGvGvh7wvD4L8P2Fronjzx1Br083iC3F2up39k8N1ci1sJY2sVjg3QqDC5W1thnzNq/8F%2BJPD3/BTbwX4i1b4ueIdds9W%2BD3jh7DQdVttOS00ULq3hLKWzW1pFO4fcM/aJZz8g2lfmyAcn/wREd7b/gnF4O8NSsS%2Biavrtg%2BeoK6vdtg/g4r6zr5L/4I5f6D%2Bzv438J9P7A%2BNXijT9v93bdh8f8AkSvrSvJyL/kTYddoJfddfofoHitr4l5vP%2BevOf8A4M5Kn/uQKKKK9Y/PwooooAKKKKACiiigAooooAKKKKACiiigAooooAKKKKACiiigAooooAKKKKACiiigAooooAKKKKACiiigAooooAK8Z8cf8pC/hf8A9kZ8ef8Ap28IV7NXjPjj/lIX8L/%2ByM%2BPP/Tt4QoA9mooooAKKK8h/bX%2BJHj74efCfSLL4ZeJW0LWPFnj/wAO%2BGIfESWkM76TFqGp29vPcxxzo8TTCF5BF5iPGJWjLo6gowB69RXylYfGX9qif9kP4oWHg3xBqPirx38PviNd%2BGbfxRa6Day6lfaXFfWrTX8dnDElvPfwadcy4iSIRzXNqAIQJPKrxbxp/wAFRde%2BG/wE%2BJHw91v4/wAvh3xVZ/Em98KfD/4jfGLRrHw9ffYI/Dmma3PqN1ZXFvaQC6iGoNb29u1shmkayMkO15iAD9Fq8Z/YP/5Ihrn/AGWb4j/%2BprrdXf2c/wBoTR/HP7Fvgb9o/W/FEviiLU/Amm6lquqeFNKk1WS9uWt4/tBhttNikeV/O8wGOGMlSGAUbSBif8E6fENh4t/ZuvvFOlW99Fbaj8W/iHc28Wp6XPZXKI/jPWmAlt7hEmgcA8xyIrqchlBBFAHulFFFABXwt/wVO/4Ky2/7NOn6l8Bv2Z3i1n4ktGkOp6jFCLi38Mmb5YlZRkTX0h/1VvzjG%2BQbV2t6F/wUn/bF8R/CDRLH9m/4B61aQfE/xvYzyw6ndShbfwlo0SsbzXLtufLjijWQoT1ZSQG2bG8A/wCCVP7EHg74n%2BL7D9rTV/Dl4vgLw1eSt8LLfXoyb7xNqJOLnxVqG8ktNK4PkIxIiUDaPkWST5bN8wxeJxP9m5e7TfxT/kXW3mk9X0bjFe8/d9Xh3JqWf18TicZOVLLsHy/WKkHadSpNN08Hh200q9ZK86lpLDUFOq05%2Byi/Qf8Agk5/wS7n/Zwtm/am/aa3618X/E6yXUr6lKbh9CWfLSKXbJe8k3Hzpu2TGp27i/3LRRXt5dl%2BFyvCRw9BWS%2B9vq2%2BrfV/oZ5nmVTM68ZckadOEVCnTgrU6VON%2BWnBXdoq7bbblOTnUqSnUnObKKKK7jzgooooAKKKKACiiigAooooAKKKKACiiigAooooAKKKKACiiigAooooAKKKKACiiigAooooAKKKKACvGf2X/wDkt/7R3/ZZrH/1CvC9ezV4z%2By//wAlv/aO/wCyzWP/AKhXhegD2aiiigAooooAKKKKACiiigAooooAKKKKACiiigAooooAKKKKACiiigAooooAK8Z8cf8AKQv4X/8AZGfHn/p28IV7NXjPjj/lIX8L/wDsjPjz/wBO3hCgDzH/AIJVf8SvVP2kvCTcfYf2nfE00S/3YpltnQfoa%2BtK%2BS/%2BCen/ABKf2sP2rfCfTyfipaaht/6%2BrFXz%2BO2vrSvJyTTLYx7Oa%2B6pUP0DxR97javV/wCfkMNP/wADwmEf6BRRRXrH5%2BFFFFABRRRQAUUUUAFFFFABRRRQAUUUUAFFFFABRRRQAUUUUAFFFFABRRRQAUUUUAFFFFABRRRQAUUUUAFFFFABXjPjj/lIX8L/APsjPjz/ANO3hCvZq8Z8cf8AKQv4X/8AZGfHn/p28IUAezUUUUAFc78WPhP4B%2BN/gK9%2BGfxN0NtQ0e/eCSaGK9mtpY5YZkngnhngdJYJopoo5Y5YnWSOSNHRlZQR0VFAHnHhb9lH4L%2BCPh7dfC/whZ%2BJNN0i9tJ4boWfjzWI7qV57qS6nuzdC7%2B0fbZJ5ZJHvfM%2B0uW%2BaUgADT8Bfs9/CT4a/DK/%2BEPhLw3OmiasbttYF/rF3eXeoyXIInmuby4le5uJnBwZZJGkwFG7CjHaUUAZvgzwh4d%2BHvg/SfAPhDTvsek6HpkGn6Xaec8nkW0MaxxpuclmwiqMsSTjJJPNeV/sH/8AJENc/wCyzfEf/wBTXW69mrxn9g//AJIhrn/ZZviP/wCprrdAHs1eeftV/tHeCv2TPgF4k%2BPfjxt9poViXt7JH2yX90x2QW0f%2B3JIyoDg4yWPANeh1%2BaP/BQz9pyz%2BK/xs1zxVb2w1X4d/s5XsSWGmBDJF4t%2BI1xmKwsAg/1yWhYySKORslUgq6mvJznMFl2Cc4v33dR8tLuTXaKvJ99FvJGf1bM8zxuHyrK4c%2BLxVSNGjH%2B/N25n2jBXqTb0UY6tI4j4d/AD4o/tZfHy6%2BBnxL1aa48a%2BOks/FH7T/iK1LJ/wjuiZWXTfB1q2SYWYLG0qg5%2BRcmQQsD%2BrWg6DovhbQ7Lwz4b0uCx07TrSO1sLK1iCRW8MahEjRRwqqoAAHQCvGf%2BCfv7K0/7LHwEt9N8ZXjal498VXLa98R9euHEk1/rFx88wLj7yRk%2BWuMDClsAu2fcawyLLXgsN7Wov3k9XfVpbpN9Xq5SfWcpdFG32fE%2BKyrAYfD8N5LPmwOC5kp9cRXk/wDaMXPq3WmrU76xoQpRVryQUUUV7p8gFFFFABRRRQAUUUUAFFFFABRRRQAUUUUAFFFFABRRRQAUUUUAFFFFABRRRQAUUUUAFFFFABRRRQAUUUUAFeM/sv8A/Jb/ANo7/ss1j/6hXhevZq8Z/Zf/AOS3/tHf9lmsf/UK8L0AezUUUUAFFFFABRRRQAUUUUAFFFFABRRRQAUUUUAFFFFABRRRQAUUUUAFFeRft9fELxp8KP2KPin8SPh5rMmmazovgbUbqy1eGMM%2BmlYG3XihgVJgXdMNwK5j5BGRXnXwN8c6l%2Bz9rX7QnhTw7f8Ajz4i%2BFvhnaadq%2BgabPrV94l1qW6l0YXdzpNtPcyTXN1I%2By3njhZ3YNqAVdsZjRQD6irxbx1PCv8AwUR%2BFts0qiR/gv49ZEJ5IGr%2BDwT%2BG4fmK8e/4JR/G3x78UfH3x20T4n%2BNPHusazZ%2BNtL1CaDxd4R13SrPSDeaFp80un6fFq1rAYLaKdpljhCrI0eyeRSbjzJOB/b3/ab8Z/B7/gq9%2By/4n1r4VeJPD/hqxj8X%2BHdU8Qapc6c1jq9nqc/h%2B3E8QtruWeOKGcW7sbmKA52bQ3OOfFYiGFoOrPZWv8ANpX%2BV7nLjMVTwWGdefwq1/RyjG/y5r%2Bh6p%2ByAP7H/wCCoH7WugHhLo%2BCdQt19d2kyrIf%2B%2BsV9aV8l/Bj/iS/8FjPjTpnT%2B2vhZ4c1DH97yXeDP64r60rhyfTDVI9qlVf%2BTt/qfpXiR7%2BdYSt/PgsDL7sLCH50wooor1j8/CiiigAooooAKKKKACiiigAooooAKKKKACiiigAooooAKKKKACiiigAooooAKKKKACiiigAooooAKKKKACiiigArxnxx/ykL%2BF//ZGfHn/p28IV7NXjPjj/AJSF/C//ALIz48/9O3hCgD2aiiigAoorz/8AaX%2BONz8AfhrF4s0XwiviDWtV8Q6XoPhvQ5NR%2Bxx3uo6hexWkCyz%2BXIYIVaXzJZBHIyxRuVSRgqMAegUV8%2B3P7dF1oX7L3in43eLfhTHaeJ/B3jE%2BEdb8JW/iISWkesPqUFhBjUHgTFlIbq1uDctArRwSlniDI0dHhD9rH47/ABK8MeLNP%2BHXwO8CXfjX4deN5vDfxB0nUfitPb6Pp8qada6iskGoppMklxut761yr2sOxzKjEeVlgD6Crxn9g/8A5Ihrn/ZZviP/AOprrddp%2Bzt8ZdK/aL%2BAXgn4/aFod5pll428Kafrtpp2obfPto7u3SdY3KkqWUOBlSVOMgkEVxf7B/8AyRDXP%2ByzfEf/ANTXW6AI/wDgoR%2B0pc/sq/soeJ/id4fRpvElxCmk%2BDbKNN8lzq92fJtlRP4yrN5pXusTV8h/sa/syWHi39pTwZ%2Bzgm2/8I/sz2aa74%2B1Df5ieIPiNfr5js7nPnfZRuKtksjRhDwRWr/wUU/aE0vXP2qr7XL4x3Xg39lfwmfF2sW8hzBf%2BMr5fJ0Syf3RnSUEdN0gPSvpn/gm5%2BzpqP7N37J2gaD4xEsvjDxIX8SePL665nudYvcTTmU92QFIs9/Kz3r5Ca/tjP8Ak3p0/wAeWSv/AOBVEl/hpNbH1PBTWVZZmXF0v4nvZfg/Kc4c2Nrx86dKUaEWtp1Zapo94ooor68%2BWCiiigAooooAKKKKACiiigAooooAKKKKACiiigAooooAKKKKACiiigAooooAKKKKACiiigAooooAKKKKACiiigArxn9l/wD5Lf8AtHf9lmsf/UK8L17NXjP7L/8AyW/9o7/ss1j/AOoV4XoA9mooooAKKKKACiiigAooooAKKKKACiiigAooooAKKKKACiiigAooooAivbKz1Kzl07UbSK4t7iJo54Jow6SIwwysp4IIJBB4INcp8Of2efgD8HtPsNJ%2BEfwO8H%2BFrXS5bmTTLbw54ZtbGOze4CC4aJYY1EZlCJvK4L7F3ZwK7CigChpXhXwvoWranr2ieG7CzvtbuY7jWb21s0jlv5khSFJJnUAyusUccYZiSEjVRwoA%2BQP%2BCo/wCm/aY8d6f8JdNt2k1S5/Z88f3mgeXkONRtdX8H3NsFI5UtLEiZHOGP0r7Orxnxx/ykL%2BF/8A2Rnx5/6dvCFY4ihTxWHnRntJNP0aaOfF4aljcLUw9T4ZxcX6NNfr%2BCPkrS/2iJvDXiD4Bf8ABXFrwTeFvH/gy18AfGd8AppcxnIjv8/wJHfJKkjH%2BBUAGXr9GlZXUOjAgjIIPWvhf9lP4N%2BCb/xF%2B07/AMEsPifZb/Dh1%2BTXvDNsQAY9G1mMTKLfPT7LcKCGx8sjA84r0n/gmB8ZfGupfDrXv2SPjlfb/iN8E9TXw9rckhO7UtOC507UVzyUlgCjcckmPccbxXzuTYipQqKFX/l7f5VYe7UX/b6iqi/7ePu8HiKnGnhnhswnrjcrUcNXXWVDnlCjV/7hVeejN/yVaEn3PqCiiivqD4wKKKKACiiigAooooAKKKKACiiigAooooAKKKKACiiigAooooAKKKKACiiigAooooAKKKKACiiigAooooAKKKKACvGfHH/KQv4X/wDZGfHn/p28IV7NXjPjj/lIX8L/APsjPjz/ANO3hCgD2aiiigArz79pf4HXXx%2B%2BGsXhPRfF6%2BH9a0rxDpeveG9ck077ZHZ6jp97FdwNLb%2BZGZ4WaLypYxJGzRSOFeNirr6DRQB4b8P/ANlb4jeCPhH4x8A6p8TPB/iHVPHV1qWq%2BIr7Xvh3JPp93qt7MxkMlidRw9gtsIbZbQy%2BZsh3PcuzE15hqf8AwS%2B8Z6d%2Bz5efA34V/GrwT4Wh8XePh4j%2BKNhYfCd4tB8Q2y2UFnHo0GnWmqW72Gn%2BTZ2aSxrcSNOsMiyMy3Ewb7BooA5hPhvp3i34URfDD43aH4Y8U29zpcdpr9iPDQi0m/wAGVbG4luAkJIGInkl2gAbmxmvH/2HZPA/wP8A2PPEk%2BkaDY6N4c8JfEj4lSW%2Bm6Zapb21lZ23i/XCIoo0ASNFRMBVAAAAAxX0PXwZ8fPiRP8ADD/gj98btXsXb7XqnxH%2BI2h2kcf35H1Dx3q9kVX1O2dj9Aa5sbiFhMHUrv7MZP7k3%2BdjjzDFLA5fWxL%2BxGUvui3%2Bdjwf9l/wRqf7S%2BsfBf4OeKv9N1f4peLNQ%2BOfxvmIyHsobmSLSrQ/9O8jhR5ZwF3gjtX6118L/wDBEj4Xx6p4B8UftYX0QeLxNLaeF/A8jL/q/DmiQrYW7KD9wyyRSM47tGG5Jr7orxeGMM6eWqvLepZ/9upWj9/vTfdzufoHFuF/1dwmXcJx/wCZdQjCr54uravi5PvJVZqk3v8AuWgooor6M%2BLCiiigAooooAKKKKACiiigAooooAKKKKACiiigAooooAKKKKACiiigAooooAKKKKACiiigAooooAKKKKACiiigArxn9l//AJLf%2B0d/2Wax/wDUK8L17NXjP7L/APyW/wDaO/7LNY/%2BoV4XoA9mooooAKKKKACiiigAooooAKKKKACiiigAooooAKKKKACiiigAooooAKK534ufFLwb8D/hb4i%2BMfxDv3tdC8LaLc6pq08ULSyLbwRNI%2BxFy0jkKQqKCzMQACSK5L4P/tQab8XND8XSP8IvGPhvxJ4IlWPXvAviCCxOqoZLRLu3Mf2S6ntphNE4CMk5G9Xjco8bqoB6fXjPjj/lIX8L/wDsjPjz/wBO3hCt34FftKaf8avEviT4f6v8KvFfgfxT4TjsZ9Y8M%2BLxYNcJa3iym1uUk0%2B7ureSOQ29wgxLvVoHDKvy5wvHH/KQv4X/APZGfHn/AKdvCFAHNftr/sXeI/i9r%2BlftMfs0%2BLk8IfGrwbbFPD2vHP2XV7UEs2l36DiS3clsEglCxIyMivA7Gdv26vEknxq%2BB2rH4K/tefDGD%2Bz/FXhTVZCIdTjTBNrdxf8vdhLwY7hQxQMmc4jNfoPXiH7V37AvwQ/auu7Pxtqw1Hwt490ZQfDnxG8JXRs9X05lzsHmr/rowSf3b5ADNtKE5rwcxyl1JSq0Ffm1lG/LdracZL4Ki6S2ltLuTlOY57whnf9sZFJKpJNVaU7OlXhJWlGcZJxfNFcslJOM1bm5ZRhUhmfse/t6%2BGP2hNSvPgv8WfDp%2BH/AMYfDp8nxR8PNXmCysyrk3NkxP8ApVsw%2BcMhJUEZypV3%2Bgq/NT9qDwL8Y/C%2BjW/hz/gpR8AtU%2BIej%2BH2B8K/tMfBi2Fv4g0JVOUmu7WP54ih%2BdmXMIwCFkf5q6H9nz/goV8ePhH4SGs6/rVt%2B0t8J7MDb8Tfh0q/8JJosH8I1fSWIl3KOWkwpCjczMWxXJhM9eHn7DGp3X2mrSS/vwV//A6fPTe75Nj7vD4XhPj6s3w3NYXHPWeX15KEr9fqlWpJQrwvflpTmq0U1GM6ySv%2BhVFcB%2Bz5%2B1J%2Bz/8AtUeEV8bfAL4p6V4jsgoNxHaTbbi0J6LPA4EsLezqCeoyK7%2BvpaVWlXpqpTkpRezTun80fI4/AY/K8ZPCY2lKlVg7ShOLjKL7OMkmvmvS61CiiitDkCiiigAooooAKKKKACiiigAooooAKKKKACiiigAooooAKKKKACiiigAooooAKKKKACiiigAooooAK8Z8cf8AKQv4X/8AZGfHn/p28IV7NXjPjj/lIX8L/wDsjPjz/wBO3hCgD2aiiigAoornfiv8V/APwR8BXvxM%2BJuuNp%2Bj2DwRzTRWc1zLJLNMkEEEUECPLPNLNLHFHFGjSSSSIiKzMAQDoqK87sv2rfgJffAu6/aRTx00PhCxknhvr280i7t7m2uYbk2klpJZSxLdJdC5UwfZWiExlxGELkKce/8A25f2a9N%2BHVr8TbrxTrv2S88RPoNvo8XgTWZNcbVEhe4ezOkLaHUFmW3je4KG3BEC%2BccR/PQB65X5Rf8ABQj4iT6H%2BxB4b%2BHWnyjz9S/aa%2BJmv3MJP%2BvstH8T%2BIryaPHu3k/jiv1I8C%2BN/CPxM8FaR8RvAHiC21bQte0yDUdG1Szk3RXdrNGskUqHurIysPY1%2BKP7c3iO/wDH/iLWPh1ojeZP4QvPiMdO5%2BVdR134nalpzQ%2BzNZrI3uBXznFld0MiqpbytH73d/hE7cnyuGf8TZXk8/hxWLwtKV9uSVenKpfy9lSqX8rn6pf8E0PAP/CtP2AvhH4VaDypP%2BEGsb2ePGCst1H9qcH33TNn3r3Gs/wn4csPB/hbTPCOlLi10vT4bO2GMYjiQIv6KK0K9vCUFhsLTor7MYr7kl%2Bh1cQZnLO8/wAZmMt69WrU/wDA6k5/lJL5BRRRXQeQFFFFABRRRQAUUUUAFFFFABRRRQAUUUUAFFFFABRRRQAUUUUAFFFFABRRRQAUUUUAFFFFABRRRQAUUUUAFFFFABXjP7L/APyW/wDaO/7LNY/%2BoV4Xr2avGf2X/wDkt/7R3/ZZrH/1CvC9AHs1FFFABRRRQAUUUUAFFFFABRRRQAUUUUAFFFFABRRRQAUUUUAFFFFAHn/7VfwVuv2jP2bvG3wO07Xo9KvPE/hy6sdO1OaEyx2l0yEwTOgILosoRmQEFlBGRnNcD8Gfhf8AtW%2BE/GXxE%2BOfjrwj8PV8XeOreCO30TSvGV9Np2mrp9gIrCI3MmmxyT%2Bdcy3TzSeTGYI3jVEuCpZvfqKAPBP2EPgz%2B0L8KfD3iTWf2p/D3hCTx54p1OLU/E3i3wt4xu9V/tq68sxlBFcabZ/YLS3jSKG2tkMwWMMXdpTJLNTv/hj4b8Hf8FNvBfjPSdS8QzXniH4PeOJL%2BHVfF2o31pEU1bwlgW1rczyQWQO45W3SMNgbgdq4%2Bh68Z8cf8pC/hf8A9kZ8ef8Ap28IUAezUUUUAFfO3x1/4Jc/sm/GvxS/xO0jw1qXgDxvuMkPjj4b6m%2Bkaikh6yMYv3crE4yzozHH3hX0TRXPicJhcZDkrwUl5rbzXVPzTT8zlxeBwePp%2BzxNNTXmr2fdPdPzTT8z8ufjx/wSO/bZ8I%2BLG%2BKfwj8c%2BH/Hut2rmS08V6ReN4O8Y%2Bu1rq3zZ3bHADTXKtI3queOc8N/8Fb/APgov%2BxDdReFv22f2dda8RaNbukP9reINDbSb8knBCXtuslldqgx85CM56kZr9aaZdWtte20lne28c0MqFZYpUDK6nggg8Ee1fPT4Z9hUdXL8ROjJ9Pii/VPf53fmfS4XirinCYKGBrYhYzDQVo0sZD6yoLtSrOVPF0Uuip4mUV0pnyn%2Bzl/wWn/AGAP2iUt9PX4vR%2BDdYmwDo/jhFsCG6YW4LNbPk8ACXceOBmvqnT9QsNWsYtT0q%2BhubaeMPBcW8odJFPIZWHBB9RXgfxl/wCCV3/BPz47PNdeOf2XvDcN3OSz6h4fgbS52c/xs1m0e9v9/dnvmvF7H/giY3wXuzqX7E/7dvxU%2BF7tcecdNkvU1LTSc5w1sDAJB/10L/jXTTrcSYXSvShWXeEuSX/gM7x%2B6SPHxuYUaj5qeBlTfanWVSPyVaNKqvRzn62V391UV8P3af8ABeT4C2rtZ3fwg%2BONktx8vmwto%2BqyRD/ZBtrZCfrIc%2Btcp4h/4Lc/HH4EMYf2vP8AgmZ8QfCEMB2z6vp14bm0f1KPJBHER9JW%2BtXPiHBYdf7VCdL/ABQlb/wKPPH8Uc%2BGeNxcuWlhK0n/AHaUqn4UnVl/5Jr0ufoXRXw74A/4OEP%2BCe3jVQdYvPG3hzC5mOr%2BFHmEQ9T9jefivWvBv/BWb/gnF46CHRP2uvCcG/7v9szy6dj6/a0jx%2BNdFHPclxC/d4mD/wC3kvzsclbNctw1d0K9VU6i3jUvTkvWNWNKS%2BcUfRFFcT4T/aV/Zz8eBD4G%2BP3grWd/3P7J8VWdxu%2BnlyHNdpHLHNGssMiujDKspyCPUGvShVp1VeEk15NP8mzsp1qNZXpyUl5NP8mx1FFFWaBRRRQAUUUUAFFFFABRRRQAUUUUAFFFFABRRRQAUUUUAFFFFABRRRQAV4z44/5SF/C//sjPjz/07eEK9mrxnxx/ykL%2BF/8A2Rnx5/6dvCFAHs1FFFABXkH7a/w38ffEP4T6RffDLwy2u6x4T8f%2BHfE8Ph1LuGB9Wi0/U7e4nto5J3SJZjCkhi810jMqxh3RSXX1%2BigD5P8ACvwJ8d%2BJ/wBnb4oeHvjJ%2Bz94ztrvx343vPHGn6B4c1/Rl1LS7hL%2BCTTreGdr37MupRGwtb0lnNoJZNnnSgNnz74Wfsu/tTfBzxjbftdan8OPGvjrW9R%2BMmq%2BJNX8Eaz4h0D/AISNNOufCtloUUzyxTW2k/alk0yGRoYJUijt7pkRneLbJ940UAeNfstfAX4h/DH9ivwn8C/EnjO68M%2BKLXw6qalqnhk2tw%2Bk3krmaWO2N3BNBKsTyNErSQsrKgOwZAH5Ofs%2BfDfWvFH7WOt%2BFfEPijUPEMur/t0XejjVdVigW4vbPQtV1i%2BvzItvFFCDJJewyOI40QN91VGBX7kV%2BXv7H3w4spf%2BCk3hPQLZ0lk0r4ifG74g6jGg4V73xbqGixsw7kLaRgHselfPcRYd4mjQh09pBfe0vy5j7Lw9wrlxhSzF7YKjjMT6Shg68Kb/APBmIj6Oz3SP1Cooor6E%2BNCiiigAooooAKKKKACiiigAooooAKKKKACiiigAooooAKKKKACiiigAooooAKKKKACiiigAooooAKKKKACiiigAooooAK8Z/Zf/AOS3/tHf9lmsf/UK8L17NXjP7L//ACW/9o7/ALLNY/8AqFeF6APZqKKKACiiigAooooAKKKKACiiigAooooAKKKKACiiigAooooAKKKKACiiigArxnxx/wApC/hf/wBkZ8ef%2BnbwhXs1eM%2BOP%2BUhfwv/AOyM%2BPP/AE7eEKAPZqKKKACiiigAooooAKKKKACkZVdSjqCCMEEcEUtFAHjnxb/4J7fsRfHMyzfE79l7wdfXM%2BfO1C20hLO7fPrcW/lyn/vqvBPHf/BBz9lfWI/%2BLZfEz4geEkjH%2Bj6UNbTVNNUdg1tfxy7wPQvX29RXmYnJcpxbbq0It97JP71yv8z67B8e8ZYHDLDQx1SVFf8ALuo1Wp9v4deNentppFaaaH5keLP%2BCGPxk0Qu3hHxL8C/HkI/1Vn4z%2BFp0AgdlM2iOjt/vcGuMk/4Jv8Axj%2BFMhkuv%2BCXn2hFOZ9U%2BC/7RF9YlfV0ttRlkdvZRX61UV5U%2BEcpbvTvF/8Absv/AEqLf/kxnUz/ACDMHfNeH8uxD/mWFWHn/wCB4Sph9f8Atzfufkp5HhL4dfJ421T/AIKJfCry/v3EeqyahpKf9tER94H0ra8I/tB/A/Vrn7B4G/4L6/EXQ7tG2va%2BP/CQZoW9Ha8t4kJ9fmxX6o1jeLvhx8PPiBbfY/HngPRtbhxjytX0uG5XHpiRSKj/AFcrUv4VVP1U4/jTrL/0ky%2BqeD2K/i5LiMO%2B%2BHx9W3yhiIS%2B7nXqfEfgtf2rPFuz/hUv/Be/4ceKw3%2BqtJfh94flf6FoLkvn6jNd9F8Kf%2BCyOnxLPo/7YHwf1tCMo%2Bp%2BA54A49cwMf0r0Lxp/wAEx/8Agn14%2B3nxB%2ByD4EjaTO99K0KOwYn13WvlnPv1rgpf%2BCKv7CulyNcfDPQ/GfgiVm3CXwl8QNSgKt6gSzSAflR/ZmaU9lf/AA4irH8Jxn%2BYf6p%2BEeI/g5nmOH8pwhWS%2BdLExf3QGf2d/wAFydL/AOPXxF%2By/qijr9ttPEEDH/v3xmj/AITD/gttp3/H58Hv2eNRx1/s/wAQatDn6eaKP%2BHXPjjw183wt/4KWftD6Vj/AFdvrPjKPVYI/YRywrx7Zo/4ZA/4Kb%2BF/m8E/wDBVltQiX7ll4o%2BEOmzZ%2Bs6OH/Sj2OYQ%2BKFf/t2tTl%2BcYh/xDnhKt/unFdvKrTxdP8A9166/Gwf8Lm/4LH2P/H1%2Bxf8Kr/HX7F8RZIs/wDfxKP%2BGk/%2BCt1n/wAfP/BNLwreY/59PjJZx5/77jpf%2BEO/4LY%2BF/8AkC/GX9n3xQF/6GHw9qtkzj/t1JANH/C0/wDgs14b/wCQ1%2Byr8GvEu3r/AMI744urPf8AT7Upx%2BNHtK0finio/wDbkJflGQf8QoxlT/deI8NU/wC5ulB/dWwlP8WJ/wANc/8ABVG1/wCPn/gkTDcDu1t8e9HX9GizR/w2n/wUmg/4/f8AgkFqq%2BvkfGfR5f5R0v8Aw2T/AMFLNB48X/8ABJW8mjXrc6B8YtKut30i2Bh%2BJo/4eUfHPRf%2BR1/4Ja/HWDH3/wCwtLttSx9PLkXNH1qC%2BLF1o/4qVv8A3AH/ABB3juX8DHQq/wCDFZbP/wBywYn/AA3P%2B37F/wAfX/BI3xWPXyfiXpUn8lo/4b2/bgj/AOPj/gkr47H/AFz8b6a/8hS/8PdfAOn/API4/sWftIeH8feOsfCaVQv4pM1H/D6r9h%2Bx/wCRtvPHWgY%2B9/bHw71JNv12RNR9ewq3zJr1jBfnTiH/ABBfxZf8OjiZ/wCCGGqf%2Bmp1A/4b/wD2zF/1n/BJv4jD/d8U6c1J/wAPBP2wh97/AIJO/Ev8PEWnn%2BtXdL/4LX/8ExNWbZD%2B1HawvnBS88M6rAQfQ%2BZagV0mlf8ABVz/AIJz6xj7J%2B134QTPT7VePB/6MVcVpDFYefw5mn/4JOSv4R%2BLGF/jYTHR9cG/0os47/h4N%2B19/wBIn/id/wCD%2Bw/xo/4eC/tgH7v/AASe%2BJn4%2BIdPH9a9T0z/AIKGfsG6tj7H%2B2X8MAT0WfxzYxE/g8oNb%2Bm/tdfsn6xj%2ByP2nvh5dZ6fZvGtg%2Bf%2B%2BZTXRHmn8OYX/wDBP%2BZ49bgPjzDfxY4qPrhWvzw6PDR/wUD/AGxT0/4JO/Er8fEmnj%2BtH/DwD9ss/d/4JN/Eb8fFGnivo/T/AI1fBvVsHSvi14Zuc9Ps%2BvW75/J62rHxDoGqY/szXLO4z08i5R8/ka3jhcXP4cbJ%2BkaX%2BR5dXIM/w/8AFxNWPrSgvzpo%2BVv%2BG%2Bv2124i/wCCTHxAPpv8Y6atH/Ddv7eMvFr/AMEkPGRPbzfiHpafzFfWtFX9Qx3/AEFz/wDAaf8A8ic39mZl/wBB0/8AwCl/8gfJX/Da/wDwUfuONP8A%2BCQmssT0%2B0/GPSIv5xnFH/DWv/BVW84tf%2BCSFraZ6Pd/HnSH/MJFmvrWij%2Bz8Y98XU%2B6n/8AIB/ZWPe%2BOq/dRX/uM%2BSv%2BGhP%2BCvOocWn/BPLwPp%2Behv/AItQS4%2BvlJVP4J%2BLP2zfFP8AwUK8GSftc/Cbwd4VEXwZ8Zf8I7H4U12S%2BafOreFfP84uAF24h2467nz0FfYNeM%2BOP%2BUhfwv/AOyM%2BPP/AE7eEK1oYGrRqqcsROVujcbP1SgvzN8Nl1ehWVSeKqTt0k4Wfqowj%2BZ7NRRRXoHqBRRRQAUUUUAFfnL/AMEnYpPHn/BRP9pDxpLGSvgPxB4i8LwSMOgvfGmu6kyg/UAmv0ar4i/4IweCn0/WP2pfiTdQbJdc/aw8b2cbEffgs9WuFU/TfNKPwNebjqbq4nDR6Kbk/wDt2Erfi0fa8K4yngMlzqo/inho0o/9xcTQUvvhTkj7dooor0j4oKKKKACiiigAooooAKKKKACiiigAooooAKKKKACiiigAooooAKKKKACiiigAooooAKKKKACiiigAooooAKKKKACiiigArxn9l/8A5Lf%2B0d/2Wax/9QrwvXs1eM/sv/8AJb/2jv8Ass1j/wCoV4XoA9mooooAKKKKACiiigAooooAKKKKACiiigAooooAKKKKACiiigAooooA8e/4KDnxyP2HPiwfhv8A2n/bH/CBan9n/sTf9u2fZ3837N5fz%2Bf5XmeXs%2Bfft2/Nivmz4ReJfh5p3wx/ae8Nf8E5Nf8ADUHh3UvC0z/BWw8C3VuthdeJYvDubw6SkJ8twkr6aZTACq3LS78SmWvvSigD43/4Jln9nw/GPx7/AMMWnSP%2BFT/8K38FeZ/wjm37D/wlW/Wf7S8zZx/aP2P%2ByPte797u8nzP3m%2BvQb/Uvivd/wDBTbwXZ%2BNvBfh7T9Ct/g944HhrUdK8Tz3l3fodW8JeY1zbSWUKWhGEwEmuA245K7Ru%2Bh6%2BcP2j9X%2BNej/t4fCef4HfD/wt4i1JvhH47W7tPFfjC50WCOD%2B1PCRLpLb6fes77to2GNRgk78gKQD6Porxn/hOP8AgoX/ANGv/Bn/AMPxq3/zL0f8Jx/wUL/6Nf8Agz/4fjVv/mXoA9morxn/AITj/goX/wBGv/Bn/wAPxq3/AMy9H/Ccf8FC/wDo1/4M/wDh%2BNW/%2BZegD2aivnHSf2jv27dY%2BM%2Bv/A63/ZQ%2BEi6p4d8L6Rrt5cv8ddU8iSDUbnUreFEI8Mbi6tpc5YFQAHjwWJYL1H/Ccf8ABQv/AKNf%2BDP/AIfjVv8A5l6APZqK8Z/4Tj/goX/0a/8ABn/w/Grf/MvR/wAJx/wUL/6Nf%2BDP/h%2BNW/8AmXoA9morxn/hOP8AgoX/ANGv/Bn/AMPxq3/zL1y/gH9o79u34ieK/G/hDR/2UPhJDceA/FEWharJc/HXVAk88mlafqYeLb4YJKeTqMKksFO9HGMAMwB9HUV4z/wnH/BQv/o1/wCDP/h%2BNW/%2BZej/AITj/goX/wBGv/Bn/wAPxq3/AMy9AHs1FeM/8Jx/wUL/AOjX/gz/AOH41b/5l6P%2BE4/4KF/9Gv8AwZ/8Pxq3/wAy9AHs1FfOPwi/aO/bt%2BMvhS78X%2BHP2UPhJbW9n4o1vQpI73466ormfS9VutMncbfDDDY01pIyHOSjKSFOVHUf8Jx/wUL/AOjX/gz/AOH41b/5l6APZqK8Z/4Tj/goX/0a/wDBn/w/Grf/ADL0f8Jx/wAFC/8Ao1/4M/8Ah%2BNW/wDmXoA9morxn/hOP%2BChf/Rr/wAGf/D8at/8y9cv8Ef2jv27fjx8GPCHxx8K/sofCS10vxn4X0/XdNttQ%2BOuqLPDBd20dxGkgTwwyhwsgDBWYZBwSOaAPo6ivGf%2BE4/4KF/9Gv8AwZ/8Pxq3/wAy9H/Ccf8ABQv/AKNf%2BDP/AIfjVv8A5l6APZqK8Z/4Tj/goX/0a/8ABn/w/Grf/MvXL/G79o79u34D/Bjxf8cfFX7KHwkutL8GeF9Q13UrbT/jrqjTzQWltJcSJGH8MKpcrGQoZlGSMkDmgD6Oorxn/hOP%2BChf/Rr/AMGf/D8at/8AMvR/wnH/AAUL/wCjX/gz/wCH41b/AOZegD1rU/D2ga2uzWdDs7sEYIurZJP/AEIGub1T9nr4Ba5n%2B2vgd4PvN3X7V4ZtZM/99RmuJ/4Tj/goX/0a/wDBn/w/Grf/ADL0f8Jx/wAFC/8Ao1/4M/8Ah%2BNW/wDmXrOdKlU%2BKKfqk/zTOuhj8fhf4FacP8M5x/8ASZRNTU/2Hf2K9ZydW/ZC%2BF9yT/FN4B05j%2BZhzWBqP/BND/gn5qmftP7HPw9XP/Pt4Zgh/wDRaisL4u/tHft2/BrwpaeL/Ef7KHwkube88UaJoUcdl8ddUZxPqmq2umQOd3hhRsWa7jZznIRWIDHCnqP%2BE4/4KF/9Gv8AwZ/8Pxq3/wAy9c8svy%2BfxUYP/tyP/wAievR4w4vw38LMsRH0xFdf%2B5jmNQ/4JG/8E3dTz9p/ZJ8Mrn/n3NxD/wCgSisS/wD%2BCJ//AATB1HP2j9li0XP/ADw8TarF/wCgXQr0L/hOP%2BChf/Rr/wAGf/D8at/8y9H/AAnH/BQv/o1/4M/%2BH41b/wCZesJZLk8t8NT/APAI/wCR6tLxM8R6H8POcWvTE1v/AJYzzH/hyD/wTgt/%2BQP8HNY070%2BxePNYXH/fV0aX/hy5%2BxhB/wAgq7%2BIdh6fY/iPqIx/31Ia9N/4Tj/goX/0a/8ABn/w/Grf/MvXL%2BPv2jv27fh34r8EeENY/ZQ%2BEk1x488US6FpUlt8ddUKQTx6VqGpl5d3hgEJ5OnTKCoY73QYwSyx/YWS9MPBekUvysdP/EV/E1/FnOJl/iqyl/6UpHNf8Oc/2d4P%2BQZ8bfjVZen2X4oXYx%2BYNH/Dof4bQ/8AIO/bF/aMs/T7N8WZhj84jXpv/Ccf8FC/%2BjX/AIM/%2BH41b/5l6P8AhOP%2BChf/AEa/8Gf/AA/Grf8AzL0f2FlHSiv/ACZflNB/xFTxEe%2BZVH6qlL/0rDyPMf8Ah01p8X/Hh/wUT/aqtfQQfGAgfrbGqfwV/ZVvP2ZP%2BChfgtbn9pj4p/EVda%2BDPjLYPiZ4qGpnT/J1bwrn7ORGnl%2BZ5o39d3lR9NvPrX/Ccf8ABQv/AKNf%2BDP/AIfjVv8A5l6oeB/A/wC1Z4x/as8OfG743fDj4e%2BGdG8M/D3xDocMPhX4h32tXV3dalfaJcIzJcaRYpFGiaXKCwd2LSoAuMkbUMqy/DVVUpQtJec/yc2vwPPzTj7i/O8DPB47Fc9Odrr2eHV7NNe9DDU5rVLaa7O6un7rRRRXoHx4V8/f8FLjpg/Zrtf%2BE08v/hCv%2BFheF/8AhZH2j/j3/wCEe/tm0%2B2/as8fY/L/AOPnd%2B7%2Bzef5n7vfX0DRQB%2Bd%2Bo%2BKPhy//BMz40eCPhj4n0%2BHwVN44v3%2BHdvo9xG1nY%2BFJ9bgtzf%2BQmS%2BgR3P293EYEL2EUqRMIyhHjEmk/Cu4%2BHtl4J1L4l/BKy8ARftDa7NYeO9c8GxTfB69X/hErRkjtdHa%2BSGIefNLHGgv2QX9pqEwkeR/sw/XeigDwn9iTUPiFb/APBOj4V3fhLwhNdeIoPhho8dlpXjrxDPbvcSpaRIDdXgtJJV3gb95tt3zDManIGd/wAExfDmoaF%2Bzn4g1DxBo9nYa1rPxt%2BI2oa/Z6dqLXlvDev4x1dZEineGFpo12BVdoo2YKCUUnA%2Bh6%2BSv2SvFn7Z2n/D3xRZ/DH4B/DDV9CT40/EX%2Bz9R174u6jpt3Mv/CZ6yWMltFoFykRDbgAJnyADkE7QnFNpvoXGpUhCUE9JWuu9ndfc9T61orxn/hOP%2BChf/Rr/AMGf/D8at/8AMvR/wnH/AAUL/wCjX/gz/wCH41b/AOZemQezUV4z/wAJx/wUL/6Nf%2BDP/h%2BNW/8AmXo/4Tj/AIKF/wDRr/wZ/wDD8at/8y9AHs1FfOPwR/aO/bt%2BPHwY8IfHHwr%2Byh8JLXS/GfhfT9d0221D466os8MF3bR3EaSBPDDKHCyAMFZhkHBI5rqP%2BE4/4KF/9Gv/AAZ/8Pxq3/zL0AezUV4z/wAJx/wUL/6Nf%2BDP/h%2BNW/8AmXo/4Tj/AIKF/wDRr/wZ/wDD8at/8y9AHs1FfOPxu/aO/bt%2BA/wY8X/HHxV%2Byh8JLrS/BnhfUNd1K20/466o080FpbSXEiRh/DCqXKxkKGZRkjJA5rqP%2BE4/4KF/9Gv/AAZ/8Pxq3/zL0AezUV4z/wAJx/wUL/6Nf%2BDP/h%2BNW/8AmXo/4Tj/AIKF/wDRr/wZ/wDD8at/8y9AHs1FeM/8Jx/wUL/6Nf8Agz/4fjVv/mXrl/i7%2B0d%2B3b8GvClp4v8AEf7KHwkube88UaJoUcdl8ddUZxPqmq2umQOd3hhRsWa7jZznIRWIDHCkA%2BjqK8Z/4Tj/AIKF/wDRr/wZ/wDD8at/8y9H/Ccf8FC/%2BjX/AIM/%2BH41b/5l6APZqK8Z/wCE4/4KF/8ARr/wZ/8AD8at/wDMvR/wnH/BQv8A6Nf%2BDP8A4fjVv/mXoA9mor5x8fftHft2/DvxX4I8Iax%2Byh8JJrjx54ol0LSpLb466oUgnj0rUNTLy7vDAITydOmUFQx3ugxgll6j/hOP%2BChf/Rr/AMGf/D8at/8AMvQB7NRXjP8AwnH/AAUL/wCjX/gz/wCH41b/AOZej/hOP%2BChf/Rr/wAGf/D8at/8y9AHs1FeM/8ACcf8FC/%2BjX/gz/4fjVv/AJl65fVv2jv27dH%2BM%2BgfA64/ZQ%2BEjap4i8L6vrtncp8ddU8iODTrnTbeZHJ8Mbg7NqkBUBSCEkyVIUMAfR1FeM/8Jx/wUL/6Nf8Agz/4fjVv/mXo/wCE4/4KF/8ARr/wZ/8AD8at/wDMvQB7NRXjP/Ccf8FC/wDo1/4M/wDh%2BNW/%2BZej/hOP%2BChf/Rr/AMGf/D8at/8AMvQB7NRXzjpP7R37dusfGfX/AIHW/wCyh8JF1Tw74X0jXby5f466p5EkGo3OpW8KIR4Y3F1bS5ywKgAPHgsSwXqP%2BE4/4KF/9Gv/AAZ/8Pxq3/zL0AezUV4z/wAJx/wUL/6Nf%2BDP/h%2BNW/8AmXo/4Tj/AIKF/wDRr/wZ/wDD8at/8y9AHs1FeM/8Jx/wUL/6Nf8Agz/4fjVv/mXrl/AP7R37dvxE8V%2BN/CGj/sofCSG48B%2BKItC1WS5%2BOuqBJ55NK0/Uw8W3wwSU8nUYVJYKd6OMYAZgD6Oorxn/AITj/goX/wBGv/Bn/wAPxq3/AMy9H/Ccf8FC/wDo1/4M/wDh%2BNW/%2BZegD2avGf2X/wDkt/7R3/ZZrH/1CvC9H/Ccf8FC/wDo1/4M/wDh%2BNW/%2BZerf7K3w5%2BNPg/WPih47%2BOmgeF9J1Tx98Qotcs9K8J%2BJbnVre1tYtB0fTFV7i4srNmkaTTpXKiLaFkQbmOcAHrdFFFABRRRQAUUUUAFFFFABRRRQAUUUUAFFFFABRRRQAUUUUAFFFFABRRRQAV8r/tPftafFz4YfGPxZrXgHw74Pk8MfB/w/wCH73xqda0i4m1XVLfV7%2BVLmCwuI7iNLLyLazjuMyRTi5kKRkQ%2BX5p%2BqK8Z%2BM/7EPw4%2BN3xSPxM1zxz4q0uLUbXSLXxf4a0a6tU07xTBpd7Je2MV8stvJMFjmmlz9nlgMschimMsYVAAezUUUUAFFFFAHzH4c/aV%2BJkP7f/AIo%2BD/xG1jw94T8Nr4gtNE8GRaj8ItZS68YwDQINRxB4ja7XTmlju7nUALQQvJ5dpMAoLNIv05Xlfiz9lqDx/wDGTSPin49%2BN/jXV9K8Pa7HrWgeALg6ZFo1jqEdu8Ec4aGyS9l2eZJIqTXUkYkfds%2BRAvqlABRRRQB4v/wUF%2BLvxw/Z%2B/ZH8afHr4BXvhSPWPBOhXeuXUHjDRbm%2Btru0tbaWZ7dEtrq2ZJXZEUSFyqAsSj8CvP/AB5%2B1p8XPBfx48W6n4U8O%2BEIvh54Q%2BMfhH4feMrObSLg63quq67BoqR6hDdpcLDHHB/bmkxmKS3leRIZ8Sx7UFew/tY/s42X7WnwI179n3Wvir4p8I6T4nspbHXL/wAILp32u5spYnimtt1/aXUaI6vyyIsgKja6854uD9gHwdP8RbP4i%2BKvjj4%2B11jrOk654m0bUJdKisfE%2BuaYkaWOrXsdtYRMtxEILTC2zQQMbG2LxMY8kA97ooooAK8X/bJ%2BLvxw%2BCVr4B8Y/Cy98Kf2NqHxM8OeHvF9j4g0W5ubq5tdV1mx00GzlhuoUtpI1uZZN8iTqSiLs5Jr2ivKv2rv2W3/AGqvDeheF5/j7438DW%2BheJLDXUbwXDo7Pd3tjeQXlm0p1LT7wbYri3jcLGEDcrJvU7QAecfs8/tK/EzW/wBqrxb8Efihq/h7wnp0PinW7fwT4Sk%2BEWs6Zc69bQukpv7fWri7%2Bwag7GSaWWK2gL8l2K4Yn6cryXSf2UQ/xk0X4y/Ef9oDx341m8L3d5d%2BE9C8QjSYbDR7q5t5LWS4iWw0%2B2llf7PNPCvnySqizvtAJBHrVABRRRQB4f8At3fFz48fs/fBrV/jr8KPGPgWx0/wtotzeXui%2BLPDN7f3PiG9yi2emWcltewfZ5riUi3RvKumaWeILCx%2BVvP/AII/tffGfXPiX4K/tbwZ4S0j4aeN/if4o%2BG3hXw1p2lzR6vol/oEOrb557kXDW80EjeH9TRYY7eIxq1sfMkywHp/7Sv7IMH7SXjzwR8QJv2gfHfhC58A3dze6LY%2BGItGns5L2VBGt5NBqenXiPPDH5iwyAKYxPKR8zZFXwH%2Bw18PfAfxlt/i7D8RfF2pQadrup69onhDUrmy/snStb1GN49Q1SBIrVJ/PnE92WV5nhRr65McUfmcAHtdFFFABXy/%2B1z8eP2l/gt8RNP8KaVD4A8a6P45h1q20X4cxeD76TWEtbTQ7q7kv7icXrxXVsLqK3tpIRaxA/b4UExkZEk%2BoK8Om/YmuI/2j/Ff7TWiftV/EvTtX8W6bDp1zpcMHh%2Be00%2BzhgaOG2s2udJlubeJZXe62LNtedy7hwdtADP2EP2g/G/x7%2BHt5dfFfx9o194u04Wba/4bsvhdq/hG80B57ZZRBc2Wr3U9w4Lb/LuAEjkVDtDbSa90rzf4Hfs3ad8GfE/iT4h6x8UvFPjjxV4risbfWPE/i5rBbl7SzE32W1SLT7W1to4o2ublxthDM1xIWZsjHpFABRRRQB8c/wDBQT9uP4qfsYeOf7T1zRdA8Y%2BEX0bUdbt/Csvw51Oylt003Rr7Ukk/4SKa6fTJ7v7Xpo2WKwJdCOZZQNsLSN69%2BzR8Xfjnq3xU8b/s9ftHXPhTUPE/hHSdD1qPWvBWkXNhY3NjqgvI0iMFzc3LrLFcaddqX83EiGJtkZJUVvjr%2Bwl4I/ac1q6tfj/8W/GvijwXcyXEi/DK8k02HRYpJrGayZt9vZR30gEdxMwSW6dA77tvyIF6f9nz9mbSPgHea94iu/ih4s8ceI/Ehs49W8VeNbize%2BltrSIxWtqPsdtbwrFEHlYYj3s88ruzs5NAHpVFFFABXxH%2B1P8AtlftZ/Bv41eIPhR4O8N%2BHPGup2Gi3Gu%2BGAnwP8QRyaKBqOmWqGFvtzjxNILHVLjzv7L8p4WhKyiMTCOvtyvD9e/Yt1PxL49PxO1r9rn4oza3p8F5F4NvCmgAeFVupoZJ/skY0nZOzRwLb7r1bpliZwpV3ZyAdV%2Byx8WH%2BMnwjg8WXvxM0bxVfw6jdWWqX2jeDL7w6La4ilZWtZtN1C4nurOeMYV45nD5%2BbaoYCvRq4b4B/AXw98APDOp6NpXinW/EGo6/r1xrfiTxJ4jmga91W/mCI08ot4oYExHFDEqQxRxqkSAKMEnuaACiiigAooooAKKKKACiiigCj4o8Q2HhLw1qPivVQ5tdMsZru5ES5by40LtgdzhTXzn%2BxN%2B0n8a/H/inR/Bnxs8PeDLMeOvhbZfEbwzD4M0q4tBpkd5cE3en3ZmuJRdzRvc2z/bEEAnaWYmCPaC/wBLXdpa39rLY3tuk0M0bRzRSqGV1IwVIPBBHGK8h/Zm/Yr8Bfswaq%2Br6B8QfFviWW28MWPhnw6PFl7azDQNCs3ke3021Nvbwlo1MnzSzma4kEcXmTP5a4APYqKKKACuF/ag8efEX4Wfs0fET4nfB/wouveLfDngXV9U8LaG1jNdDUdRt7OWW2tjDAyyzCSVETy42DtuwpBINd1Wd4t0S/8AEvhjUPD%2Bl%2BK9R0K5vbSSG31rSFga6sXZSBNELiKWIup5AkjdMj5lYZBAPLv2Kfi1P8UPhnfWWrfELw/rOp%2BHdVXTrzTNE%2BGGp%2BDn0NBbQSRWdxpWqXM9zC4RxIrt5aPFLFsTA3v7FXnnwH/Z20n4HXniXxHc/ETxJ4x8SeL9RhvPEXinxW9mLu6MNulvBEI7G2traKKONAFWOFMlnZizMzH0OgAooooA%2BXP2qP2sfih%2Bzh8XvHFl8StG8JeIvhfYfs7%2BL/HttoVvolwmqu2iDS1ntri5kuXt5op1vpwEFshUImXfLCu3/Zn%2BL/x81T4ueMv2df2ln8JXnijwx4Y8PeJY9V8FaTc2NlJZas%2BpW62xhubm5cyw3GkXYMokCyI8TeXGdy1B8Y/2FfDvx0%2BOrfGXx58dvHMumzeCtT8I33w9hg0X%2BxLvRtSW2%2B32khfTWvSJ2tIHZxdB1KEIyIzIek/Z3/Zd0P8AZ9vta8Rz/FDxb438Q6/a2Flf%2BJ/G1zaSXpsLFJFs7MfZLa3j8qIz3DglDI73Mru7s2aAPT6KKKACvkT41/tL/tbeDNd/aA8CW/hXwZ4svfAXh/wp4k%2BG1jpPw/1O/nWPUdV1KEJeWsV48uozwLpsc6m2FuS5IVflVq%2Bu68Ll/Yo8QxfHTxt8f9C/bQ%2BK2lat430ix0y5sbKz8MNaabbWVxcz2aWwl0V5P3RvLpQZnlLrORJ5hVCoB1f7Knxbm%2BMvwpHibUfido3inUbXVbmx1a60fwRf%2BGzZ3ETfNaz6ZqNxPdWk6KV3JMwYhlbaqsK9JrhPgH8A9A%2BAOhazY6f4t1zxHqvibxBLrnifxN4klt2vdVv5IYYPNkFtDDBGFgt7eFUiijRUhQBc5J7ugAooooA%2BNv2lv2u/2lv2ePjNB8NtZT4Z%2BNb7W4IJvCMOneFr20l8F3mpeIdM8PaRNqcr30wuop21ecFols5HFjdLGGXzDF7j%2Byr8X/iR8Rh4/wDh98Yjok/ir4aePG8NazqvhrTprOw1PzNL07Vre4ht5p55LfNrqlujxtNLiSOTDEEY4W2/4Jq%2BEmuviG/iH9pf4nazb/EnXjrmsW%2BpHQvMs9SiuIZ9Puba6i0tLpTYPb24tI3mkiiWFAyPzn1j4B/AXQ/gH4e1bTbLxfrniTVvEWvTa14n8UeJXtjf6vfSRxQ%2BdMLWCCBdkEFvAiRRRoscEaheCSAd1RRRQAy5%2B0/ZpPsezzth8rzc7d2OM45xmviD4rftc/tp/DT4ia58Nre28B%2BM9e8MXvhq31bx14I%2BCuv6tH4ct9Wa8e9sJdKs9Snu7maOGysbomKdP3d1C0sCAxNJ9vXcMlxay28N1JA8kbKs8QUvGSMBl3ArkdRkEeoNfPfwY/YC8QfAT4bXHw0%2BHf7dXxiijutWfU5tZvLLwnPqEt3K8slzPNM%2BhH7TJO8u6SScSPmNNhQDBAPWfgJ8Q7L4rfB3w/8AEKw%2BIGjeKk1PTxI%2Bv%2BH9JmsLS7kBKyFLWeaaW2KurI0MkjvGysrHcpA6%2BuS%2BBfwX8Jfs%2B/C/TvhT4Kub%2B4srCW6uJr7VbkTXV9d3VzLdXV1M4VQ0s1xPNK%2B1VXdIdqquFHW0AFUfE8PiS58N6hb%2BDdTsbLV5LKVdLvNTsHuraC4KERySwxyxNNGrYLIskZYAgOpO4XqzfGOg3/ijwtf%2BHdL8W6loNzeWrxQa1o4gN1YuRxNELiKWIup5AkjdDj5lYZFAHw98N/27P2tfjB8U9b%2BCXws034fJ4z02112%2Bk8Z%2BK/hdrWhrqmmaRa6LKljLol5fJqGnyvd%2BIdiTTzPH5UMlwkLrOgP2N8Avi1pvx8%2BBPgr466NpstnZ%2BNfCWm69aWcz7ngivLWO4WNiAMlRIAT6ivFtX/4JkeB9a1y%2B%2BIt3%2B0p8U0%2BIGrJeWutfEm2vdIh1a/0y6trW2m0wommizhtillaMPItopVkgWVZQ5Zj9B%2BC/B/hr4eeDtJ8AeDNJi0/R9D0yDT9JsIc7La2hjWOKNc84VFVR9KANOiiigDl/jTqPjjRvhbrWt/DnxDY6Xq1hZm6hvtQ8H3viBEjjIeUDTrGeC5vJGiV1SKGQOXZcK5%2BRvi34S/8ABRH4/eJPGmh6n43uPCPgTwZqU86%2BIPHF58DPEU1trF/Dr91pCJcyrfRp4ZnktbS1/cao0ksDyrG%2BdgSvtv4meDNd8e%2BEpvDnhv4pa/4NvJJY3i1/wzFYvdwbWBKqt/bXMDBgCpDxNwTjBwR4rdf8E5vCmoeD7j4bat%2B0h8TbvwxrmoTX/jzQJrjRxF4wu57xrq4mvpV00XEXmllhaOzltYhDEkaoo3bgD6JooooAKKKKACiiigAooooAKKKKACiiigAooooAKKKKACiiigAooooAKKKKACiiigAooooAKKKKACiiigAooooAKKKKACiiigAooooAKKKKACiiigAooooAKKKKACiiigAooooAKKKKACiiigAooooAKKKKACiiigAooooAKKKKACiiigAooooAKKKKACiiigAooooAKKKKACiiigAooooAKKKKACiiigAooooAKKKKACiiigAooooAKKKKACiiigAooooAKKKKACiiigAooooAKKKKACiiigAooooAKKKKACiiigAooooAKKKKACiiigAooooA/9k%3D\">"
            ]
          },
          "metadata": {
            "tags": []
          }
        }
      ]
    },
    {
      "cell_type": "markdown",
      "metadata": {
        "id": "hVoiJGdl2kCh",
        "colab_type": "text"
      },
      "source": [
        "# Submit the MLP with 2 hidden layers\n",
        "Run these cells after training the MLP with 2 hidden layers"
      ]
    },
    {
      "cell_type": "code",
      "metadata": {
        "id": "zf5lbHkv2kCi",
        "colab_type": "code",
        "colab": {}
      },
      "source": [
        "## GRADED PART, DO NOT CHANGE!\n",
        "# Validation loss for MLP\n",
        "grader.set_answer(\"i8bgs\", s.run(loss, {input_X: X_val_flat, input_y: y_val_oh}))\n",
        "# Validation accuracy for MLP\n",
        "grader.set_answer(\"rE763\", accuracy_score(y_val, s.run(classes, {input_X: X_val_flat})))"
      ],
      "execution_count": 0,
      "outputs": []
    },
    {
      "cell_type": "code",
      "metadata": {
        "id": "r8vbU1V-2kCk",
        "colab_type": "code",
        "outputId": "57a9a3bf-6294-4863-933b-82d7cba0e91c",
        "colab": {
          "base_uri": "https://localhost:8080/",
          "height": 34
        }
      },
      "source": [
        "# you can make submission with answers so far to check yourself at this stage\n",
        "grader.submit(COURSERA_EMAIL, COURSERA_TOKEN)"
      ],
      "execution_count": 0,
      "outputs": [
        {
          "output_type": "stream",
          "text": [
            "Submitted to Coursera platform. See results on assignment page!\n"
          ],
          "name": "stdout"
        }
      ]
    }
  ]
}